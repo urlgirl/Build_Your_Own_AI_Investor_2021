{
 "cells": [
  {
   "cell_type": "markdown",
   "metadata": {},
   "source": [
    "# Exercise 5 – Numpy Basics\n",
    "Here we get aquainted with Numpy."
   ]
  },
  {
   "cell_type": "code",
   "execution_count": 2,
   "metadata": {},
   "outputs": [],
   "source": [
    "# Code from Book: Build Your Own AI Investor\n",
    "# Damon Lee 2021\n",
    "# Check out the performance on www.valueinvestingai.com\n",
    "# Code uses data from the (presumably) nice people at https://simfin.com/. \n",
    "# Feel free to fork this code for others to see what can be done with it."
   ]
  },
  {
   "cell_type": "code",
   "execution_count": 2,
   "metadata": {},
   "outputs": [],
   "source": [
    "# Set the plotting DPI settings to be a bit higher.\n",
    "import matplotlib.pyplot as plt\n",
    "plt.rcParams['figure.figsize'] = [8.0, 5.0]\n",
    "plt.rcParams['figure.dpi'] = 150"
   ]
  },
  {
   "cell_type": "markdown",
   "metadata": {},
   "source": [
    "### Some basics"
   ]
  },
  {
   "cell_type": "code",
   "execution_count": 3,
   "metadata": {},
   "outputs": [],
   "source": [
    "import numpy as np # Import Numpy"
   ]
  },
  {
   "cell_type": "code",
   "execution_count": 4,
   "metadata": {},
   "outputs": [
    {
     "name": "stdout",
     "output_type": "stream",
     "text": [
      "2.1972245773362196\n",
      "8103.083927575384\n",
      "0.4121184852417566\n",
      "-0.9111302618846769\n"
     ]
    }
   ],
   "source": [
    "# The library has mathematical functions like in the math library, for example:\n",
    "print(np.log(9)) # Logarithm\n",
    "print(np.exp(9)) # Exponential\n",
    "print(np.sin(9)) # Sine\n",
    "print(np.cos(9)) # Cosine"
   ]
  },
  {
   "cell_type": "code",
   "execution_count": 13,
   "metadata": {},
   "outputs": [
    {
     "name": "stdout",
     "output_type": "stream",
     "text": [
      "[1 2 3 4 5]\n",
      "[1 2 3 4 5]\n",
      "\n",
      "An array made with range() instead: [5 6 7 8 9]\n",
      "\n",
      "An array made with linspace() instead: [1.2  1.85 2.5  3.15 3.8 ]\n",
      "\n",
      "numpy array type is:  <class 'numpy.ndarray'>\n",
      "\n",
      "The first item is: 1.2\n",
      "The second item is: 1.8499999999999999\n",
      "The third item is: 2.5\n",
      "\n",
      "The first item is now: 9.0\n",
      "\n",
      "The array is now: [ 9.   99.    2.5   3.15  3.8 ]\n",
      "\n",
      "The max of our array is: 99.0\n",
      "The min of our array is: 2.5\n",
      "The mean of our array is: 23.490000000000002\n"
     ]
    }
   ],
   "source": [
    "# However the main use of Numpy is to do computing with matricies.\n",
    "# To make a 1 dimensional array use np.array and pass a list to it:\n",
    "# (It is like a list except all items in the array ARE ALWAYS \n",
    "# the same type. e.g. strings, integers, floating point numbers)\n",
    "a = np.array([1, 2, 3, 4, 5])\n",
    "print(a)\n",
    "\n",
    "a = np.array((1,2,3,4,5))\n",
    "print(a)\n",
    "\n",
    "# Can also make an array with range().\n",
    "a = np.array(range(5,10))\n",
    "print('\\nAn array made with range() instead:', a)\n",
    "\n",
    "# For evenly spaced numbers over a specified interval use linspace\n",
    "a = np.linspace(1.2, 3.8, num=5)\n",
    "print('\\nAn array made with linspace() instead:', a)\n",
    "\n",
    "# To see the type of object this is:\n",
    "print('\\nnumpy array type is: ', type(a))\n",
    "\n",
    "# As with lists you can see individual items like so:\n",
    "print('\\nThe first item is:', a[0])\n",
    "print('The second item is:', a[1])\n",
    "print('The third item is:', a[2])\n",
    "\n",
    "# You can change items in the array the same was as with lists:\n",
    "a[0] = 9 # change first number to be 9.\n",
    "print('\\nThe first item is now:', a[0])\n",
    "\n",
    "# As with lists, you can select a range of values with numpy:\n",
    "a[1:2] = 99 # change the first 3 items to be 999\n",
    "\n",
    "#a[1:3] = 7\n",
    "print('\\nThe array is now:', a)\n",
    "\n",
    "\n",
    "# we can find max, min, mean etc.\n",
    "print('\\nThe max of our array is:', a.max())\n",
    "print('The min of our array is:', a.min())\n",
    "print('The mean of our array is:', a.mean())"
   ]
  },
  {
   "cell_type": "code",
   "execution_count": 28,
   "outputs": [
    {
     "name": "stdout",
     "output_type": "stream",
     "text": [
      "[0 1 2 3 4 5 6 7 8 9]\n",
      "[4 5 6 7 8 9]\n",
      "[[0 1 2 3 4]\n",
      " [5 6 7 8 9]]\n",
      "3 8\n"
     ]
    }
   ],
   "source": [
    "x = np.arange(10)\n",
    "print(x)\n",
    "print(x[4:10])\n",
    "x.shape = (2,5)\n",
    "print(x)\n",
    "print(x[0,3], x[1,3])"
   ],
   "metadata": {
    "collapsed": false,
    "pycharm": {
     "name": "#%%\n"
    }
   }
  },
  {
   "cell_type": "code",
   "execution_count": 18,
   "metadata": {},
   "outputs": [
    {
     "name": "stdout",
     "output_type": "stream",
     "text": [
      "[[ 1  2  3  4  5]\n",
      " [ 6  7  8  9 10]]\n",
      "\n",
      "The matrix dimensions are: (2, 5)\n",
      "\n",
      "Item in first row, third column is:  3\n",
      "Item in second row, fifth column is:  5\n",
      "\n",
      "Reshaped matrix is: \n",
      " [[ 1  2]\n",
      " [ 3  4]\n",
      " [ 5  6]\n",
      " [ 7  8]\n",
      " [ 9 10]]\n",
      "\n",
      "Transposed matrix is: \n",
      " [[ 1  6]\n",
      " [ 2  7]\n",
      " [ 3  8]\n",
      " [ 4  9]\n",
      " [ 5 10]]\n",
      "\n",
      "Unraveled matrix is: \n",
      " [ 1  2  3  4  5  6  7  8  9 10]\n"
     ]
    }
   ],
   "source": [
    "# Numpy arrays can have more than one dimension, \n",
    "# for example the following is a 2D matrix, \n",
    "# created with a list of lists.\n",
    "m = np.array([[1, 2, 3, 4, 5], [6, 7, 8, 9, 10]]) \n",
    "print(m)\n",
    "\n",
    "# You can extract the size in any dimension from \n",
    "# this array with .shape (Which returns a tuple)\n",
    "print('\\nThe matrix dimensions are:', m.shape)\n",
    "\n",
    "# With multidimensional arrays you can see and \n",
    "# change items within them with indexing, but you \n",
    "# need as many indexes as there are dimensions to \n",
    "# specify the item location.\n",
    "# Remember indexing begins at 0!\n",
    "print('\\nItem in first row, third column is: ', m[0,2])\n",
    "print('Item in second row, fifth column is: ', m[0,4])\n",
    "\n",
    "# Arrays can be manipulated in various ways, for instance rehape:\n",
    "rsm = m.reshape(5,2) # Change the shape to be 5 rows and 2 columns\n",
    "print('\\nReshaped matrix is: \\n', rsm)\n",
    "\n",
    "tm = m.transpose()\n",
    "print('\\nTransposed matrix is: \\n', tm)\n",
    "\n",
    "into_line = m.ravel()\n",
    "print('\\nUnraveled matrix is: \\n', into_line)"
   ]
  },
  {
   "cell_type": "code",
   "execution_count": 19,
   "metadata": {},
   "outputs": [
    {
     "name": "stdout",
     "output_type": "stream",
     "text": [
      "\n",
      " [[0. 0. 0. 0.]\n",
      " [0. 0. 0. 0.]\n",
      " [0. 0. 0. 0.]]\n",
      "\n",
      " [[1. 1. 1. 1. 1. 1. 1. 1.]\n",
      " [1. 1. 1. 1. 1. 1. 1. 1.]\n",
      " [1. 1. 1. 1. 1. 1. 1. 1.]\n",
      " [1. 1. 1. 1. 1. 1. 1. 1.]\n",
      " [1. 1. 1. 1. 1. 1. 1. 1.]\n",
      " [1. 1. 1. 1. 1. 1. 1. 1.]\n",
      " [1. 1. 1. 1. 1. 1. 1. 1.]\n",
      " [1. 1. 1. 1. 1. 1. 1. 1.]\n",
      " [1. 1. 1. 1. 1. 1. 1. 1.]\n",
      " [1. 1. 1. 1. 1. 1. 1. 1.]]\n",
      "\n",
      " [[3.14 3.14 3.14 3.14 3.14]\n",
      " [3.14 3.14 3.14 3.14 3.14]\n",
      " [3.14 3.14 3.14 3.14 3.14]\n",
      " [3.14 3.14 3.14 3.14 3.14]\n",
      " [3.14 3.14 3.14 3.14 3.14]]\n",
      "\n",
      " Here is a 3D matrix: \n",
      " [[[1. 1. 1.]\n",
      "  [1. 1. 1.]\n",
      "  [1. 1. 1.]]\n",
      "\n",
      " [[1. 1. 1.]\n",
      "  [1. 1. 1.]\n",
      "  [1. 1. 1.]]\n",
      "\n",
      " [[1. 1. 1.]\n",
      "  [1. 1. 1.]\n",
      "  [1. 1. 1.]]]\n"
     ]
    }
   ],
   "source": [
    "# You can also create numpy arrays with zeros, ones in them etc.\n",
    "a_z = np.zeros((3,4)) # Create an array with just zeros in it, 3x4\n",
    "print('\\n', a_z)             \n",
    "\n",
    "a_o = np.ones((10,8)) # Create an array with just ones in it\n",
    "print('\\n', a_o)\n",
    "\n",
    "a_pi = np.full((5,5), 3.14) # Create an array filled with one number\n",
    "print('\\n', a_pi)\n",
    "\n",
    "# Remember these arrays are multidimensional, \n",
    "# you can make a 3D array if you really need it...\n",
    "d_mat = np.ones((3,3,3))\n",
    "print('\\n Here is a 3D matrix: \\n', d_mat)   "
   ]
  },
  {
   "cell_type": "code",
   "execution_count": 20,
   "metadata": {},
   "outputs": [
    {
     "name": "stdout",
     "output_type": "stream",
     "text": [
      "Our large matrix of ones is now: \n",
      " [[1.   1.   1.   1.   1.   1.   1.   1.  ]\n",
      " [1.   1.   1.   1.   1.   1.   1.   1.  ]\n",
      " [1.   1.   9.87 9.87 9.87 9.87 9.87 9.87]\n",
      " [1.   1.   9.87 9.87 9.87 9.87 9.87 9.87]\n",
      " [1.   1.   9.87 9.87 9.87 9.87 9.87 9.87]\n",
      " [1.   1.   9.87 9.87 9.87 9.87 9.87 9.87]\n",
      " [1.   1.   1.   1.   1.   1.   1.   1.  ]\n",
      " [1.   1.   1.   1.   1.   1.   1.   1.  ]\n",
      " [1.   1.   1.   1.   1.   1.   1.   1.  ]\n",
      " [1.   1.   1.   1.   1.   1.   1.   1.  ]]\n"
     ]
    }
   ],
   "source": [
    "# Array indexing works just the same with 2D matrices, \n",
    "# for instance with our array of ones:\n",
    "a_o[2:6,2:]=9.87\n",
    "print('Our large matrix of ones is now: \\n', a_o)"
   ]
  },
  {
   "cell_type": "code",
   "execution_count": 21,
   "metadata": {},
   "outputs": [
    {
     "name": "stdout",
     "output_type": "stream",
     "text": [
      "Our large matrix is now: \n",
      " [[2.71828183e+00 2.71828183e+00 2.71828183e+00 2.71828183e+00\n",
      "  2.71828183e+00 2.71828183e+00 2.71828183e+00 2.71828183e+00]\n",
      " [2.71828183e+00 2.71828183e+00 2.71828183e+00 2.71828183e+00\n",
      "  2.71828183e+00 2.71828183e+00 2.71828183e+00 2.71828183e+00]\n",
      " [2.71828183e+00 2.71828183e+00 1.93413390e+04 1.93413390e+04\n",
      "  1.93413390e+04 1.93413390e+04 1.93413390e+04 1.93413390e+04]\n",
      " [2.71828183e+00 2.71828183e+00 1.93413390e+04 1.93413390e+04\n",
      "  1.93413390e+04 1.93413390e+04 1.93413390e+04 1.93413390e+04]\n",
      " [2.71828183e+00 2.71828183e+00 1.93413390e+04 1.93413390e+04\n",
      "  1.93413390e+04 1.93413390e+04 1.93413390e+04 1.93413390e+04]\n",
      " [2.71828183e+00 2.71828183e+00 1.93413390e+04 1.93413390e+04\n",
      "  1.93413390e+04 1.93413390e+04 1.93413390e+04 1.93413390e+04]\n",
      " [2.71828183e+00 2.71828183e+00 2.71828183e+00 2.71828183e+00\n",
      "  2.71828183e+00 2.71828183e+00 2.71828183e+00 2.71828183e+00]\n",
      " [2.71828183e+00 2.71828183e+00 2.71828183e+00 2.71828183e+00\n",
      "  2.71828183e+00 2.71828183e+00 2.71828183e+00 2.71828183e+00]\n",
      " [2.71828183e+00 2.71828183e+00 2.71828183e+00 2.71828183e+00\n",
      "  2.71828183e+00 2.71828183e+00 2.71828183e+00 2.71828183e+00]\n",
      " [2.71828183e+00 2.71828183e+00 2.71828183e+00 2.71828183e+00\n",
      "  2.71828183e+00 2.71828183e+00 2.71828183e+00 2.71828183e+00]]\n"
     ]
    }
   ],
   "source": [
    "# numpy functions can be used on whole arrays, say if\n",
    "# we want to do an exponential on every value in the matrix:\n",
    "a_o_exp = np.exp(a_o)\n",
    "print('Our large matrix is now: \\n', a_o_exp)"
   ]
  },
  {
   "cell_type": "code",
   "execution_count": 29,
   "metadata": {},
   "outputs": [
    {
     "name": "stdout",
     "output_type": "stream",
     "text": [
      "Array 1:\n",
      " [[1 2 3]\n",
      " [4 5 6]\n",
      " [7 8 9]]\n",
      "\n",
      "Array 2:\n",
      " [[  7   6   4]\n",
      " [ 12   5   1]\n",
      " [  2   2 249]]\n",
      "\n",
      "Adding:  [[  8   8   7]\n",
      " [ 16  10   7]\n",
      " [  9  10 258]]\n",
      "\n",
      "Array 3:\n",
      " [[  7.69861384   6.57596409   3.39112001]\n",
      " [ 10.90986417   3.04107573  -5.2794155 ]\n",
      " [ -0.8430134   -1.01064175 249.37597391]]\n"
     ]
    }
   ],
   "source": [
    "# Arrays can be added to each other, divided by each other etc.\n",
    "arr_1 = np.array([[1,2,3], [4,5,6], [7,8,9]])\n",
    "arr_2 = np.array([[7,6,4], [12,5,1], [2,2,249]])\n",
    "\n",
    "print('Array 1:\\n', arr_1)\n",
    "print('\\nArray 2:\\n', arr_2)\n",
    "\n",
    "print('\\nAdding: ', arr_1 + arr_2)\n",
    "\n",
    "# Do some calculations on arrays\n",
    "arr_3 = arr_2 + np.sin(arr_1) - arr_1/arr_2 \n",
    "print('\\nArray 3:\\n', arr_3)\n",
    "\n",
    "# Remember arrays need to be the appropriate size."
   ]
  },
  {
   "cell_type": "markdown",
   "metadata": {},
   "source": [
    "### Running functions on Numpy arrays in a loop"
   ]
  },
  {
   "cell_type": "code",
   "execution_count": 40,
   "metadata": {},
   "outputs": [
    {
     "name": "stdout",
     "output_type": "stream",
     "text": [
      "2\n",
      "6\n",
      "12\n",
      "20\n",
      "30\n",
      "42\n",
      "56\n",
      "72\n",
      "[5 6 7 8]\n"
     ]
    }
   ],
   "source": [
    "# It is often useful to iterate over an array, \n",
    "# lets make an array and iterate over it.\n",
    "a = np.array([1, 2, 3, 4, 5, 6, 7, 8])\n",
    "for x in a:\n",
    "    print(x**2 + x)\n",
    "a.shape = [2,4]\n",
    "print(a[1])"
   ]
  },
  {
   "cell_type": "markdown",
   "metadata": {},
   "source": [
    "### Plotting Numpy arrays"
   ]
  },
  {
   "cell_type": "code",
   "execution_count": 24,
   "metadata": {},
   "outputs": [],
   "source": [
    "#Import a plotting library for Python to plot some numpy arrays\n",
    "from matplotlib import pyplot as plt"
   ]
  },
  {
   "cell_type": "code",
   "execution_count": 27,
   "metadata": {},
   "outputs": [
    {
     "name": "stdout",
     "output_type": "stream",
     "text": [
      "\n",
      "Out array y has values:  [0.         1.         1.41421356 1.73205081 2.         2.23606798\n",
      " 2.44948974 2.64575131 2.82842712]\n"
     ]
    },
    {
     "data": {
      "image/png": "[encoded data removed]",
      "text/plain": [
       "<Figure size 1200x750 with 1 Axes>"
      ]
     },
     "metadata": {
      "needs_background": "light"
     },
     "output_type": "display_data"
    }
   ],
   "source": [
    "x = np.array(range(0,9))\n",
    "y = np.sqrt(x) # run a numpy function on the entire array.\n",
    "plt.plot(x,y)\n",
    "print('\\nOut array y has values: ', y)"
   ]
  },
  {
   "cell_type": "markdown",
   "metadata": {},
   "source": [
    "# Exercise 5\n",
    "Here we will do a discounted cash flow calculation with Numpy.\n",
    "\n",
    "#### Unfortunately Toby has messed up our code! Try and fix it and get it working."
   ]
  },
  {
   "cell_type": "code",
   "execution_count": 13,
   "metadata": {},
   "outputs": [],
   "source": [
    "import numpy as np\n",
    "from matplotlib import pyplot as plt"
   ]
  },
  {
   "cell_type": "code",
   "execution_count": 30,
   "metadata": {},
   "outputs": [
    {
     "name": "stdout",
     "output_type": "stream",
     "text": [
      "[0. 0. 0. 0. 0. 0.]\n"
     ]
    }
   ],
   "source": [
    "#Here is the cash flow data for the company. Values in millions\n",
    "cashFlow_years = [2013, 2014, 2015, 2016, 2017, 2018, 2019]\n",
    "freeCashFlow = [12.02, 13.45, 10.2, 15.44, 14.9, 16.37, 17.18]\n",
    "freeCashFlowData = np.array([cashFlow_years, freeCashFlow])\n",
    "\n",
    "#array for growth as a percentage for years 2013->2018, to be populated with a for loop.\n",
    "growth = np.zeros(6)\n",
    "print(growth)\n"
   ]
  },
  {
   "cell_type": "code",
   "execution_count": 32,
   "metadata": {},
   "outputs": [
    {
     "name": "stdout",
     "output_type": "stream",
     "text": [
      "[ 11.8968386  -24.16356877  51.37254902  -3.49740933   9.86577181\n",
      "   4.94807575]\n",
      "8.403709513779809\n"
     ]
    }
   ],
   "source": [
    "for i in range(1, len(growth)+1):#index counter is done for you\n",
    "    growth[i-1] = (freeCashFlowData[1,i]/freeCashFlowData[1,i-1]-1) * 100\n",
    "\n",
    "print(growth)\n",
    "print(np.mean(growth))"
   ]
  },
  {
   "cell_type": "code",
   "execution_count": 34,
   "metadata": {},
   "outputs": [
    {
     "name": "stdout",
     "output_type": "stream",
     "text": [
      "The average growth rate was: 8.403709513779809 %\n"
     ]
    }
   ],
   "source": [
    "# Use a numpy function to calculate the average growth rate of the free cash flow of this company\n",
    "avgGrowthRate = np.mean(growth)\n",
    "print('The average growth rate was:', avgGrowthRate, '%')"
   ]
  },
  {
   "cell_type": "code",
   "execution_count": 41,
   "metadata": {},
   "outputs": [],
   "source": [
    "# Define a function that returns an array containing cash flow and discounted cash flow for each future year.\n",
    "def calcDCF(discRate, growthRate, currentFcf, numYears, startYear):\n",
    "    \n",
    "    # Start zero arrays and fill the array with a loop.\n",
    "    futureCashFlows = np.zeros(numYears)\n",
    "    futureDiscCashFlows = np.zeros(numYears)\n",
    "    \n",
    "    # Now fill the array with a loop\n",
    "    for i in range(0, numYears):\n",
    "        futureCashFlows[i] = currentFcf * (growthRate+1) ** i\n",
    "        futureDiscCashFlows[i] = futureCashFlows[i]/((1+discRate)**i)\n",
    "    \n",
    "    # Have an array for the future years, from say, 2020 to 2020 + numYears\n",
    "    futureYears = np.array(range(startYear, 2020+numYears))\n",
    "    \n",
    "    # Return the arrays of: future cash flows\n",
    "    # Future discounted Cash Flows\n",
    "    # Future years that those cash flowws occur in\n",
    "    return [futureCashFlows, futureDiscCashFlows, futureYears]"
   ]
  },
  {
   "cell_type": "code",
   "execution_count": 42,
   "metadata": {},
   "outputs": [
    {
     "name": "stdout",
     "output_type": "stream",
     "text": [
      "The future cash flow years calculated are:\n",
      " [2020 2021 2022 2023 2024 2025 2026 2027 2028]\n",
      "The future cash flows are:\n",
      " [17.         18.36       19.8288     21.415104   23.12831232 24.97857731\n",
      " 26.97686349 29.13501257 31.46581357]\n",
      "The discounted future cash flows are:\n",
      " [17.         15.3        13.77       12.393      11.1537     10.03833\n",
      "  9.034497    8.1310473   7.31794257]\n"
     ]
    }
   ],
   "source": [
    "# Now use the calcDCF() function\n",
    "# compute the projected future cash flows of the company and the discounted values of those cash flows.\n",
    "# Use a discount rate of 20% to compensate us for vicissitudes of life.\n",
    "# Have it start at year 2020, have it go for 9 years\n",
    "[futureCashFlows, futureDiscCashFlows, futureYears] = calcDCF(0.2, 0.08, 17, 9, 2020)\n",
    "\n",
    "print('The future cash flow years calculated are:\\n', futureYears)\n",
    "print('The future cash flows are:\\n', futureCashFlows)\n",
    "print('The discounted future cash flows are:\\n', futureDiscCashFlows)"
   ]
  },
  {
   "cell_type": "code",
   "execution_count": 43,
   "metadata": {},
   "outputs": [
    {
     "data": {
      "text/plain": "<Figure size 1200x750 with 1 Axes>",
      "image/png": "[encoded data removed]"
     },
     "metadata": {
      "needs_background": "light"
     },
     "output_type": "display_data"
    }
   ],
   "source": [
    "# plot the past cash flows, future cash flows, and discounted future cash flows on a graph.\n",
    "plt.plot(freeCashFlowData[0,:], freeCashFlowData[1,:], label='Past free cash flows')\n",
    "plt.plot(futureYears, futureCashFlows, label='Projected future cash flows')\n",
    "plt.plot(futureYears, futureDiscCashFlows, label='Discounted value of future cash flows')\n",
    "plt.legend()\n",
    "plt.grid()"
   ]
  },
  {
   "cell_type": "markdown",
   "metadata": {},
   "source": [
    "We can see here graphically that the present value of the future cash flows is the area under the blue line that is sloping downwards in the future.\n",
    "\n",
    "What a DCF is actually doing is weighting a value of future cash that comes to us (through the company), where the further into the future we project, the more uncertain we are, and so we discount that money heavily.\n",
    "\n",
    "Cool, we can take a look at the market cap and see if the company is a bargain worth buying or not!\n",
    "https://www.investopedia.com/terms/d/dcf.asp"
   ]
  },
  {
   "cell_type": "code",
   "execution_count": 20,
   "metadata": {},
   "outputs": [
    {
     "name": "stdout",
     "output_type": "stream",
     "text": [
      "The net future value of discounted projected cash flows(the company value right now) is:\n",
      " 104.14 million dollars\n"
     ]
    }
   ],
   "source": [
    "# Print out the net present value of future cash flows.\n",
    "print('The net future value of discounted projected cash flows(the hypothetical company value right now) is:\\n',\n",
    "      round(futureDiscCashFlows.sum(),2),\n",
    "      'million dollars')"
   ]
  },
  {
   "cell_type": "markdown",
   "metadata": {},
   "source": [
    "Buy the companies stock is the market cap is below this number (assuming you calculated everything correct)"
   ]
  },
  {
   "cell_type": "code",
   "execution_count": 12,
   "metadata": {},
   "outputs": [],
   "source": [
    "# Brief of what was done\n",
    "\n",
    "# Take a stock and take a look at a numpy array of previous cash flows.\n",
    "# With these cash flows as an array, compute an array with the growth values for each year with a loop.\n",
    "# from this array of growth values, compute the mean, which we will use for future cash flows\n",
    "\n",
    "# Define a function that returns an array containing cash flow and discounted cash flow for each future year.\n",
    "# This function should take in the discount rate, the growth rate, the current free cash flow\n",
    "# As each value of the discounted future cash flows is computed differently, use a loop to iterate over our array.\n",
    "\n",
    "# plot the past cash flows, future cash flows, and discounted future cash flows on a graph.\n",
    "# Print out the net present value of future cash flows."
   ]
  },
  {
   "cell_type": "code",
   "execution_count": null,
   "metadata": {},
   "outputs": [],
   "source": []
  }
 ],
 "metadata": {
  "kernelspec": {
   "display_name": "PyCharm (Math-for-Programmers-master)",
   "language": "python",
   "name": "pycharm-e8b61cdb"
  },
  "language_info": {
   "codemirror_mode": {
    "name": "ipython",
    "version": 3
   },
   "file_extension": ".py",
   "mimetype": "text/x-python",
   "name": "python",
   "nbconvert_exporter": "python",
   "pygments_lexer": "ipython3",
   "version": "3.8.5"
  }
 },
 "nbformat": 4,
 "nbformat_minor": 4
}