{
 "cells": [
  {
   "cell_type": "markdown",
   "metadata": {
    "pycharm": {
     "name": "#%% md\n"
    }
   },
   "source": [
    "# Exercise 6 – Pandas Basics"
   ]
  },
  {
   "cell_type": "code",
   "execution_count": 3,
   "metadata": {
    "pycharm": {
     "name": "#%%\n"
    }
   },
   "outputs": [],
   "source": [
    "# Code from Book: Build Your Own AI Investor\n",
    "# Damon Lee 2021\n",
    "# Check out the performance on www.valueinvestingai.com\n",
    "# Code uses data from the (presumably) nice people at https://simfin.com/. \n",
    "# Feel free to fork this code for others to see what can be done with it."
   ]
  },
  {
   "cell_type": "code",
   "execution_count": 4,
   "metadata": {
    "pycharm": {
     "name": "#%%\n"
    }
   },
   "outputs": [],
   "source": [
    "# Set the plotting DPI settings to be a bit higher.\n",
    "import matplotlib.pyplot as plt\n",
    "plt.rcParams['figure.figsize'] = [8.0, 5.0]\n",
    "plt.rcParams['figure.dpi'] = 150"
   ]
  },
  {
   "cell_type": "code",
   "execution_count": 5,
   "metadata": {
    "pycharm": {
     "name": "#%%\n"
    }
   },
   "outputs": [],
   "source": [
    "#Import Pandas\n",
    "import pandas as pd"
   ]
  },
  {
   "cell_type": "code",
   "execution_count": 6,
   "metadata": {
    "pycharm": {
     "name": "#%%\n"
    }
   },
   "outputs": [],
   "source": [
    "#Creating a dictionary with some table data in it.\n",
    "dict = {\n",
    "    'Name':['Tom', 'Dick', 'Harry'],\n",
    "    'Age':[24, 35, 29],\n",
    "    'Shoe Size':[7,8,9]\n",
    "}"
   ]
  },
  {
   "cell_type": "code",
   "execution_count": 7,
   "metadata": {
    "pycharm": {
     "name": "#%%\n"
    }
   },
   "outputs": [],
   "source": [
    "#Creating a DataFrame with the data from the dictionary\n",
    "df=pd.DataFrame(dict)"
   ]
  },
  {
   "cell_type": "code",
   "execution_count": 8,
   "metadata": {
    "pycharm": {
     "name": "#%%\n"
    }
   },
   "outputs": [
    {
     "data": {
      "text/plain": "    Name  Age  Shoe Size\n0    Tom   24          7\n1   Dick   35          8\n2  Harry   29          9",
      "text/html": "<div>\n<style scoped>\n    .dataframe tbody tr th:only-of-type {\n        vertical-align: middle;\n    }\n\n    .dataframe tbody tr th {\n        vertical-align: top;\n    }\n\n    .dataframe thead th {\n        text-align: right;\n    }\n</style>\n<table border=\"1\" class=\"dataframe\">\n  <thead>\n    <tr style=\"text-align: right;\">\n      <th></th>\n      <th>Name</th>\n      <th>Age</th>\n      <th>Shoe Size</th>\n    </tr>\n  </thead>\n  <tbody>\n    <tr>\n      <th>0</th>\n      <td>Tom</td>\n      <td>24</td>\n      <td>7</td>\n    </tr>\n    <tr>\n      <th>1</th>\n      <td>Dick</td>\n      <td>35</td>\n      <td>8</td>\n    </tr>\n    <tr>\n      <th>2</th>\n      <td>Harry</td>\n      <td>29</td>\n      <td>9</td>\n    </tr>\n  </tbody>\n</table>\n</div>"
     },
     "execution_count": 8,
     "metadata": {},
     "output_type": "execute_result"
    }
   ],
   "source": [
    "#The dataframe can be viewed without the print() command.\n",
    "df"
   ]
  },
  {
   "cell_type": "code",
   "execution_count": 9,
   "metadata": {
    "pycharm": {
     "name": "#%%\n"
    }
   },
   "outputs": [
    {
     "name": "stdout",
     "output_type": "stream",
     "text": [
      "df.keys\n",
      "<bound method NDFrame.keys of     Name  Age  Shoe Size\n",
      "0    Tom   24          7\n",
      "1   Dick   35          8\n",
      "2  Harry   29          9>\n",
      "df.values\n",
      "<class 'numpy.ndarray'>\n",
      "[['Tom' 24 7]\n",
      " ['Dick' 35 8]\n",
      " ['Harry' 29 9]]\n",
      "df.columns\n",
      "<class 'pandas.core.indexes.base.Index'>\n",
      "Index(['Name', 'Age', 'Shoe Size'], dtype='object')\n",
      "df.columns.values\n",
      "<class 'numpy.ndarray'>\n",
      "['Name' 'Age' 'Shoe Size']\n",
      "df.index\n",
      "<class 'pandas.core.indexes.range.RangeIndex'>\n",
      "RangeIndex(start=0, stop=3, step=1)\n",
      "df.index.values\n",
      "<class 'numpy.ndarray'>\n",
      "[0 1 2]\n"
     ]
    }
   ],
   "source": [
    "#Write the data from the DataFrame to a file\n",
    "df.to_csv('people.csv')\n",
    "print(\"df.keys\")\n",
    "print(df.keys)\n",
    "print(\"df.values\")\n",
    "print(type(df.values))\n",
    "print(df.values)\n",
    "print(\"df.columns\")\n",
    "print(type(df.columns))\n",
    "print(df.columns)\n",
    "print(\"df.columns.values\")\n",
    "print(type(df.columns.values))\n",
    "print(df.columns.values)\n",
    "print(\"df.index\")\n",
    "print(type(df.index))\n",
    "print(df.index)\n",
    "print(\"df.index.values\")\n",
    "print(type(df.index.values))\n",
    "print(df.index.values)"
   ]
  },
  {
   "cell_type": "code",
   "execution_count": 10,
   "metadata": {
    "pycharm": {
     "name": "#%%\n"
    }
   },
   "outputs": [
    {
     "name": "stdout",
     "output_type": "stream",
     "text": [
      "<class 'pandas.core.frame.DataFrame'>\n"
     ]
    }
   ],
   "source": [
    "# Now I want to read the data, lets create a new DataFrame. Remember to specify an index column!\n",
    "my_data=pd.read_csv('people.csv', index_col=0)\n",
    "print(type(my_data))"
   ]
  },
  {
   "cell_type": "code",
   "execution_count": 11,
   "metadata": {
    "pycharm": {
     "name": "#%%\n"
    }
   },
   "outputs": [
    {
     "data": {
      "text/plain": "    Name  Age  Shoe Size\n0    Tom   24          7\n1   Dick   35          8\n2  Harry   29          9",
      "text/html": "<div>\n<style scoped>\n    .dataframe tbody tr th:only-of-type {\n        vertical-align: middle;\n    }\n\n    .dataframe tbody tr th {\n        vertical-align: top;\n    }\n\n    .dataframe thead th {\n        text-align: right;\n    }\n</style>\n<table border=\"1\" class=\"dataframe\">\n  <thead>\n    <tr style=\"text-align: right;\">\n      <th></th>\n      <th>Name</th>\n      <th>Age</th>\n      <th>Shoe Size</th>\n    </tr>\n  </thead>\n  <tbody>\n    <tr>\n      <th>0</th>\n      <td>Tom</td>\n      <td>24</td>\n      <td>7</td>\n    </tr>\n    <tr>\n      <th>1</th>\n      <td>Dick</td>\n      <td>35</td>\n      <td>8</td>\n    </tr>\n    <tr>\n      <th>2</th>\n      <td>Harry</td>\n      <td>29</td>\n      <td>9</td>\n    </tr>\n  </tbody>\n</table>\n</div>"
     },
     "execution_count": 11,
     "metadata": {},
     "output_type": "execute_result"
    }
   ],
   "source": [
    "#have a look at the data\n",
    "my_data"
   ]
  },
  {
   "cell_type": "markdown",
   "metadata": {
    "pycharm": {
     "name": "#%% md\n"
    }
   },
   "source": [
    "# Read in SimFin data"
   ]
  },
  {
   "cell_type": "code",
   "execution_count": 12,
   "metadata": {
    "pycharm": {
     "name": "#%%\n"
    }
   },
   "outputs": [],
   "source": [
    "# Lets read some income statement data from SimFin (https://simfin.com/)\n",
    "# Your download directory will differ.\n",
    "Income_Data=pd.read_csv(\\\n",
    "    'C:/Users/lynne/Downloads/us-income-annual.csv',\\\n",
    "                        delimiter=';')"
   ]
  },
  {
   "cell_type": "code",
   "execution_count": 13,
   "metadata": {
    "pycharm": {
     "name": "#%%\n"
    }
   },
   "outputs": [
    {
     "name": "stdout",
     "output_type": "stream",
     "text": [
      "DataFrame shape is:  (10510, 28)\n"
     ]
    },
    {
     "data": {
      "text/plain": "      Ticker  SimFinId Currency  Fiscal Year Fiscal Period Report Date  \\\n0          A     45846      USD         2016            FY  2016-10-31   \n1          A     45846      USD         2017            FY  2017-10-31   \n2          A     45846      USD         2018            FY  2018-10-31   \n3          A     45846      USD         2019            FY  2019-10-31   \n4          A     45846      USD         2020            FY  2020-10-31   \n...      ...       ...      ...          ...           ...         ...   \n10505   ZYXI    171401      USD         2015            FY  2015-12-31   \n10506   ZYXI    171401      USD         2016            FY  2016-12-31   \n10507   ZYXI    171401      USD         2017            FY  2017-12-31   \n10508   ZYXI    171401      USD         2018            FY  2018-12-31   \n10509   ZYXI    171401      USD         2019            FY  2019-12-31   \n\n      Publish Date Restated Date  Shares (Basic)  Shares (Diluted)  ...  \\\n0       2016-12-20    2018-12-20     326000000.0       329000000.0  ...   \n1       2017-12-21    2018-12-20     322000000.0       326000000.0  ...   \n2       2018-12-20    2020-12-18     321000000.0       325000000.0  ...   \n3       2019-12-19    2020-12-18     314000000.0       318000000.0  ...   \n4       2020-12-18    2020-12-18     309000000.0       312000000.0  ...   \n...            ...           ...             ...               ...  ...   \n10505   2016-03-31    2017-04-17      31271234.0        31271234.0  ...   \n10506   2017-04-18    2018-02-28      31271234.0        31271234.0  ...   \n10507   2018-02-28    2019-02-26      32156000.0        33196000.0  ...   \n10508   2019-02-26    2019-02-26      32503000.0        34043000.0  ...   \n10509   2020-02-27    2021-02-25      32439000.0        33963000.0  ...   \n\n       Non-Operating Income (Loss)  Interest Expense, Net  \\\n0                      -71000000.0            -61000000.0   \n1                      -38000000.0            -57000000.0   \n2                       42000000.0            -37000000.0   \n3                      -22000000.0            -38000000.0   \n4                       -4000000.0            -70000000.0   \n...                            ...                    ...   \n10505                    -510000.0              -503000.0   \n10506                    -556000.0              -352000.0   \n10507                   -1450000.0             -1450000.0   \n10508                    -154000.0              -154000.0   \n10509                      -5000.0                -5000.0   \n\n       Pretax Income (Loss), Adj.  Abnormal Gains (Losses)  \\\n0                       544000000                      NaN   \n1                       803000000                      NaN   \n2                       946000000                      NaN   \n3                       919000000                      NaN   \n4                       842000000                      NaN   \n...                           ...                      ...   \n10505                    -2991000                      NaN   \n10506                       84000                      NaN   \n10507                     7494000                      NaN   \n10508                    10216000                      NaN   \n10509                    11061000                 880000.0   \n\n       Pretax Income (Loss)  Income Tax (Expense) Benefit, Net  \\\n0                 544000000                        -82000000.0   \n1                 803000000                       -119000000.0   \n2                 946000000                       -630000000.0   \n3                 919000000                        152000000.0   \n4                 842000000                       -123000000.0   \n...                     ...                                ...   \n10505              -2991000                            57000.0   \n10506                 84000                           -15000.0   \n10507               7494000                          -129000.0   \n10508              10216000                          -664000.0   \n10509              11941000                         -2449000.0   \n\n       Income (Loss) from Continuing Operations  \\\n0                                     462000000   \n1                                     684000000   \n2                                     316000000   \n3                                    1071000000   \n4                                     719000000   \n...                                         ...   \n10505                                  -2934000   \n10506                                     69000   \n10507                                   7365000   \n10508                                   9552000   \n10509                                   9492000   \n\n       Net Extraordinary Gains (Losses)  Net Income  Net Income (Common)  \n0                                   NaN   462000000            462000000  \n1                                   NaN   684000000            684000000  \n2                                   NaN   316000000            316000000  \n3                                   NaN  1071000000           1071000000  \n4                                   NaN   719000000            719000000  \n...                                 ...         ...                  ...  \n10505                               NaN    -2911000             -2911000  \n10506                               NaN       69000                69000  \n10507                               NaN     7365000              7365000  \n10508                               NaN     9552000              9552000  \n10509                               NaN     9492000              9492000  \n\n[10510 rows x 28 columns]",
      "text/html": "<div>\n<style scoped>\n    .dataframe tbody tr th:only-of-type {\n        vertical-align: middle;\n    }\n\n    .dataframe tbody tr th {\n        vertical-align: top;\n    }\n\n    .dataframe thead th {\n        text-align: right;\n    }\n</style>\n<table border=\"1\" class=\"dataframe\">\n  <thead>\n    <tr style=\"text-align: right;\">\n      <th></th>\n      <th>Ticker</th>\n      <th>SimFinId</th>\n      <th>Currency</th>\n      <th>Fiscal Year</th>\n      <th>Fiscal Period</th>\n      <th>Report Date</th>\n      <th>Publish Date</th>\n      <th>Restated Date</th>\n      <th>Shares (Basic)</th>\n      <th>Shares (Diluted)</th>\n      <th>...</th>\n      <th>Non-Operating Income (Loss)</th>\n      <th>Interest Expense, Net</th>\n      <th>Pretax Income (Loss), Adj.</th>\n      <th>Abnormal Gains (Losses)</th>\n      <th>Pretax Income (Loss)</th>\n      <th>Income Tax (Expense) Benefit, Net</th>\n      <th>Income (Loss) from Continuing Operations</th>\n      <th>Net Extraordinary Gains (Losses)</th>\n      <th>Net Income</th>\n      <th>Net Income (Common)</th>\n    </tr>\n  </thead>\n  <tbody>\n    <tr>\n      <th>0</th>\n      <td>A</td>\n      <td>45846</td>\n      <td>USD</td>\n      <td>2016</td>\n      <td>FY</td>\n      <td>2016-10-31</td>\n      <td>2016-12-20</td>\n      <td>2018-12-20</td>\n      <td>326000000.0</td>\n      <td>329000000.0</td>\n      <td>...</td>\n      <td>-71000000.0</td>\n      <td>-61000000.0</td>\n      <td>544000000</td>\n      <td>NaN</td>\n      <td>544000000</td>\n      <td>-82000000.0</td>\n      <td>462000000</td>\n      <td>NaN</td>\n      <td>462000000</td>\n      <td>462000000</td>\n    </tr>\n    <tr>\n      <th>1</th>\n      <td>A</td>\n      <td>45846</td>\n      <td>USD</td>\n      <td>2017</td>\n      <td>FY</td>\n      <td>2017-10-31</td>\n      <td>2017-12-21</td>\n      <td>2018-12-20</td>\n      <td>322000000.0</td>\n      <td>326000000.0</td>\n      <td>...</td>\n      <td>-38000000.0</td>\n      <td>-57000000.0</td>\n      <td>803000000</td>\n      <td>NaN</td>\n      <td>803000000</td>\n      <td>-119000000.0</td>\n      <td>684000000</td>\n      <td>NaN</td>\n      <td>684000000</td>\n      <td>684000000</td>\n    </tr>\n    <tr>\n      <th>2</th>\n      <td>A</td>\n      <td>45846</td>\n      <td>USD</td>\n      <td>2018</td>\n      <td>FY</td>\n      <td>2018-10-31</td>\n      <td>2018-12-20</td>\n      <td>2020-12-18</td>\n      <td>321000000.0</td>\n      <td>325000000.0</td>\n      <td>...</td>\n      <td>42000000.0</td>\n      <td>-37000000.0</td>\n      <td>946000000</td>\n      <td>NaN</td>\n      <td>946000000</td>\n      <td>-630000000.0</td>\n      <td>316000000</td>\n      <td>NaN</td>\n      <td>316000000</td>\n      <td>316000000</td>\n    </tr>\n    <tr>\n      <th>3</th>\n      <td>A</td>\n      <td>45846</td>\n      <td>USD</td>\n      <td>2019</td>\n      <td>FY</td>\n      <td>2019-10-31</td>\n      <td>2019-12-19</td>\n      <td>2020-12-18</td>\n      <td>314000000.0</td>\n      <td>318000000.0</td>\n      <td>...</td>\n      <td>-22000000.0</td>\n      <td>-38000000.0</td>\n      <td>919000000</td>\n      <td>NaN</td>\n      <td>919000000</td>\n      <td>152000000.0</td>\n      <td>1071000000</td>\n      <td>NaN</td>\n      <td>1071000000</td>\n      <td>1071000000</td>\n    </tr>\n    <tr>\n      <th>4</th>\n      <td>A</td>\n      <td>45846</td>\n      <td>USD</td>\n      <td>2020</td>\n      <td>FY</td>\n      <td>2020-10-31</td>\n      <td>2020-12-18</td>\n      <td>2020-12-18</td>\n      <td>309000000.0</td>\n      <td>312000000.0</td>\n      <td>...</td>\n      <td>-4000000.0</td>\n      <td>-70000000.0</td>\n      <td>842000000</td>\n      <td>NaN</td>\n      <td>842000000</td>\n      <td>-123000000.0</td>\n      <td>719000000</td>\n      <td>NaN</td>\n      <td>719000000</td>\n      <td>719000000</td>\n    </tr>\n    <tr>\n      <th>...</th>\n      <td>...</td>\n      <td>...</td>\n      <td>...</td>\n      <td>...</td>\n      <td>...</td>\n      <td>...</td>\n      <td>...</td>\n      <td>...</td>\n      <td>...</td>\n      <td>...</td>\n      <td>...</td>\n      <td>...</td>\n      <td>...</td>\n      <td>...</td>\n      <td>...</td>\n      <td>...</td>\n      <td>...</td>\n      <td>...</td>\n      <td>...</td>\n      <td>...</td>\n      <td>...</td>\n    </tr>\n    <tr>\n      <th>10505</th>\n      <td>ZYXI</td>\n      <td>171401</td>\n      <td>USD</td>\n      <td>2015</td>\n      <td>FY</td>\n      <td>2015-12-31</td>\n      <td>2016-03-31</td>\n      <td>2017-04-17</td>\n      <td>31271234.0</td>\n      <td>31271234.0</td>\n      <td>...</td>\n      <td>-510000.0</td>\n      <td>-503000.0</td>\n      <td>-2991000</td>\n      <td>NaN</td>\n      <td>-2991000</td>\n      <td>57000.0</td>\n      <td>-2934000</td>\n      <td>NaN</td>\n      <td>-2911000</td>\n      <td>-2911000</td>\n    </tr>\n    <tr>\n      <th>10506</th>\n      <td>ZYXI</td>\n      <td>171401</td>\n      <td>USD</td>\n      <td>2016</td>\n      <td>FY</td>\n      <td>2016-12-31</td>\n      <td>2017-04-18</td>\n      <td>2018-02-28</td>\n      <td>31271234.0</td>\n      <td>31271234.0</td>\n      <td>...</td>\n      <td>-556000.0</td>\n      <td>-352000.0</td>\n      <td>84000</td>\n      <td>NaN</td>\n      <td>84000</td>\n      <td>-15000.0</td>\n      <td>69000</td>\n      <td>NaN</td>\n      <td>69000</td>\n      <td>69000</td>\n    </tr>\n    <tr>\n      <th>10507</th>\n      <td>ZYXI</td>\n      <td>171401</td>\n      <td>USD</td>\n      <td>2017</td>\n      <td>FY</td>\n      <td>2017-12-31</td>\n      <td>2018-02-28</td>\n      <td>2019-02-26</td>\n      <td>32156000.0</td>\n      <td>33196000.0</td>\n      <td>...</td>\n      <td>-1450000.0</td>\n      <td>-1450000.0</td>\n      <td>7494000</td>\n      <td>NaN</td>\n      <td>7494000</td>\n      <td>-129000.0</td>\n      <td>7365000</td>\n      <td>NaN</td>\n      <td>7365000</td>\n      <td>7365000</td>\n    </tr>\n    <tr>\n      <th>10508</th>\n      <td>ZYXI</td>\n      <td>171401</td>\n      <td>USD</td>\n      <td>2018</td>\n      <td>FY</td>\n      <td>2018-12-31</td>\n      <td>2019-02-26</td>\n      <td>2019-02-26</td>\n      <td>32503000.0</td>\n      <td>34043000.0</td>\n      <td>...</td>\n      <td>-154000.0</td>\n      <td>-154000.0</td>\n      <td>10216000</td>\n      <td>NaN</td>\n      <td>10216000</td>\n      <td>-664000.0</td>\n      <td>9552000</td>\n      <td>NaN</td>\n      <td>9552000</td>\n      <td>9552000</td>\n    </tr>\n    <tr>\n      <th>10509</th>\n      <td>ZYXI</td>\n      <td>171401</td>\n      <td>USD</td>\n      <td>2019</td>\n      <td>FY</td>\n      <td>2019-12-31</td>\n      <td>2020-02-27</td>\n      <td>2021-02-25</td>\n      <td>32439000.0</td>\n      <td>33963000.0</td>\n      <td>...</td>\n      <td>-5000.0</td>\n      <td>-5000.0</td>\n      <td>11061000</td>\n      <td>880000.0</td>\n      <td>11941000</td>\n      <td>-2449000.0</td>\n      <td>9492000</td>\n      <td>NaN</td>\n      <td>9492000</td>\n      <td>9492000</td>\n    </tr>\n  </tbody>\n</table>\n<p>10510 rows × 28 columns</p>\n</div>"
     },
     "execution_count": 13,
     "metadata": {},
     "output_type": "execute_result"
    }
   ],
   "source": [
    "# get the DataFrame shape (Might be useful for other computation)\n",
    "print('DataFrame shape is: ',Income_Data.shape)\n",
    "#Have a look at what our DataFrame looks like\n",
    "Income_Data\n",
    "# You will notice that thefirst few and last few items are shown (Jupyter doesn't want to display all 15,124 rows.)"
   ]
  },
  {
   "cell_type": "code",
   "execution_count": 14,
   "metadata": {
    "pycharm": {
     "name": "#%%\n"
    }
   },
   "outputs": [
    {
     "name": "stdout",
     "output_type": "stream",
     "text": [
      "Index(['Ticker', 'SimFinId', 'Currency', 'Fiscal Year', 'Fiscal Period',\n",
      "       'Report Date', 'Publish Date', 'Restated Date', 'Shares (Basic)',\n",
      "       'Shares (Diluted)', 'Revenue', 'Cost of Revenue', 'Gross Profit',\n",
      "       'Operating Expenses', 'Selling, General & Administrative',\n",
      "       'Research & Development', 'Depreciation & Amortization',\n",
      "       'Operating Income (Loss)', 'Non-Operating Income (Loss)',\n",
      "       'Interest Expense, Net', 'Pretax Income (Loss), Adj.',\n",
      "       'Abnormal Gains (Losses)', 'Pretax Income (Loss)',\n",
      "       'Income Tax (Expense) Benefit, Net',\n",
      "       'Income (Loss) from Continuing Operations',\n",
      "       'Net Extraordinary Gains (Losses)', 'Net Income',\n",
      "       'Net Income (Common)'],\n",
      "      dtype='object')\n"
     ]
    }
   ],
   "source": [
    "# The headings of columns are called keys. \n",
    "# The columns themselves are called series.\n",
    "# To see what all the columns are in our dataframe, use the .keys() function. \n",
    "print(Income_Data.keys())\n"
   ]
  },
  {
   "cell_type": "code",
   "execution_count": 15,
   "metadata": {
    "pycharm": {
     "name": "#%%\n"
    }
   },
   "outputs": [
    {
     "data": {
      "text/plain": "0           A\n1           A\n2           A\n3           A\n4           A\n         ... \n10505    ZYXI\n10506    ZYXI\n10507    ZYXI\n10508    ZYXI\n10509    ZYXI\nName: Ticker, Length: 10510, dtype: object"
     },
     "execution_count": 15,
     "metadata": {},
     "output_type": "execute_result"
    }
   ],
   "source": [
    "# To see series data for a single key:\n",
    "Income_Data['Ticker']"
   ]
  },
  {
   "cell_type": "code",
   "execution_count": 33,
   "outputs": [
    {
     "data": {
      "text/plain": "0        2016-10-31\n1        2017-10-31\n2        2018-10-31\n3        2019-10-31\n4        2020-10-31\n            ...    \n10505    2015-12-31\n10506    2016-12-31\n10507    2017-12-31\n10508    2018-12-31\n10509    2019-12-31\nName: Report Date, Length: 10510, dtype: object"
     },
     "execution_count": 33,
     "metadata": {},
     "output_type": "execute_result"
    }
   ],
   "source": [
    "Income_Data['Report Date']"
   ],
   "metadata": {
    "collapsed": false,
    "pycharm": {
     "name": "#%%\n"
    }
   }
  },
  {
   "cell_type": "code",
   "execution_count": 17,
   "metadata": {
    "pycharm": {
     "name": "#%%\n"
    }
   },
   "outputs": [
    {
     "data": {
      "text/plain": "array(['2016-10-31', '2017-10-31', '2018-10-31', ..., '2017-12-31',\n       '2018-12-31', '2019-12-31'], dtype=object)"
     },
     "execution_count": 17,
     "metadata": {},
     "output_type": "execute_result"
    }
   ],
   "source": [
    "Income_Data['Report Date'].values"
   ]
  },
  {
   "cell_type": "code",
   "execution_count": 18,
   "metadata": {
    "pycharm": {
     "name": "#%%\n"
    }
   },
   "outputs": [
    {
     "name": "stdout",
     "output_type": "stream",
     "text": [
      "The resulting type of object from our series selection is a: <class 'pandas.core.series.Series'>\n",
      "using .values after our selection turns this into a: <class 'numpy.ndarray'>\n"
     ]
    }
   ],
   "source": [
    "print('The resulting type of object from our series selection is a:', type(Income_Data['Report Date']) )\n",
    "print('using .values after our selection turns this into a:', type(Income_Data['Report Date'].values) )"
   ]
  },
  {
   "cell_type": "code",
   "execution_count": 19,
   "metadata": {
    "scrolled": true,
    "pycharm": {
     "name": "#%%\n"
    }
   },
   "outputs": [
    {
     "name": "stdout",
     "output_type": "stream",
     "text": [
      "{'BIG', 'OXY', 'SIOX', 'KSS', 'PCRX', 'OTLK', 'SBUX', 'BBRG', 'MODV', 'LEVI', 'PLUS', 'RAI', 'CP', 'EXP', 'GCI', 'BDX', 'RGLD', 'UTMD', 'AYI', 'ZBRA', 'HURN', 'MB', 'YORW', 'BRBR', 'TWI', 'VEC', 'CWEN', 'NLST', 'PK', 'ANDV', 'DIN', 'AVEO', 'XBIT', 'SOTK', 'APTI', 'NEPH', 'O', 'VGR', 'CRY', 'VLGEA', 'SMPL', 'SIRI', 'PBH', 'RMCF', 'HIW', 'JAGX', 'MCF', 'HUBS', 'TYPE', 'ADES', 'IO', 'WHR', 'FLR', 'PDEX', 'FIS', 'WWD', 'ANY', 'GHC', 'VRSN', 'RKDA', 'LGIH', 'VXRT', 'DIT', 'TESS', 'JSDA', 'WDC', 'ADNT', 'SDON', 'BJRI', 'HFC', 'PTE', 'LEE', 'THC', 'PGNX', 'CBRL', 'INTT', 'NDAQ', 'CRSR', 'FARO', 'SYNA', 'TEN', 'NICK', 'NTIP', 'ATKR', 'HROW', 'GRMM', 'AMT', 'TPH', 'UPL', 'HCA', 'PPSI', 'CLBS', 'CME', 'STX', 'LOXO', 'YHOO', 'KATE', 'CXW', 'CZR', 'ANGI', 'MCK', 'MJCO', 'PVAC', 'AAOI', 'SNH', 'A', 'NSTG', 'WSM', 'BEN', 'PFGC', 'OKTA', 'LZB', 'CRAY', 'SOHO', 'CVGI', 'APPF', 'ES', 'SPB', 'BL', 'HRL', 'CHEF', 'OHI', 'YETI', 'ALV', 'LKSD', 'MORN', 'AEP', 'CMLS', 'APY', 'CCF', 'SGMO', 'SHLX', 'WMB', 'MSCI', 'NSPR', 'CDR', 'UHS', 'SLG', 'USG', 'DDOG', 'MMSI', 'NKE', 'WRK', 'BFS', 'DTIL', 'BTAI', 'FLDM', 'FSCT', 'CAT', 'PRPL', 'GSEG', 'BV', 'KFY', 'QGEN', 'VRSK', 'BRCD', 'UGI', 'NPTN', 'UDR', 'BLOX', 'AGIO', 'OLED', 'ERS', 'MMMB', 'SKX', 'VMC', 'CTSH', 'EXA', 'HALO', 'WHG', 'AVY', 'SLB', 'GM', 'ITG', 'ILMN', 'LOGM', 'DALN', 'UNIT', 'BR', 'NSA', 'HAYN', 'MACK', 'ICE', 'NEWR', 'TVPT', 'LPLA', 'LDOS_old', 'RMBL', 'HCHC', 'MEIP', 'INSW', 'RH', 'PRSP', 'EE', 'PLCE', 'TTC', 'XRX', 'CYCC', 'GXP', 'PX', 'NVTA', 'ALOT', 'ARWR', 'BAH', 'VRTX', 'GILD', 'PRO', 'ADFK', 'NDLS', 'DEVV', 'TXT', 'AAC_delist', 'TFX', 'TSLA', 'BV_old', 'SPAN', 'TNL', 'USCR', 'CRC', 'KITE', 'THS', 'KKR', 'PEAK', 'BAX', 'RDWR', 'KTOS', 'GWPH', 'CHRW', 'OGE', 'FBHS', 'BKH', 'BTU', 'MNI', 'DNB', 'SGEN', 'MIC', 'FKWL', 'NTAP', 'NUVA', 'IPDN', 'ETM', 'FLWS', 'SJM', 'CASA', 'FLUG', 'TEUM', 'INFI', 'COKE', 'TST', 'AAMC', 'CRUS', 'MTZ', 'IPG', 'SSNC', 'PERF', 'SRDX', 'AMN', 'HCCI', 'SXC', 'GOOG', 'LGL', 'PSSR', 'AWI', 'ACI', 'APH', 'AFI', 'CMS', 'PJT', 'AGN', 'WGL', 'KANP', 'SMG', 'LAYN', 'PUBM', 'LAKE', 'SHEN', 'OLN', 'VNE', 'HUBB', 'SABR', 'NGVC', 'SAM', 'USM', 'QRTEA', 'RSPP', 'FTEK', 'LII', 'ALK', 'UIS', 'BXP', 'FCX', 'NWE', 'XPO', 'BLUE', 'SBH', 'ALNY', 'TTGT', 'JCOM', 'AC', 'SAFM', 'ASPN', 'MKC', 'VIA', 'CIE', 'MDRX', 'ENDP', 'BSTC', 'GRPN', 'VOLT', 'AVT', 'AZZ', 'HP', 'NMBL', 'MJTK', 'BIO', 'CMC', 'CVCO', 'DECK', 'ACU', 'VALPQ', 'OMCL', 'SCPL', 'FORR', 'F', 'LPX', 'INOV', 'ODT', 'FRANQ', 'TUSK', 'PRXL', 'NRG', 'BHI', 'AIR', 'MANH', 'BXC', 'LBTYA', 'SHO', 'D', 'MSI', 'ADS', 'QEP', 'HOLX', 'PNR', 'SBAC', 'ELY', 'IOTS', 'PGTI', 'BLKB', 'TDOC', 'MCY', 'LHCG', 'LITE', 'CAL', 'PZZA', 'TRN', 'EPE', 'TEL', 'WLK', 'GWRE', 'HSII', 'ARNA', 'RE', 'RRC', 'ZUO', 'TGNA', 'JW-A', 'EXTR', 'SCX', 'TYL', 'HMTV', 'FNJN', 'VSTO', 'NWY', 'SYRG', 'CMG', 'STRA', 'GEOS', 'HSKA', 'DDD', 'CSWI', 'SIX', 'PCP', 'CNXR', 'SINT', 'MMEG', 'EIX', 'NI', 'MDB', 'KLAC', 'SSD', 'MITK', 'MC', 'CAMP', 'BYD', 'SNOW_delis', 'SOHU', 'AVXL', 'COO', 'SRE', 'GRUB', 'FORD', 'CALM', 'BSTG', 'CRDF', 'IVAC', 'ASO', 'PRPO', 'JHG', 'HUN', 'TRUP', 'QVC', 'MUX', 'RHE', 'VAC', 'DY', 'KTEC_delis', 'COHR', 'CCI', 'HCC', 'TXG', 'CMBG', 'SWY', 'PTN', 'FL', 'SHOR', 'GRC', 'RFIL', 'SAIL', 'KND', 'HEI', 'SESN', 'COP', 'ZAYO', 'GTHX', 'AAPL', 'CREE', 'DMRC', 'PCAR', 'PAHC', 'VERI', 'CACI', 'UHAL', 'ELS', 'IRM', 'VRNS', 'ISR', 'AMG', 'MEDP', 'ELAN', 'TUEM', 'LAMR', 'CWT', 'SFM', 'WSTL', 'FNKO', 'ITRI', 'JBGS', 'LAD', 'LLNW', 'ARRY', 'NJR', 'AXGN', 'MIND', 'AAP', 'FUL', 'WAT', 'U', 'AMSWA', 'FIT', 'PBYI', 'HES', 'IAA', 'FRP', 'ROKU', 'OSTK', 'OMI', 'CVSI', 'CGNX', 'TRUE', 'RRGB', 'DHR', 'BOOM', 'PTC', 'SNDK', 'KO', 'ATVI', 'AEIS', 'PSTG', 'CWH', 'LUMO', 'CTLP', 'CSRA', 'SCND', 'STLD', 'ASCMA', 'AAL', 'ICUI', 'SCOR', 'SRCL', 'BOXL', 'CSCO', 'MOS', 'TRIP', 'CGA', 'JBL', 'MXPT', 'ADMA', 'TAST', 'NUTR', 'OPGN', 'BLCM', 'ROIA', 'EYPT', 'SD', 'IEX', 'VALU', 'XOG', 'VLO', 'SGMA', 'CLH', 'EVBG', 'HAS', 'GWGH', 'RGLS', 'CABO', 'DORM', 'CMD', 'UTL', 'DEN', 'RGC', 'UPLD', 'FICO', 'ROCK', 'FHI', 'GSHD', 'CDK', 'MIK', 'ISIL', 'CNXC', 'CDE', 'BRKR', 'ALGN', 'HQY', 'SMP', 'FMC', 'LOPE', 'NATR', 'OPRX', 'BRSS', 'KMI', 'WORK', 'STAA', 'IFF', 'SWI', 'VLDR', 'DG', 'SCHL', 'CQP', 'ELMD', 'FGP', 'DVN', 'TMHC', 'PM', 'REZI', 'APD', 'AGYS', 'RIG', 'PFE', 'WR', 'SCG', 'ACRX', 'OMP', 'RAMP', 'GNTX', 'TPX', 'BC', 'BKD', 'CHGG', 'CCXI', 'YELP', 'BCR', 'CDW', 'GSIT', 'LEAT', 'BSQR', 'KDP', 'SPNE', 'ARQL', 'CUO', 'DELL', 'HNNA', 'WCG', 'MU', 'MPX', 'SNI', 'RRR', 'TRT', 'IDCC', 'CMT', 'VSM', 'NAV', 'SBGI', 'NWS', 'BBGI', 'HABT', 'MTRX', 'DZSI', 'EAT', 'FIVN', 'SOFO', 'BKR', 'AE', 'BGS', 'CMI', 'GIMO', 'KMG', 'NANO', 'QUOT', 'FIX', 'AFRM', 'QSR', 'JNPR', 'TUP', 'WKHS', 'FRGI', 'AMED', 'NBL', 'NAII', 'AVYA', 'ARCH', 'EPAC', 'FROG', 'AVA', 'COVS', 'TCX', 'DXC', 'HSY', 'LANC', 'MXIM', 'G', 'EVC', 'VVV', 'MNTV', 'ARAY', 'OUT', 'PINC', 'RCL', 'SNDR', 'LOV', 'MENT', 'ABMC', 'IHT', 'MOV', 'HDSN', 'DSKE', 'AAN', 'ATOM', 'ESI_delist', 'LEG', 'MOH', 'PRGS', 'SGC', 'STZ', 'LKQ', 'FIVE', 'VAL_delist', 'TWIN', 'EMN', 'VRS', 'YELL', 'DOV', 'PNRA', 'DNOW', 'CSU', 'MLM', 'BMY', 'LBRDA', 'APO', 'EOG', 'NXGN', 'SAIA', 'DYN', 'KAR', 'MED', 'TRMB', 'NGVT', 'AWRE', 'OLLI', 'EPZM', 'APEI', 'ATR', 'SMIT', 'FTI_old', 'GPC', 'GLBL_delis', 'URI', 'GIS', 'FLLC', 'OI', 'MD', 'HIBB', 'PTON', 'XNCR', 'SRNE', 'FTK', 'ATRO', 'AXTA', 'FNSR', 'CALL', 'AGS', 'CORT', 'VAPE', 'VSAT', 'WCIC', 'BRKS', 'ATHN_delis', 'SLQT', 'GLW', 'CBT', 'CAH', 'EMR', 'SPGI', 'CTLT', 'LRCX', 'ABMD', 'BWLA', 'MDU', 'SPR', 'MRO', 'XYL', 'FSS', 'MTOR', 'APOG', 'CLF', 'JEF', 'AMC', 'IT', 'ASTC', 'LSAQ', 'RYAM', 'EHC', 'LTRPA', 'TPCS', 'BRC', 'NERV', 'SAVE', 'RAX', 'NVCR', 'GPORQ', 'IMSCQ', 'CCS', 'NVST', 'PBSV', 'H', 'SCVL', 'EA', 'DD', 'RGEN', 'WLTW', 'BF-A', 'DPZ', 'VEEV', 'HOT', 'NVR', 'PRTS', 'IART', 'BBBY', 'LPSN', 'GMAN', 'CHART', 'CSPR', 'PSFE', 'ROK', 'PACB', 'VNO', 'NYT', 'ADOM', 'ITW', 'ZTS', 'KSU', 'CYAN', 'FB', 'CUBE', 'THMO', 'QTNA', 'UNFI', 'PRKA', 'VTVT', 'CTAS', 'OPTT', 'VIVE', 'DVAX', 'MAMS', 'URBN', 'AAWW', 'SMTC', 'LSCC', 'NEOS', 'VSLR', 'LXRX', 'HURC', 'CR', 'MRC', 'ALB', 'BSET', 'RDC', 'TGTX', 'LQDT', 'CSGS', 'BMBL', 'CBB', 'CTS', 'LEGH', 'LOVE', 'IQV', 'MRK', 'GH', 'TA', 'MAA', 'KOS', 'VRTU', 'ATNX', 'GCO', 'SLNM', 'CARG', 'WMGI_delis', 'GLUU', 'AMRK', 'CRD-A', 'IDA', 'CSLT', 'EVA', 'DXPE', 'QCOM', 'TPB', 'AEO', 'DKS', 'MON', 'SCWX', 'SFLY', 'CHSP', 'DIS', 'ALLE', 'HNGR', 'NDSN', 'GHDX', 'CHK', 'WINH', 'FRT', 'WRI', 'SDPI', 'CBLK', 'TTPH', 'GEL', 'ALGT', 'SPLK', 'MEET', 'ATUS', 'Z', 'DGX', 'ZVO', 'YOGAQ', 'KR', 'BLUD', 'JOY', 'LXU', 'RAIL', 'LVGO', 'TECD', 'MICT', 'GDOT', 'MGP', 'NEP', 'JWN', 'MGNI', 'CK00007861', 'GGG', 'GNRC', 'TCMD', 'TNDM', 'NBY', 'NEM', 'DK', 'TMUS', 'CHKE', 'SMLP', 'HST', 'AVAV', 'HGEN', 'CCO', 'EVFM', 'OGS', 'BURL', 'MDLZ', 'PPL', 'VTR', 'BGSF', 'ALTMS', 'ADTN', 'SNEX', 'ABEO', 'R', 'SRRA', 'BYND', 'AUDH', 'CA', 'NXST', 'MGEE', 'YEXT', 'DXLG', 'CHDN', 'REGN', 'INTU', 'LEA', 'EBAY', 'GTT', 'TM-28', 'FCPT', 'VNT', 'DBI', 'FC', 'BMI', 'DRQ', 'UFS', 'BOX', 'BSY', 'HOG', 'FOE', 'REV', 'ROST', 'FLT', 'AOS', 'FRD', 'CNK', 'SYK', 'MNRO', 'STML', 'CLDT', 'PMD', 'DAR', 'AVTR', 'PHM', 'CRL', 'ELYS', 'MAN', 'TIVO', 'CSC', 'LGCY', 'VLRX', 'CE', 'USNA', 'BRS', 'ENG', 'NSC', 'AMTD', 'OII', 'TPR', 'PI', 'BLL', 'HSTM', 'SCSC', 'NUE', 'FRED', 'ABT', 'USAP', 'NTNX', 'BZH', 'FET', 'ELLI', 'MDR', 'SDC', 'DENN', 'TROX', 'UFPI', 'PII', 'TMX', 'AZO', 'EW', 'BDC', 'EPD', 'PRTX', 'HNRG', 'CRM', 'TLYS', 'TER', 'UG', 'RDFN', 'SYY', 'EXPE', 'NTGR', 'WING', 'OMED', 'NGL', 'INVA', 'VAR', 'ALKS', 'LW', 'PLAY', 'MAR', 'LUV', 'EQR', 'PKG', 'SSP', 'FCN', 'ZM', 'OSK', 'TPCO', 'MKSI', 'GOEV', 'BKI', 'ECYT', 'TRC', 'LFUS', 'SUP', 'CMCSA', 'RIHT', 'NFLX', 'TTMI', 'LIVN', 'PURE', 'ABIO', 'BLFS', 'NTUS', 'BE', 'OC', 'AKRX', 'HTGM', 'SLAB', 'EXR', 'NEU', 'AMAT', 'LVS', 'ARA', 'ACLS', 'FFIV', 'SORL', 'IEP', 'PEN', 'CVNA', 'IRDM', 'MTSI', 'RFP', 'STJ', 'RGS', 'EXC', 'CSX', 'TOL', 'ACHC', 'OMC', 'SQ', 'WTRG', 'CRI', 'WEB', 'LRDC', 'UPS', 'ATO', 'AXN', 'LCI', 'MGPI', 'BREW', 'DUK', 'EBIX', 'ABCD', 'BCPC', 'GUID', 'SNPS', 'RSYS', 'KDNY', 'LLL', 'HAE', 'ORCL', 'SGH', 'CMCO', 'ATI', 'RS', 'EV', 'SFS', 'PKE', 'SEE', 'WEN', 'NH', 'SPG', 'CAVM', 'CUB', 'GOOD', 'GEF', 'JVA', 'AA', 'CACC', 'DYNT', 'JAN', 'KN', 'NUS', 'TWX', 'WU', 'REMI', 'CBM', 'MRVL', 'IEHC', 'PLD', 'SCI', 'BWA', 'CSTL', 'FCFS', 'ADBE', 'AMRS', 'CSOD', 'FGEN', 'TR', 'IAC', 'WYNN', 'USX', 'BFAM', 'FE', 'BGCP', 'HAIN', 'CETX', 'AWK', 'IMGN', 'ISEE', 'PHX', 'ATW', 'NCLH', 'EGAN', 'LBUY', 'GRA', 'ONEM', 'RPM', 'ADPT_delis', 'MGCD', 'IPXL', 'LPG', 'DAL', 'ACY', 'SSTK', 'WW', 'GIDYL', 'MYO', 'ZYXI', 'DNKN', 'ISDR', 'MASI', 'COMM', 'STAY', 'INVH', 'CAKE', 'COUP', 'AIT', 'TNET', 'TPIC', 'SM', 'TREX', 'SOLY', 'GLP', 'PAYC', 'SSNT', 'CULP', 'ZS', 'CQH', 'GLPI', 'HRI', 'SSNI', 'APVO', 'SGMS', 'SMRT', 'BRID', 'AMD', 'LECO', 'NP', 'AES', 'CYIG', 'LTHM', 'EVI', 'ITGR', 'EQT', 'WATT', 'CDMO', 'CVA', 'NLOK', 'RHI', 'DISCA', 'IVTY', 'LMNR', 'EGLT', 'SAFE', 'DOC', 'PCTI', 'LEN', 'JCI', 'AVP', 'WWE', 'TEAM', 'CRVS', 'PDLI', 'MNK', 'T', 'TWLO', 'JILL', 'LMB', 'TACO', 'APRN', 'NSP', 'XOM', 'CHJI', 'NCR', 'NKT.CO', 'PETS', 'PWR', 'NEO', 'QTNT', 'PD', 'HLF', 'WST', 'XCRA', 'FTI', 'JCP', 'EVRG', 'RGNX', 'GT', 'CTMX', 'NET', 'LIVE', 'BVSN', 'ABTL', 'XEL', 'ABM', 'MTD', 'ANET', 'MPC', 'NSSC', 'RSLS', 'REED', 'WPX', 'ESS', 'DISH', 'DOW', 'PAYX', 'PIXY', 'HAL', 'TIGR', 'MATR', 'HT', 'KRA', 'APTV', 'HD', 'NFG', 'SRT', 'FBRX', 'DE', 'DS', 'APPS', 'FRPT', 'UBX', 'UNH', 'ECA', 'ALJJ', 'RGR', 'KLIC', 'KURA', 'NE', 'SHAK', 'KE', 'FCEL', 'KW', 'ACIW', 'ADVM', 'NCMI', 'PH', 'LH', 'PYYX', 'WAIR', 'ETR', 'AMBA', 'FOLD', 'JCG', 'KKD', 'IMO', 'PDD', 'MOBL', 'MCO', 'PSN', 'GD', 'ALRM', 'UA', 'SNAK', 'INGR', 'TSQ', 'EAST', 'FELE', 'PCH', 'RAVN', 'NEE', 'CMP', 'MEI', 'EPRT', 'INT', 'CASI', 'NTRI', 'CLC', 'VOXX', 'KHC', 'EHTH', 'DLPH', 'FIZZ', 'VIAC', 'OTIS', 'DFODQ', 'MNST', 'GLYC', 'IP', 'PSB', 'SEB', 'DDE', 'IRBT', 'CLR', 'NHC', 'RGP', 'AIMC', 'DRTT', 'CRS', 'PRLB', 'AKS', 'AGNC', 'CMBM', 'ACW', 'ITI', 'MTCH', 'PSA', 'ECL', 'AWX', 'MPWR', 'FARM', 'SLP', 'SILK', 'RCII', 'EPAY', 'ABCL', 'HOMR', 'SRGA', 'GMED', 'CSGP', 'TLRY', 'EB', 'SEV', 'TSRO', 'PRGO', 'AMWD', 'LOGI', 'CCH', 'ETN', 'MDXG', 'WK', 'KEX', 'KIM', 'NX', 'IDT', 'PNM', 'CRTO', 'BG', 'SQBG', 'ARNC', 'AMOT', 'ABUS', 'VCYT', 'MASS', 'MDP', 'TLRD', 'BLK', 'ALX', 'KSPN', 'M', 'MMM', 'ACIA', 'VIPS', 'ARCW', 'CRZO', 'ZGNX', 'SONO', 'CDNA', 'FOSL', 'BCO', 'INFN', 'PRCP', 'PESI', 'PTEN', 'GWW', 'MTRN', 'QNST', 'ROP', 'SDGR', 'CST', 'EPM', 'CLNE', 'SHOO', 'POOL', 'CNS', 'CLFD', 'LMT', 'SNAP', 'CNDT', 'KOPN', 'ESRX', 'TTOO', 'ARCB', 'MUR', 'ULTA', 'SCRH', 'FLS', 'TROW', 'BIIB', 'EXDX', 'MO', 'PLTR', 'AEPI', 'ALTR', 'CCK', 'COT', 'MFON', 'NRTHF', 'ESP', 'SHOS', 'HI', 'RNLX', 'ACAN', 'ULTI', 'TRU', 'CDI', 'MRAM', 'ARLO', 'GPRE', 'MATX', 'TKR', 'QLGC', 'HDP', 'NURO', 'CXO', 'PGRE', 'TDW', 'ALRN', 'FTRCQ', 'MIDD', 'ESTC', 'USFD', 'BPL', 'CERN', 'BPMC', 'PLAB', 'ALJ', 'SNBR', 'HDS', 'SPNC', 'ASNA', 'SXT', 'CFMS', 'GRMN', 'SYNT', 'PRAH', 'ACAD', 'COTV', 'PCG', 'GFF', 'MGNX', 'PDCO', 'AMSC', 'ACN', 'LSYN', 'WMT', 'MTN', 'CCOI', 'APRE', 'COL', 'IIPR', 'KIRK', 'CNX', 'OKE', 'SNA', 'SHPGF', 'LAZ', 'RUN', 'EXEL', 'BKE', 'MCD', 'RL', 'GPS', 'LL', 'NKTR', 'BGNE', 'EXPI', 'MTEM', 'SANM', 'MTBC', 'VERU', 'AMP', 'LTRX', 'WAB', 'AME', 'RPD', 'SWX', 'DEI', 'CUTR', 'DOCU', 'ACAT', 'DLX', 'LLTC', 'LHX', 'ABNB', 'NS', 'SHW', 'JAKK', 'NWPX', 'PVH', 'ASPU', 'CBI', 'PLUG', 'ZAGG', 'STOK', 'MGLN', 'AMKR', 'XEC', 'EBF', 'FCS', 'SNOW', 'SRPT', 'ALPN', 'PG', 'DYN_delist', 'PSTI', 'MNKD', 'BRK-A', 'WEC', 'WY', 'FONR', 'WMAR', 'TDC', 'TWTR', 'ZEUS', 'KTWO', 'JJSF', 'ACET', 'IPHI', 'WGO', 'LNT', 'OFLX', 'CAG', 'TECH', 'ABBV', 'BB', 'MCFT', 'SIG', 'LOW', 'ENBL', 'HPE', 'HBI', 'ASGN', 'CRSP', 'AMCX', 'CSBR', 'ZI', 'OTRK', 'PDFS', 'TOY_delist', 'CMTL', 'HON', 'BRMK', 'NOVT', 'MODN', 'JELD', 'LYFT', 'AKAM', 'BBWI', 'POST', 'CLCT', 'FOR', 'NNN', 'WBA', 'ADT', 'ITT', 'CALD', 'AXL', 'PEP', 'DAN', 'MVIS', 'X', 'DDS', 'AMGN', 'NLS', 'AON', 'MSM', 'ROG', 'VIDE', 'CL', 'ONVO', 'ZEN', 'ARLP', 'CF', 'MHK', 'EVLO', 'BKNG', 'BKS', 'NC', 'GPN', 'MJN', 'CVLT', 'MIST', 'TWST', 'BCOR', 'KMX', 'FEIM', 'AGCO', 'JYNT', 'YNDX', 'GO', 'NLSN', 'WSO', 'EIGI', 'EXAS', 'BNFT', 'TM', 'NUAN', 'ULH', 'SPH', 'MCHP', 'AVGR', 'TBTC', 'ED', 'PODD', 'TENB', 'PLAN', 'K', 'SHLDQ', 'PINS', 'MDT', 'WES', 'CNNX', 'ADIL', 'SIGM', 'SLM', 'CRWD', 'CTIC', 'IVDN', 'ABC', 'HSIC', 'WBC', 'APC', 'ESL', 'CASY', 'PBF', 'CBRE', 'IVZ', 'JBLU', 'CARS', 'SMED', 'LUNA', 'FOXF', 'AL', 'BA', 'KNX', 'CIK0001446', 'ANDE', 'ETRN', 'ONCT', 'VTRS', 'HEAR', 'WH', 'ULBI', 'FLO', 'RT', 'TCNT', 'SR', 'UAL', 'VYGR', 'JNJ', 'MRTX', 'QS', 'TBIO', 'IPGP', 'MMP', 'CPLG', 'TMO', 'AJRD', 'CHD', 'CSS', 'PEB', 'WEX', 'RST', 'TLND', 'QDEL', 'ADM', 'ACCO', 'ANF', 'RYN', 'UI', 'NFX', 'SFIX', 'WWW', 'SJW', 'ACER', 'EFX', 'JCS', 'RNG', 'FANG', 'OCC', 'COST', 'IIN', 'CIDM', 'QSIM', 'WFM', 'ADPT', 'SITE', 'MBIO', 'RUSHA', 'SPCE', 'SEDG', 'SLGN', 'TXRH', 'KLXI', 'FPH', 'DHX', 'EXPD', 'IDSY', 'MN', 'WOOF', 'NHHS', 'COLM', 'CDNS', 'ENZ', 'CROX', 'SPPI', 'ROL', 'ARTEC', 'TGT', 'TTEK', 'FLIR', 'PEG', 'HLI', 'OTEL', 'CERS', 'PBI', 'CXP', 'IMDZ', 'MWW', 'FR', 'SKYW', 'SMID', 'IPAR', 'ADI', 'HCOM', 'EAF', 'IRIX', 'CNC', 'STMP', 'VSTM', 'CTXS', 'FLXS', 'SGM', 'CTVA', 'SHLM', 'SKY', 'GLGI', 'GE', 'OSIS', 'GPRO', 'NTRA', 'LIN', 'TESO', 'GBT', 'CDZI', 'FMSA', 'TSSI', 'LULU', 'BVS', 'ANDX', 'RMD', 'SGA', 'TRHC', 'AGR', 'CALA', 'EGY', 'HTLD', 'MKTX', 'NBIX', 'ARG', 'DFCO', 'WCC', 'CRR', 'ADV', 'SATS', 'SONC', 'CC', 'HRT', 'ASAN', 'COR', 'ABAX', 'CELH', 'SNX', 'NNDM', 'ICPT', 'PCMI', 'ARTX', 'CVX', 'Y', 'INOD', 'WNC', 'HPQ', 'DCPH', 'NOV', 'OTEX', 'RWLK', 'DTE', 'IPI', 'QCP', 'AKER', 'VNTV', 'MMI', 'SVU', 'SVT', 'JAZZ', 'CARR', 'RLJE', 'RIOT', 'FUEL', 'DKNG', 'DESTQ', 'IDXX', 'MSCC', 'THO', 'CCL', 'LEAF', 'COGT', 'BLD', 'CLAR', 'AXTI', 'ACA', 'MYCC', 'CNSL', 'SWN', 'PPC', 'ENV', 'DLTR', 'ALE', 'HII', 'SHLO', 'CRWS', 'UNP', 'CWRL', 'TSN', 'ALCO', 'BSPM', 'LABL', 'UBER', 'FSLR', 'ZBH', 'GME', 'EFOI', 'SCHN', 'BWXT', 'DCI', 'TGI', 'LSTR', 'ST', 'OVV', 'ADUS', 'STOR', 'VRA', 'XLNX', 'CK00015503', 'BMRA', 'TIS', 'WSCI', 'CHH', 'PIR', 'GIII', 'TLCC', 'EMC', 'ACET_delis', 'PRCH', 'GENC', 'HLT', 'PFPT', 'OSPN', 'TEVA', 'ISRG', 'SYRS', 'CIK', 'AVNW', 'EQM', 'PS', 'RAVE', 'BRO', 'STRM', 'CELG', 'BNED', 'CVS', 'GEVO', 'GOLF', 'MSGE', 'ANIK', 'ACM', 'IBRX', 'PLNT', 'CHRS', 'WINA', 'TJX', 'MLAB', 'OA', 'NWL', 'XRAY', 'WIFI', 'CKP', 'RP', 'NVAX', 'CDAY', 'PHUN', 'SEAS', 'YUM', 'EGHT', 'UPST', 'CLGX', 'AREX', 'ETD', 'ARMK', 'HZO', 'BLDR', 'ESI', 'TT', 'CPXX', 'BGG', 'MYL', 'ENS', 'PRGB', 'SYUT', 'TDY', 'HELE', 'KPTI', 'SAVA', 'HCSG', 'ON', 'HMHC', 'AHPI', 'ISSC', 'WIN', 'WTS', 'CODI', 'MRNA', 'SON', 'BONT', 'EPAM', 'GES', 'SNCR', 'NINE', 'RLGY', 'ADP', 'REI', 'CNP', 'EVH', 'CAGU', 'BMS', 'SMAR', 'CONE', 'WLB', 'TSRI', 'AGI', 'ARE', 'HOFT', 'MAXR', 'VMW', 'DTRM', 'VRNT', 'PEGA', 'PXD', 'LYV', 'PPIH', 'DPHC', 'SWBI', 'PVHO', 'CLX', 'WNDW', 'PCTY', 'LYB', 'HRB', 'YGYI', 'CPT', 'WPC', 'SWK', 'HOME', 'GBX', 'MAC', 'AMH', 'TTWO', 'SRLP', 'INFOR', 'RES', 'FLGT', 'FLEX', 'RHT', 'ASH', 'VNCE', 'IMPV', 'AZPN', 'ALSN', 'CMPR', 'CALX', 'SMCI', 'TIF', 'ZNGA', 'NOW', 'JKHY', 'EVOP', 'MDCA', 'AGX', 'EVRI', 'CHWY', 'OOMA', 'LLY', 'TSCO', 'GEO', 'SPOK', 'AN', 'MELI', 'GWRS', 'MAS', 'ENVA', 'GDRX', 'BOOT', 'FTNT', 'CMRO', 'XCO', 'STRR', 'DOMO', 'FTV', 'FTCH', 'AVLR', 'KBR', 'BMRN', 'CHNG', 'BBSI', 'ZUMZ', 'AAON', 'DPLO', 'CSL', 'TITN', 'KMT', 'FND', 'SSI', 'MARK', 'EDIT', 'DATA', 'QRVO', 'INFU', 'ALT', 'WTRH', 'CPN', 'BHR', 'HYLN', 'RDNT', 'TSE', 'KMB', 'LVLT', 'CBOE', 'PPG', 'SUI', 'TWOU', 'ITCI', 'TVTY', 'BID', 'KEM', 'MARA', 'AP', 'TYME', 'ARVN', 'FAST', 'VC', 'AEE', 'BCEI', 'EL', 'XPER', 'ICPW', 'MA', 'KWR', 'TOWR', 'DBD', 'HPJ', 'QLYS', 'MXWL', 'SYNH', 'FORM', 'ENPH', 'NCSO', 'JOUT', 'CIEN', 'AIRI', 'SLCA', 'IONS', 'CHTR', 'IBM', 'LUMN', 'NOC', 'CCFI', 'VIRC', 'TRNS', 'INCY', 'PANW', 'RATE', 'MRSN', 'ACPW', 'ADXS', 'HRC', 'TLRA', 'FDX', 'TDG', 'V', 'NVT', 'LDOS', 'MHO', 'GERN', 'ICHR', 'BPMP', 'FISV', 'PKI', 'LSXMA', 'AXON', 'TTD', 'LNG', 'OCN', 'IRG', 'ASYS', 'ALXN', 'BRX', 'DLB', 'CFX', 'CBKCQ', 'COTY', 'RIGL', 'HAR', 'WOR', 'SO', 'AOSL', 'HL', 'HWM', 'RTN', 'ZIOP', 'ALG', 'XHR', 'TMDX', 'DT', 'CHE', 'SINO', 'BKTI', 'COG', 'BHC', 'BGFV', 'EXPO', 'ALSK', 'ZYNE', 'KODK', 'WERN', 'AVNT', 'CCMP', 'NHTC', 'OXM', 'AJG', 'VZ', 'SJI', 'FSLY', 'SUPN', 'CENT', 'CNR', 'NATI', 'MGM', 'INTC', 'CIVI', 'SAIC', 'EGP', 'MSFT', 'HIL', 'DLTH', 'VWR', 'CGRN', 'JBHT', 'UFI', 'EEI', 'NVEC', 'WEWA', 'LEDS', 'UTHR', 'DASH', 'SPT', 'TRGP', 'VMI', 'AVB', 'VSH', 'UNVR', 'OXFD', 'EQIX', 'J', 'CLDR', 'MLHR', 'WM', 'MRCY', 'NKLA', 'MUSA', 'APA', 'NUZE', 'CRIS', 'NXPI', 'KBH', 'FTDR', 'PYPL', 'VKTX', 'TIME', 'HXL', 'CSII', 'BSX', 'WELL', 'PLPC', 'JACK', 'PUMP', 'MSA', 'ODP', 'CY', 'NEOG', 'CPRT', 'GRWG', 'XPEL', 'MMS', 'GWR', 'AYX', 'LNN', 'W', 'AVNS', 'JOE', 'FDS', 'MBOT', 'SEIC', 'ANSS', 'KEYS', 'ABG', 'SE_deliste', 'BX', 'JMBA', 'STE', 'CUZ', 'STFR', 'IHRT', 'SWKS', 'EEFT', 'SAH', 'FDC', 'LPTH', 'DEA', 'ESCA', 'REN', 'CLRB', 'VFC', 'WMG', 'CPSI', 'RUTH', 'CODA', 'SGY', 'SPRT', 'APU', 'WDAY', 'TAP', 'EVR', 'FLOW', 'UPWK', 'CPRI', 'AEHR', 'WIRE', 'FOX_old', 'CW', 'KRO', 'LSI', 'TZOO', 'HTZ', 'PAYS', 'FEYE', 'DVA', 'NVDA', 'LE', 'FOX', 'RBBN', 'RTX', 'LNTH', 'AVGO', 'MAT', 'ADSK', 'FPRX', 'SMSI', 'XONE', 'SPWH', 'BBY', 'ZDGE', 'NTLA', 'PSNL', 'CPS', 'JLL', 'DRE', 'TBI', 'RESI', 'DXCM', 'SURF', 'CONN', 'AROC', 'ARW', 'DRI', 'RICK', 'REXR', 'TSS', 'ORLY', 'SWM', 'MHH', 'TXN', 'RCUS', 'AGLE', 'AKR', 'EVTC', 'RBC', 'CPB', 'TLSA', 'TXMD', 'BHE', 'PATK', 'ODFL', 'HNI', 'EBS', 'EME', 'SANW', 'TAYD', 'CAR', 'PROM', 'TEX', 'BERY', 'HLIO', 'STRT', 'EXPR', 'ENR', 'LCUT', 'AMZN', 'OPEN', 'ETSY', 'PNW', 'BH', 'PLSE', 'RAD', 'BLI', 'FF', 'KONAQ', 'GDDY', 'CATO', 'UUUU', 'SPXC', 'REAL', 'MDSO', 'WMK', 'SPLS', 'WSTC', 'NDMT', 'TREE', 'DBX', 'PSX', 'RSG', 'INFO'}\n"
     ]
    }
   ],
   "source": [
    "# To get a list of tickers that exist, we could use the set operations we learned earlier.\n",
    "my_set = set(Income_Data['Ticker'].values)\n",
    "print(my_set)"
   ]
  },
  {
   "cell_type": "code",
   "execution_count": 20,
   "metadata": {
    "pycharm": {
     "name": "#%%\n"
    }
   },
   "outputs": [
    {
     "data": {
      "text/plain": "array(['A', 'AA', 'AAC_delist', ..., 'ZVO', 'ZYNE', 'ZYXI'], dtype=object)"
     },
     "execution_count": 20,
     "metadata": {},
     "output_type": "execute_result"
    }
   ],
   "source": [
    "#Alternatively a dataframe has a function .unique()\n",
    "Income_Data['Ticker'].unique()\n",
    "#print(type(Income_Data['Ticker'].unique()))"
   ]
  },
  {
   "cell_type": "code",
   "execution_count": 21,
   "metadata": {
    "pycharm": {
     "name": "#%%\n"
    }
   },
   "outputs": [
    {
     "name": "stdout",
     "output_type": "stream",
     "text": [
      "The boolean logic on the Fiscal Year column is:  0        False\n",
      "1         True\n",
      "2        False\n",
      "3        False\n",
      "4        False\n",
      "         ...  \n",
      "10505    False\n",
      "10506    False\n",
      "10507     True\n",
      "10508    False\n",
      "10509    False\n",
      "Name: Fiscal Year, Length: 10510, dtype: bool\n"
     ]
    }
   ],
   "source": [
    "# You can use logic on dataframes to obtain a list of boolean values that say whether a rule is True or False for each row.\n",
    "# Let's try and isolate financial data for the 2017 fiscal period. \n",
    "# We will do a boolean check on items in the 'Fiscal Year' column:\n",
    "\n",
    "IsIt2017 = (Income_Data['Fiscal Year'] == 2017)\n",
    "print('The boolean logic on the Fiscal Year column is: ', IsIt2017)"
   ]
  },
  {
   "cell_type": "code",
   "execution_count": 22,
   "metadata": {
    "pycharm": {
     "name": "#%%\n"
    }
   },
   "outputs": [
    {
     "data": {
      "text/plain": "      Ticker  SimFinId Currency  Fiscal Year Fiscal Period Report Date  \\\n1          A     45846      USD         2017            FY  2017-10-31   \n7         AA    367153      USD         2017            FY  2017-12-31   \n13       AAL     68568      USD         2017            FY  2017-12-31   \n18      AAMC    847094      USD         2017            FY  2017-12-31   \n23       AAN    441241      USD         2017            FY  2017-12-31   \n...      ...       ...      ...          ...           ...         ...   \n10489   ZUMZ     45730      USD         2017            FY  2018-01-31   \n10492    ZUO    994625      USD         2017            FY  2018-01-31   \n10497    ZVO    901866      USD         2017            FY  2017-12-31   \n10502   ZYNE    901704      USD         2017            FY  2017-12-31   \n10507   ZYXI    171401      USD         2017            FY  2017-12-31   \n\n      Publish Date Restated Date  Shares (Basic)  Shares (Diluted)  ...  \\\n1       2017-12-21    2018-12-20     322000000.0       326000000.0  ...   \n7       2018-02-26    2019-02-26     184000000.0       187000000.0  ...   \n13      2018-02-21    2019-02-25     489164000.0       491692000.0  ...   \n18      2018-03-01    2018-03-01       1570428.0         1570428.0  ...   \n23      2018-03-01    2019-02-14      70837000.0        72121000.0  ...   \n...            ...           ...             ...               ...  ...   \n10489   2018-03-19    2018-03-19      24679000.0        24878000.0  ...   \n10492   2018-03-15    2020-03-31      26563000.0        26563000.0  ...   \n10497   2018-02-21    2019-03-12      32058000.0        32794000.0  ...   \n10502   2018-03-12    2019-03-11      12914814.0        12914814.0  ...   \n10507   2018-02-28    2019-02-26      32156000.0        33196000.0  ...   \n\n       Non-Operating Income (Loss)  Interest Expense, Net  \\\n1                      -38000000.0            -57000000.0   \n7                     -131000000.0           -104000000.0   \n13                    -836000000.0           -959000000.0   \n18                       1086000.0                    0.0   \n23                     -15122000.0            -18703000.0   \n...                            ...                    ...   \n10489                    -357000.0               495000.0   \n10492                     252000.0               252000.0   \n10497                    1511000.0                    NaN   \n10502                     810705.0               519554.0   \n10507                   -1450000.0             -1450000.0   \n\n       Pretax Income (Loss), Adj.  Abnormal Gains (Losses)  \\\n1                       803000000                      NaN   \n7                      1468000000             -309000000.0   \n13                     3395000000                      NaN   \n18                       -6261000                      0.0   \n23                      257571000              -17994000.0   \n...                           ...                      ...   \n10489                    48403000                      NaN   \n10492                   -37826000                      NaN   \n10497                    16619000               -8682000.0   \n10502                   -32012304                      0.0   \n10507                     7494000                      NaN   \n\n       Pretax Income (Loss)  Income Tax (Expense) Benefit, Net  \\\n1                 803000000                      -1.190000e+08   \n7                1159000000                      -6.000000e+08   \n13               3395000000                      -2.113000e+09   \n18                 -6261000                      -7.080000e+05   \n23                239577000                       5.295900e+07   \n...                     ...                                ...   \n10489              48403000                      -2.160100e+07   \n10492             -37826000                      -1.551000e+06   \n10497               7937000                       1.174000e+06   \n10502             -32012304                       0.000000e+00   \n10507               7494000                      -1.290000e+05   \n\n       Income (Loss) from Continuing Operations  \\\n1                                     684000000   \n7                                     559000000   \n13                                   1282000000   \n18                                     -6969000   \n23                                    292536000   \n...                                         ...   \n10489                                  26802000   \n10492                                 -39377000   \n10497                                   9111000   \n10502                                 -32012304   \n10507                                   7365000   \n\n       Net Extraordinary Gains (Losses)  Net Income  Net Income (Common)  \n1                                   NaN   684000000            684000000  \n7                                   NaN   217000000            217000000  \n13                                  NaN  1282000000           1282000000  \n18                                  NaN    -6969000             -7175000  \n23                                  NaN   292536000            292536000  \n...                                 ...         ...                  ...  \n10489                               NaN    26802000             26802000  \n10492                               NaN   -39377000            -39377000  \n10497                               NaN     9111000              9111000  \n10502                               NaN   -32012304            -32012304  \n10507                               NaN     7365000              7365000  \n\n[2133 rows x 28 columns]",
      "text/html": "<div>\n<style scoped>\n    .dataframe tbody tr th:only-of-type {\n        vertical-align: middle;\n    }\n\n    .dataframe tbody tr th {\n        vertical-align: top;\n    }\n\n    .dataframe thead th {\n        text-align: right;\n    }\n</style>\n<table border=\"1\" class=\"dataframe\">\n  <thead>\n    <tr style=\"text-align: right;\">\n      <th></th>\n      <th>Ticker</th>\n      <th>SimFinId</th>\n      <th>Currency</th>\n      <th>Fiscal Year</th>\n      <th>Fiscal Period</th>\n      <th>Report Date</th>\n      <th>Publish Date</th>\n      <th>Restated Date</th>\n      <th>Shares (Basic)</th>\n      <th>Shares (Diluted)</th>\n      <th>...</th>\n      <th>Non-Operating Income (Loss)</th>\n      <th>Interest Expense, Net</th>\n      <th>Pretax Income (Loss), Adj.</th>\n      <th>Abnormal Gains (Losses)</th>\n      <th>Pretax Income (Loss)</th>\n      <th>Income Tax (Expense) Benefit, Net</th>\n      <th>Income (Loss) from Continuing Operations</th>\n      <th>Net Extraordinary Gains (Losses)</th>\n      <th>Net Income</th>\n      <th>Net Income (Common)</th>\n    </tr>\n  </thead>\n  <tbody>\n    <tr>\n      <th>1</th>\n      <td>A</td>\n      <td>45846</td>\n      <td>USD</td>\n      <td>2017</td>\n      <td>FY</td>\n      <td>2017-10-31</td>\n      <td>2017-12-21</td>\n      <td>2018-12-20</td>\n      <td>322000000.0</td>\n      <td>326000000.0</td>\n      <td>...</td>\n      <td>-38000000.0</td>\n      <td>-57000000.0</td>\n      <td>803000000</td>\n      <td>NaN</td>\n      <td>803000000</td>\n      <td>-1.190000e+08</td>\n      <td>684000000</td>\n      <td>NaN</td>\n      <td>684000000</td>\n      <td>684000000</td>\n    </tr>\n    <tr>\n      <th>7</th>\n      <td>AA</td>\n      <td>367153</td>\n      <td>USD</td>\n      <td>2017</td>\n      <td>FY</td>\n      <td>2017-12-31</td>\n      <td>2018-02-26</td>\n      <td>2019-02-26</td>\n      <td>184000000.0</td>\n      <td>187000000.0</td>\n      <td>...</td>\n      <td>-131000000.0</td>\n      <td>-104000000.0</td>\n      <td>1468000000</td>\n      <td>-309000000.0</td>\n      <td>1159000000</td>\n      <td>-6.000000e+08</td>\n      <td>559000000</td>\n      <td>NaN</td>\n      <td>217000000</td>\n      <td>217000000</td>\n    </tr>\n    <tr>\n      <th>13</th>\n      <td>AAL</td>\n      <td>68568</td>\n      <td>USD</td>\n      <td>2017</td>\n      <td>FY</td>\n      <td>2017-12-31</td>\n      <td>2018-02-21</td>\n      <td>2019-02-25</td>\n      <td>489164000.0</td>\n      <td>491692000.0</td>\n      <td>...</td>\n      <td>-836000000.0</td>\n      <td>-959000000.0</td>\n      <td>3395000000</td>\n      <td>NaN</td>\n      <td>3395000000</td>\n      <td>-2.113000e+09</td>\n      <td>1282000000</td>\n      <td>NaN</td>\n      <td>1282000000</td>\n      <td>1282000000</td>\n    </tr>\n    <tr>\n      <th>18</th>\n      <td>AAMC</td>\n      <td>847094</td>\n      <td>USD</td>\n      <td>2017</td>\n      <td>FY</td>\n      <td>2017-12-31</td>\n      <td>2018-03-01</td>\n      <td>2018-03-01</td>\n      <td>1570428.0</td>\n      <td>1570428.0</td>\n      <td>...</td>\n      <td>1086000.0</td>\n      <td>0.0</td>\n      <td>-6261000</td>\n      <td>0.0</td>\n      <td>-6261000</td>\n      <td>-7.080000e+05</td>\n      <td>-6969000</td>\n      <td>NaN</td>\n      <td>-6969000</td>\n      <td>-7175000</td>\n    </tr>\n    <tr>\n      <th>23</th>\n      <td>AAN</td>\n      <td>441241</td>\n      <td>USD</td>\n      <td>2017</td>\n      <td>FY</td>\n      <td>2017-12-31</td>\n      <td>2018-03-01</td>\n      <td>2019-02-14</td>\n      <td>70837000.0</td>\n      <td>72121000.0</td>\n      <td>...</td>\n      <td>-15122000.0</td>\n      <td>-18703000.0</td>\n      <td>257571000</td>\n      <td>-17994000.0</td>\n      <td>239577000</td>\n      <td>5.295900e+07</td>\n      <td>292536000</td>\n      <td>NaN</td>\n      <td>292536000</td>\n      <td>292536000</td>\n    </tr>\n    <tr>\n      <th>...</th>\n      <td>...</td>\n      <td>...</td>\n      <td>...</td>\n      <td>...</td>\n      <td>...</td>\n      <td>...</td>\n      <td>...</td>\n      <td>...</td>\n      <td>...</td>\n      <td>...</td>\n      <td>...</td>\n      <td>...</td>\n      <td>...</td>\n      <td>...</td>\n      <td>...</td>\n      <td>...</td>\n      <td>...</td>\n      <td>...</td>\n      <td>...</td>\n      <td>...</td>\n      <td>...</td>\n    </tr>\n    <tr>\n      <th>10489</th>\n      <td>ZUMZ</td>\n      <td>45730</td>\n      <td>USD</td>\n      <td>2017</td>\n      <td>FY</td>\n      <td>2018-01-31</td>\n      <td>2018-03-19</td>\n      <td>2018-03-19</td>\n      <td>24679000.0</td>\n      <td>24878000.0</td>\n      <td>...</td>\n      <td>-357000.0</td>\n      <td>495000.0</td>\n      <td>48403000</td>\n      <td>NaN</td>\n      <td>48403000</td>\n      <td>-2.160100e+07</td>\n      <td>26802000</td>\n      <td>NaN</td>\n      <td>26802000</td>\n      <td>26802000</td>\n    </tr>\n    <tr>\n      <th>10492</th>\n      <td>ZUO</td>\n      <td>994625</td>\n      <td>USD</td>\n      <td>2017</td>\n      <td>FY</td>\n      <td>2018-01-31</td>\n      <td>2018-03-15</td>\n      <td>2020-03-31</td>\n      <td>26563000.0</td>\n      <td>26563000.0</td>\n      <td>...</td>\n      <td>252000.0</td>\n      <td>252000.0</td>\n      <td>-37826000</td>\n      <td>NaN</td>\n      <td>-37826000</td>\n      <td>-1.551000e+06</td>\n      <td>-39377000</td>\n      <td>NaN</td>\n      <td>-39377000</td>\n      <td>-39377000</td>\n    </tr>\n    <tr>\n      <th>10497</th>\n      <td>ZVO</td>\n      <td>901866</td>\n      <td>USD</td>\n      <td>2017</td>\n      <td>FY</td>\n      <td>2017-12-31</td>\n      <td>2018-02-21</td>\n      <td>2019-03-12</td>\n      <td>32058000.0</td>\n      <td>32794000.0</td>\n      <td>...</td>\n      <td>1511000.0</td>\n      <td>NaN</td>\n      <td>16619000</td>\n      <td>-8682000.0</td>\n      <td>7937000</td>\n      <td>1.174000e+06</td>\n      <td>9111000</td>\n      <td>NaN</td>\n      <td>9111000</td>\n      <td>9111000</td>\n    </tr>\n    <tr>\n      <th>10502</th>\n      <td>ZYNE</td>\n      <td>901704</td>\n      <td>USD</td>\n      <td>2017</td>\n      <td>FY</td>\n      <td>2017-12-31</td>\n      <td>2018-03-12</td>\n      <td>2019-03-11</td>\n      <td>12914814.0</td>\n      <td>12914814.0</td>\n      <td>...</td>\n      <td>810705.0</td>\n      <td>519554.0</td>\n      <td>-32012304</td>\n      <td>0.0</td>\n      <td>-32012304</td>\n      <td>0.000000e+00</td>\n      <td>-32012304</td>\n      <td>NaN</td>\n      <td>-32012304</td>\n      <td>-32012304</td>\n    </tr>\n    <tr>\n      <th>10507</th>\n      <td>ZYXI</td>\n      <td>171401</td>\n      <td>USD</td>\n      <td>2017</td>\n      <td>FY</td>\n      <td>2017-12-31</td>\n      <td>2018-02-28</td>\n      <td>2019-02-26</td>\n      <td>32156000.0</td>\n      <td>33196000.0</td>\n      <td>...</td>\n      <td>-1450000.0</td>\n      <td>-1450000.0</td>\n      <td>7494000</td>\n      <td>NaN</td>\n      <td>7494000</td>\n      <td>-1.290000e+05</td>\n      <td>7365000</td>\n      <td>NaN</td>\n      <td>7365000</td>\n      <td>7365000</td>\n    </tr>\n  </tbody>\n</table>\n<p>2133 rows × 28 columns</p>\n</div>"
     },
     "execution_count": 22,
     "metadata": {},
     "output_type": "execute_result"
    }
   ],
   "source": [
    "# We can use this list of booleans to make a smaller dataframe with only data from fiscal year 2017 as follows:\n",
    "Income_Data[IsIt2017]"
   ]
  },
  {
   "cell_type": "code",
   "execution_count": 23,
   "metadata": {
    "pycharm": {
     "name": "#%%\n"
    }
   },
   "outputs": [
    {
     "data": {
      "text/plain": "      Ticker  SimFinId Currency  Fiscal Year Fiscal Period Report Date  \\\n1          A     45846      USD         2017            FY  2017-10-31   \n7         AA    367153      USD         2017            FY  2017-12-31   \n13       AAL     68568      USD         2017            FY  2017-12-31   \n18      AAMC    847094      USD         2017            FY  2017-12-31   \n23       AAN    441241      USD         2017            FY  2017-12-31   \n...      ...       ...      ...          ...           ...         ...   \n10489   ZUMZ     45730      USD         2017            FY  2018-01-31   \n10492    ZUO    994625      USD         2017            FY  2018-01-31   \n10497    ZVO    901866      USD         2017            FY  2017-12-31   \n10502   ZYNE    901704      USD         2017            FY  2017-12-31   \n10507   ZYXI    171401      USD         2017            FY  2017-12-31   \n\n      Publish Date Restated Date  Shares (Basic)  Shares (Diluted)  ...  \\\n1       2017-12-21    2018-12-20     322000000.0       326000000.0  ...   \n7       2018-02-26    2019-02-26     184000000.0       187000000.0  ...   \n13      2018-02-21    2019-02-25     489164000.0       491692000.0  ...   \n18      2018-03-01    2018-03-01       1570428.0         1570428.0  ...   \n23      2018-03-01    2019-02-14      70837000.0        72121000.0  ...   \n...            ...           ...             ...               ...  ...   \n10489   2018-03-19    2018-03-19      24679000.0        24878000.0  ...   \n10492   2018-03-15    2020-03-31      26563000.0        26563000.0  ...   \n10497   2018-02-21    2019-03-12      32058000.0        32794000.0  ...   \n10502   2018-03-12    2019-03-11      12914814.0        12914814.0  ...   \n10507   2018-02-28    2019-02-26      32156000.0        33196000.0  ...   \n\n       Non-Operating Income (Loss)  Interest Expense, Net  \\\n1                      -38000000.0            -57000000.0   \n7                     -131000000.0           -104000000.0   \n13                    -836000000.0           -959000000.0   \n18                       1086000.0                    0.0   \n23                     -15122000.0            -18703000.0   \n...                            ...                    ...   \n10489                    -357000.0               495000.0   \n10492                     252000.0               252000.0   \n10497                    1511000.0                    NaN   \n10502                     810705.0               519554.0   \n10507                   -1450000.0             -1450000.0   \n\n       Pretax Income (Loss), Adj.  Abnormal Gains (Losses)  \\\n1                       803000000                      NaN   \n7                      1468000000             -309000000.0   \n13                     3395000000                      NaN   \n18                       -6261000                      0.0   \n23                      257571000              -17994000.0   \n...                           ...                      ...   \n10489                    48403000                      NaN   \n10492                   -37826000                      NaN   \n10497                    16619000               -8682000.0   \n10502                   -32012304                      0.0   \n10507                     7494000                      NaN   \n\n       Pretax Income (Loss)  Income Tax (Expense) Benefit, Net  \\\n1                 803000000                      -1.190000e+08   \n7                1159000000                      -6.000000e+08   \n13               3395000000                      -2.113000e+09   \n18                 -6261000                      -7.080000e+05   \n23                239577000                       5.295900e+07   \n...                     ...                                ...   \n10489              48403000                      -2.160100e+07   \n10492             -37826000                      -1.551000e+06   \n10497               7937000                       1.174000e+06   \n10502             -32012304                       0.000000e+00   \n10507               7494000                      -1.290000e+05   \n\n       Income (Loss) from Continuing Operations  \\\n1                                     684000000   \n7                                     559000000   \n13                                   1282000000   \n18                                     -6969000   \n23                                    292536000   \n...                                         ...   \n10489                                  26802000   \n10492                                 -39377000   \n10497                                   9111000   \n10502                                 -32012304   \n10507                                   7365000   \n\n       Net Extraordinary Gains (Losses)  Net Income  Net Income (Common)  \n1                                   NaN   684000000            684000000  \n7                                   NaN   217000000            217000000  \n13                                  NaN  1282000000           1282000000  \n18                                  NaN    -6969000             -7175000  \n23                                  NaN   292536000            292536000  \n...                                 ...         ...                  ...  \n10489                               NaN    26802000             26802000  \n10492                               NaN   -39377000            -39377000  \n10497                               NaN     9111000              9111000  \n10502                               NaN   -32012304            -32012304  \n10507                               NaN     7365000              7365000  \n\n[2133 rows x 28 columns]",
      "text/html": "<div>\n<style scoped>\n    .dataframe tbody tr th:only-of-type {\n        vertical-align: middle;\n    }\n\n    .dataframe tbody tr th {\n        vertical-align: top;\n    }\n\n    .dataframe thead th {\n        text-align: right;\n    }\n</style>\n<table border=\"1\" class=\"dataframe\">\n  <thead>\n    <tr style=\"text-align: right;\">\n      <th></th>\n      <th>Ticker</th>\n      <th>SimFinId</th>\n      <th>Currency</th>\n      <th>Fiscal Year</th>\n      <th>Fiscal Period</th>\n      <th>Report Date</th>\n      <th>Publish Date</th>\n      <th>Restated Date</th>\n      <th>Shares (Basic)</th>\n      <th>Shares (Diluted)</th>\n      <th>...</th>\n      <th>Non-Operating Income (Loss)</th>\n      <th>Interest Expense, Net</th>\n      <th>Pretax Income (Loss), Adj.</th>\n      <th>Abnormal Gains (Losses)</th>\n      <th>Pretax Income (Loss)</th>\n      <th>Income Tax (Expense) Benefit, Net</th>\n      <th>Income (Loss) from Continuing Operations</th>\n      <th>Net Extraordinary Gains (Losses)</th>\n      <th>Net Income</th>\n      <th>Net Income (Common)</th>\n    </tr>\n  </thead>\n  <tbody>\n    <tr>\n      <th>1</th>\n      <td>A</td>\n      <td>45846</td>\n      <td>USD</td>\n      <td>2017</td>\n      <td>FY</td>\n      <td>2017-10-31</td>\n      <td>2017-12-21</td>\n      <td>2018-12-20</td>\n      <td>322000000.0</td>\n      <td>326000000.0</td>\n      <td>...</td>\n      <td>-38000000.0</td>\n      <td>-57000000.0</td>\n      <td>803000000</td>\n      <td>NaN</td>\n      <td>803000000</td>\n      <td>-1.190000e+08</td>\n      <td>684000000</td>\n      <td>NaN</td>\n      <td>684000000</td>\n      <td>684000000</td>\n    </tr>\n    <tr>\n      <th>7</th>\n      <td>AA</td>\n      <td>367153</td>\n      <td>USD</td>\n      <td>2017</td>\n      <td>FY</td>\n      <td>2017-12-31</td>\n      <td>2018-02-26</td>\n      <td>2019-02-26</td>\n      <td>184000000.0</td>\n      <td>187000000.0</td>\n      <td>...</td>\n      <td>-131000000.0</td>\n      <td>-104000000.0</td>\n      <td>1468000000</td>\n      <td>-309000000.0</td>\n      <td>1159000000</td>\n      <td>-6.000000e+08</td>\n      <td>559000000</td>\n      <td>NaN</td>\n      <td>217000000</td>\n      <td>217000000</td>\n    </tr>\n    <tr>\n      <th>13</th>\n      <td>AAL</td>\n      <td>68568</td>\n      <td>USD</td>\n      <td>2017</td>\n      <td>FY</td>\n      <td>2017-12-31</td>\n      <td>2018-02-21</td>\n      <td>2019-02-25</td>\n      <td>489164000.0</td>\n      <td>491692000.0</td>\n      <td>...</td>\n      <td>-836000000.0</td>\n      <td>-959000000.0</td>\n      <td>3395000000</td>\n      <td>NaN</td>\n      <td>3395000000</td>\n      <td>-2.113000e+09</td>\n      <td>1282000000</td>\n      <td>NaN</td>\n      <td>1282000000</td>\n      <td>1282000000</td>\n    </tr>\n    <tr>\n      <th>18</th>\n      <td>AAMC</td>\n      <td>847094</td>\n      <td>USD</td>\n      <td>2017</td>\n      <td>FY</td>\n      <td>2017-12-31</td>\n      <td>2018-03-01</td>\n      <td>2018-03-01</td>\n      <td>1570428.0</td>\n      <td>1570428.0</td>\n      <td>...</td>\n      <td>1086000.0</td>\n      <td>0.0</td>\n      <td>-6261000</td>\n      <td>0.0</td>\n      <td>-6261000</td>\n      <td>-7.080000e+05</td>\n      <td>-6969000</td>\n      <td>NaN</td>\n      <td>-6969000</td>\n      <td>-7175000</td>\n    </tr>\n    <tr>\n      <th>23</th>\n      <td>AAN</td>\n      <td>441241</td>\n      <td>USD</td>\n      <td>2017</td>\n      <td>FY</td>\n      <td>2017-12-31</td>\n      <td>2018-03-01</td>\n      <td>2019-02-14</td>\n      <td>70837000.0</td>\n      <td>72121000.0</td>\n      <td>...</td>\n      <td>-15122000.0</td>\n      <td>-18703000.0</td>\n      <td>257571000</td>\n      <td>-17994000.0</td>\n      <td>239577000</td>\n      <td>5.295900e+07</td>\n      <td>292536000</td>\n      <td>NaN</td>\n      <td>292536000</td>\n      <td>292536000</td>\n    </tr>\n    <tr>\n      <th>...</th>\n      <td>...</td>\n      <td>...</td>\n      <td>...</td>\n      <td>...</td>\n      <td>...</td>\n      <td>...</td>\n      <td>...</td>\n      <td>...</td>\n      <td>...</td>\n      <td>...</td>\n      <td>...</td>\n      <td>...</td>\n      <td>...</td>\n      <td>...</td>\n      <td>...</td>\n      <td>...</td>\n      <td>...</td>\n      <td>...</td>\n      <td>...</td>\n      <td>...</td>\n      <td>...</td>\n    </tr>\n    <tr>\n      <th>10489</th>\n      <td>ZUMZ</td>\n      <td>45730</td>\n      <td>USD</td>\n      <td>2017</td>\n      <td>FY</td>\n      <td>2018-01-31</td>\n      <td>2018-03-19</td>\n      <td>2018-03-19</td>\n      <td>24679000.0</td>\n      <td>24878000.0</td>\n      <td>...</td>\n      <td>-357000.0</td>\n      <td>495000.0</td>\n      <td>48403000</td>\n      <td>NaN</td>\n      <td>48403000</td>\n      <td>-2.160100e+07</td>\n      <td>26802000</td>\n      <td>NaN</td>\n      <td>26802000</td>\n      <td>26802000</td>\n    </tr>\n    <tr>\n      <th>10492</th>\n      <td>ZUO</td>\n      <td>994625</td>\n      <td>USD</td>\n      <td>2017</td>\n      <td>FY</td>\n      <td>2018-01-31</td>\n      <td>2018-03-15</td>\n      <td>2020-03-31</td>\n      <td>26563000.0</td>\n      <td>26563000.0</td>\n      <td>...</td>\n      <td>252000.0</td>\n      <td>252000.0</td>\n      <td>-37826000</td>\n      <td>NaN</td>\n      <td>-37826000</td>\n      <td>-1.551000e+06</td>\n      <td>-39377000</td>\n      <td>NaN</td>\n      <td>-39377000</td>\n      <td>-39377000</td>\n    </tr>\n    <tr>\n      <th>10497</th>\n      <td>ZVO</td>\n      <td>901866</td>\n      <td>USD</td>\n      <td>2017</td>\n      <td>FY</td>\n      <td>2017-12-31</td>\n      <td>2018-02-21</td>\n      <td>2019-03-12</td>\n      <td>32058000.0</td>\n      <td>32794000.0</td>\n      <td>...</td>\n      <td>1511000.0</td>\n      <td>NaN</td>\n      <td>16619000</td>\n      <td>-8682000.0</td>\n      <td>7937000</td>\n      <td>1.174000e+06</td>\n      <td>9111000</td>\n      <td>NaN</td>\n      <td>9111000</td>\n      <td>9111000</td>\n    </tr>\n    <tr>\n      <th>10502</th>\n      <td>ZYNE</td>\n      <td>901704</td>\n      <td>USD</td>\n      <td>2017</td>\n      <td>FY</td>\n      <td>2017-12-31</td>\n      <td>2018-03-12</td>\n      <td>2019-03-11</td>\n      <td>12914814.0</td>\n      <td>12914814.0</td>\n      <td>...</td>\n      <td>810705.0</td>\n      <td>519554.0</td>\n      <td>-32012304</td>\n      <td>0.0</td>\n      <td>-32012304</td>\n      <td>0.000000e+00</td>\n      <td>-32012304</td>\n      <td>NaN</td>\n      <td>-32012304</td>\n      <td>-32012304</td>\n    </tr>\n    <tr>\n      <th>10507</th>\n      <td>ZYXI</td>\n      <td>171401</td>\n      <td>USD</td>\n      <td>2017</td>\n      <td>FY</td>\n      <td>2017-12-31</td>\n      <td>2018-02-28</td>\n      <td>2019-02-26</td>\n      <td>32156000.0</td>\n      <td>33196000.0</td>\n      <td>...</td>\n      <td>-1450000.0</td>\n      <td>-1450000.0</td>\n      <td>7494000</td>\n      <td>NaN</td>\n      <td>7494000</td>\n      <td>-1.290000e+05</td>\n      <td>7365000</td>\n      <td>NaN</td>\n      <td>7365000</td>\n      <td>7365000</td>\n    </tr>\n  </tbody>\n</table>\n<p>2133 rows × 28 columns</p>\n</div>"
     },
     "execution_count": 23,
     "metadata": {},
     "output_type": "execute_result"
    }
   ],
   "source": [
    "# Or if we want to do this kind of filter in a single line:\n",
    "Income_Data[Income_Data['Fiscal Year'] == 2017]\n",
    "#Which is basically: 'I want the rows of Income_Data where the Income_Data Fiscal Year column is 2017.'\n",
    "# Notice there are only 1,726 rows instead of 15,125"
   ]
  },
  {
   "cell_type": "code",
   "execution_count": 24,
   "metadata": {
    "pycharm": {
     "name": "#%%\n"
    }
   },
   "outputs": [
    {
     "data": {
      "text/plain": "     Ticker  SimFinId Currency  Fiscal Year Fiscal Period Report Date  \\\n3963     GE    244314      USD         2018            FY  2018-12-31   \n9074   TEVA    616649      USD         2017            FY  2017-12-31   \n1933    CHK    378111      USD         2015            FY  2015-12-31   \n2975    DVN    122079      USD         2015            FY  2015-12-31   \n3563    FCX    378154      USD         2015            FY  2015-12-31   \n...     ...       ...      ...          ...           ...         ...   \n42     AAPL    111052      USD         2017            FY  2017-09-30   \n44     AAPL    111052      USD         2019            FY  2019-09-30   \n45     AAPL    111052      USD         2020            FY  2020-09-30   \n43     AAPL    111052      USD         2018            FY  2018-09-30   \n1466  BRK-A     71306      USD         2019            FY  2019-12-31   \n\n     Publish Date Restated Date  Shares (Basic)  Shares (Diluted)  ...  \\\n3963   2019-02-26    2021-02-12    1.086375e+09      1.086375e+09  ...   \n9074   2018-02-01    2019-02-19    1.016000e+09      1.016000e+09  ...   \n1933   2016-02-25    2018-02-22    6.620000e+08      6.620000e+08  ...   \n2975   2016-02-17    2018-02-21    4.070000e+08      4.070000e+08  ...   \n3563   2016-02-26    2018-02-20    1.082000e+09      1.082000e+09  ...   \n...           ...           ...             ...               ...  ...   \n42     2017-11-03    2019-10-31    2.086897e+10      2.100677e+10  ...   \n44     2019-10-31    2021-10-29    1.847134e+10      1.859565e+10  ...   \n45     2020-10-30    2021-10-29    1.735212e+10      1.752821e+10  ...   \n43     2018-11-05    2020-10-30    1.982151e+10      2.000044e+10  ...   \n1466   2020-02-24    2021-03-01    3.268661e+06      3.268661e+06  ...   \n\n      Non-Operating Income (Loss)  Interest Expense, Net  \\\n3963                -5.235000e+09          -4.766000e+09   \n9074                 3.040000e+08          -8.950000e+08   \n1933                -4.050000e+08          -3.170000e+08   \n2975                -7.830000e+08          -5.190000e+08   \n3563                -6.160000e+08          -6.170000e+08   \n...                           ...                    ...   \n42                   2.745000e+09                    NaN   \n44                   1.807000e+09                    NaN   \n45                   8.030000e+08                    NaN   \n43                   2.005000e+09                    NaN   \n1466                 6.978100e+10                    NaN   \n\n      Pretax Income (Loss), Adj.  Abnormal Gains (Losses)  \\\n3963                  3902000000            -2.488900e+10   \n9074                  4295000000            -2.267400e+10   \n1933                  -852000000            -1.824600e+10   \n2975                 -2204000000            -1.765400e+10   \n3563                -14089000000            -3.900000e+07   \n...                          ...                      ...   \n42                   64089000000                      NaN   \n44                   65737000000                      NaN   \n45                   67091000000                      NaN   \n43                   72903000000                      NaN   \n1466                102792000000            -9.600000e+07   \n\n      Pretax Income (Loss)  Income Tax (Expense) Benefit, Net  \\\n3963          -20987000000                      -9.300000e+07   \n9074          -18379000000                       1.933000e+09   \n1933          -19098000000                       4.463000e+09   \n2975          -19858000000                       6.213000e+09   \n3563          -14128000000                       1.951000e+09   \n...                    ...                                ...   \n42             64089000000                      -1.573800e+10   \n44             65737000000                      -1.048100e+10   \n45             67091000000                      -9.680000e+09   \n43             72903000000                      -1.337200e+10   \n1466          102696000000                      -2.090400e+10   \n\n      Income (Loss) from Continuing Operations  \\\n3963                              -21080000000   \n9074                              -16449000000   \n1933                              -14635000000   \n2975                              -13645000000   \n3563                              -12180000000   \n...                                        ...   \n42                                 48351000000   \n44                                 55256000000   \n45                                 57411000000   \n43                                 59531000000   \n1466                               81792000000   \n\n      Net Extraordinary Gains (Losses)   Net Income  Net Income (Common)  \n3963                     -1.363000e+09 -22354000000         -22801000000  \n9074                               NaN -16265000000         -16525000000  \n1933                               NaN -14567000000         -14738000000  \n2975                               NaN -12896000000         -12896000000  \n3563                      9.100000e+07 -12195000000         -12236000000  \n...                                ...          ...                  ...  \n42                                 NaN  48351000000          48351000000  \n44                                 NaN  55256000000          55256000000  \n45                                 NaN  57411000000          57411000000  \n43                                 NaN  59531000000          59531000000  \n1466                               NaN  81417000000          81417000000  \n\n[10510 rows x 28 columns]",
      "text/html": "<div>\n<style scoped>\n    .dataframe tbody tr th:only-of-type {\n        vertical-align: middle;\n    }\n\n    .dataframe tbody tr th {\n        vertical-align: top;\n    }\n\n    .dataframe thead th {\n        text-align: right;\n    }\n</style>\n<table border=\"1\" class=\"dataframe\">\n  <thead>\n    <tr style=\"text-align: right;\">\n      <th></th>\n      <th>Ticker</th>\n      <th>SimFinId</th>\n      <th>Currency</th>\n      <th>Fiscal Year</th>\n      <th>Fiscal Period</th>\n      <th>Report Date</th>\n      <th>Publish Date</th>\n      <th>Restated Date</th>\n      <th>Shares (Basic)</th>\n      <th>Shares (Diluted)</th>\n      <th>...</th>\n      <th>Non-Operating Income (Loss)</th>\n      <th>Interest Expense, Net</th>\n      <th>Pretax Income (Loss), Adj.</th>\n      <th>Abnormal Gains (Losses)</th>\n      <th>Pretax Income (Loss)</th>\n      <th>Income Tax (Expense) Benefit, Net</th>\n      <th>Income (Loss) from Continuing Operations</th>\n      <th>Net Extraordinary Gains (Losses)</th>\n      <th>Net Income</th>\n      <th>Net Income (Common)</th>\n    </tr>\n  </thead>\n  <tbody>\n    <tr>\n      <th>3963</th>\n      <td>GE</td>\n      <td>244314</td>\n      <td>USD</td>\n      <td>2018</td>\n      <td>FY</td>\n      <td>2018-12-31</td>\n      <td>2019-02-26</td>\n      <td>2021-02-12</td>\n      <td>1.086375e+09</td>\n      <td>1.086375e+09</td>\n      <td>...</td>\n      <td>-5.235000e+09</td>\n      <td>-4.766000e+09</td>\n      <td>3902000000</td>\n      <td>-2.488900e+10</td>\n      <td>-20987000000</td>\n      <td>-9.300000e+07</td>\n      <td>-21080000000</td>\n      <td>-1.363000e+09</td>\n      <td>-22354000000</td>\n      <td>-22801000000</td>\n    </tr>\n    <tr>\n      <th>9074</th>\n      <td>TEVA</td>\n      <td>616649</td>\n      <td>USD</td>\n      <td>2017</td>\n      <td>FY</td>\n      <td>2017-12-31</td>\n      <td>2018-02-01</td>\n      <td>2019-02-19</td>\n      <td>1.016000e+09</td>\n      <td>1.016000e+09</td>\n      <td>...</td>\n      <td>3.040000e+08</td>\n      <td>-8.950000e+08</td>\n      <td>4295000000</td>\n      <td>-2.267400e+10</td>\n      <td>-18379000000</td>\n      <td>1.933000e+09</td>\n      <td>-16449000000</td>\n      <td>NaN</td>\n      <td>-16265000000</td>\n      <td>-16525000000</td>\n    </tr>\n    <tr>\n      <th>1933</th>\n      <td>CHK</td>\n      <td>378111</td>\n      <td>USD</td>\n      <td>2015</td>\n      <td>FY</td>\n      <td>2015-12-31</td>\n      <td>2016-02-25</td>\n      <td>2018-02-22</td>\n      <td>6.620000e+08</td>\n      <td>6.620000e+08</td>\n      <td>...</td>\n      <td>-4.050000e+08</td>\n      <td>-3.170000e+08</td>\n      <td>-852000000</td>\n      <td>-1.824600e+10</td>\n      <td>-19098000000</td>\n      <td>4.463000e+09</td>\n      <td>-14635000000</td>\n      <td>NaN</td>\n      <td>-14567000000</td>\n      <td>-14738000000</td>\n    </tr>\n    <tr>\n      <th>2975</th>\n      <td>DVN</td>\n      <td>122079</td>\n      <td>USD</td>\n      <td>2015</td>\n      <td>FY</td>\n      <td>2015-12-31</td>\n      <td>2016-02-17</td>\n      <td>2018-02-21</td>\n      <td>4.070000e+08</td>\n      <td>4.070000e+08</td>\n      <td>...</td>\n      <td>-7.830000e+08</td>\n      <td>-5.190000e+08</td>\n      <td>-2204000000</td>\n      <td>-1.765400e+10</td>\n      <td>-19858000000</td>\n      <td>6.213000e+09</td>\n      <td>-13645000000</td>\n      <td>NaN</td>\n      <td>-12896000000</td>\n      <td>-12896000000</td>\n    </tr>\n    <tr>\n      <th>3563</th>\n      <td>FCX</td>\n      <td>378154</td>\n      <td>USD</td>\n      <td>2015</td>\n      <td>FY</td>\n      <td>2015-12-31</td>\n      <td>2016-02-26</td>\n      <td>2018-02-20</td>\n      <td>1.082000e+09</td>\n      <td>1.082000e+09</td>\n      <td>...</td>\n      <td>-6.160000e+08</td>\n      <td>-6.170000e+08</td>\n      <td>-14089000000</td>\n      <td>-3.900000e+07</td>\n      <td>-14128000000</td>\n      <td>1.951000e+09</td>\n      <td>-12180000000</td>\n      <td>9.100000e+07</td>\n      <td>-12195000000</td>\n      <td>-12236000000</td>\n    </tr>\n    <tr>\n      <th>...</th>\n      <td>...</td>\n      <td>...</td>\n      <td>...</td>\n      <td>...</td>\n      <td>...</td>\n      <td>...</td>\n      <td>...</td>\n      <td>...</td>\n      <td>...</td>\n      <td>...</td>\n      <td>...</td>\n      <td>...</td>\n      <td>...</td>\n      <td>...</td>\n      <td>...</td>\n      <td>...</td>\n      <td>...</td>\n      <td>...</td>\n      <td>...</td>\n      <td>...</td>\n      <td>...</td>\n    </tr>\n    <tr>\n      <th>42</th>\n      <td>AAPL</td>\n      <td>111052</td>\n      <td>USD</td>\n      <td>2017</td>\n      <td>FY</td>\n      <td>2017-09-30</td>\n      <td>2017-11-03</td>\n      <td>2019-10-31</td>\n      <td>2.086897e+10</td>\n      <td>2.100677e+10</td>\n      <td>...</td>\n      <td>2.745000e+09</td>\n      <td>NaN</td>\n      <td>64089000000</td>\n      <td>NaN</td>\n      <td>64089000000</td>\n      <td>-1.573800e+10</td>\n      <td>48351000000</td>\n      <td>NaN</td>\n      <td>48351000000</td>\n      <td>48351000000</td>\n    </tr>\n    <tr>\n      <th>44</th>\n      <td>AAPL</td>\n      <td>111052</td>\n      <td>USD</td>\n      <td>2019</td>\n      <td>FY</td>\n      <td>2019-09-30</td>\n      <td>2019-10-31</td>\n      <td>2021-10-29</td>\n      <td>1.847134e+10</td>\n      <td>1.859565e+10</td>\n      <td>...</td>\n      <td>1.807000e+09</td>\n      <td>NaN</td>\n      <td>65737000000</td>\n      <td>NaN</td>\n      <td>65737000000</td>\n      <td>-1.048100e+10</td>\n      <td>55256000000</td>\n      <td>NaN</td>\n      <td>55256000000</td>\n      <td>55256000000</td>\n    </tr>\n    <tr>\n      <th>45</th>\n      <td>AAPL</td>\n      <td>111052</td>\n      <td>USD</td>\n      <td>2020</td>\n      <td>FY</td>\n      <td>2020-09-30</td>\n      <td>2020-10-30</td>\n      <td>2021-10-29</td>\n      <td>1.735212e+10</td>\n      <td>1.752821e+10</td>\n      <td>...</td>\n      <td>8.030000e+08</td>\n      <td>NaN</td>\n      <td>67091000000</td>\n      <td>NaN</td>\n      <td>67091000000</td>\n      <td>-9.680000e+09</td>\n      <td>57411000000</td>\n      <td>NaN</td>\n      <td>57411000000</td>\n      <td>57411000000</td>\n    </tr>\n    <tr>\n      <th>43</th>\n      <td>AAPL</td>\n      <td>111052</td>\n      <td>USD</td>\n      <td>2018</td>\n      <td>FY</td>\n      <td>2018-09-30</td>\n      <td>2018-11-05</td>\n      <td>2020-10-30</td>\n      <td>1.982151e+10</td>\n      <td>2.000044e+10</td>\n      <td>...</td>\n      <td>2.005000e+09</td>\n      <td>NaN</td>\n      <td>72903000000</td>\n      <td>NaN</td>\n      <td>72903000000</td>\n      <td>-1.337200e+10</td>\n      <td>59531000000</td>\n      <td>NaN</td>\n      <td>59531000000</td>\n      <td>59531000000</td>\n    </tr>\n    <tr>\n      <th>1466</th>\n      <td>BRK-A</td>\n      <td>71306</td>\n      <td>USD</td>\n      <td>2019</td>\n      <td>FY</td>\n      <td>2019-12-31</td>\n      <td>2020-02-24</td>\n      <td>2021-03-01</td>\n      <td>3.268661e+06</td>\n      <td>3.268661e+06</td>\n      <td>...</td>\n      <td>6.978100e+10</td>\n      <td>NaN</td>\n      <td>102792000000</td>\n      <td>-9.600000e+07</td>\n      <td>102696000000</td>\n      <td>-2.090400e+10</td>\n      <td>81792000000</td>\n      <td>NaN</td>\n      <td>81417000000</td>\n      <td>81417000000</td>\n    </tr>\n  </tbody>\n</table>\n<p>10510 rows × 28 columns</p>\n</div>"
     },
     "execution_count": 24,
     "metadata": {},
     "output_type": "execute_result"
    }
   ],
   "source": [
    "# Let's order the stocks for financial year 2017 by net income.\n",
    "# Within a DataFrame the rows can be ordered as follows:\n",
    "Income_Data.sort_values(by=['Net Income'])"
   ]
  },
  {
   "cell_type": "code",
   "execution_count": 25,
   "metadata": {
    "pycharm": {
     "name": "#%%\n"
    }
   },
   "outputs": [
    {
     "data": {
      "text/plain": "     Ticker  SimFinId Currency  Fiscal Year Fiscal Period Report Date  \\\n9074   TEVA    616649      USD         2017            FY  2017-12-31   \n3962     GE    244314      USD         2017            FY  2017-12-31   \n6237    MRO    378185      USD         2017            FY  2017-12-31   \n337     AGN     61474      USD         2017            FY  2017-12-31   \n4353    HES    378163      USD         2017            FY  2017-12-31   \n...     ...       ...      ...          ...           ...         ...   \n6267   MSFT     59265      USD         2017            FY  2017-06-30   \n8954      T     66790      USD         2017            FY  2017-12-31   \n9983     VZ    101219      USD         2017            FY  2017-12-31   \n1464  BRK-A     71306      USD         2017            FY  2017-12-31   \n42     AAPL    111052      USD         2017            FY  2017-09-30   \n\n     Publish Date Restated Date  Shares (Basic)  Shares (Diluted)  ...  \\\n9074   2018-02-01    2019-02-19    1.016000e+09      1.016000e+09  ...   \n3962   2018-02-23    2019-02-26    1.085875e+09      1.085875e+09  ...   \n6237   2018-02-22    2018-02-22    8.500000e+08      8.500000e+08  ...   \n337    2018-02-16    2018-02-16    3.338000e+08      3.338000e+08  ...   \n4353   2018-02-21    2018-02-21    3.141000e+08      3.141000e+08  ...   \n...           ...           ...             ...               ...  ...   \n6267   2017-08-02    2019-08-01    7.746000e+09      7.832000e+09  ...   \n8954   2018-02-20    2019-02-20    6.164000e+09      6.183000e+09  ...   \n9983   2018-02-23    2019-02-15    4.084000e+09      4.089000e+09  ...   \n1464   2018-02-26    2019-02-25    3.289647e+06      3.289647e+06  ...   \n42     2017-11-03    2019-10-31    2.086897e+10      2.100677e+10  ...   \n\n      Non-Operating Income (Loss)  Interest Expense, Net  \\\n9074                 3.040000e+08          -8.950000e+08   \n3962                -1.491100e+10          -4.869000e+09   \n6237                -2.700000e+08          -2.700000e+08   \n337                 -4.465200e+09          -1.027900e+09   \n4353                -3.000000e+08          -3.250000e+08   \n...                           ...                    ...   \n6267                 8.760000e+08                    NaN   \n8954                -4.703000e+09          -6.300000e+09   \n9983                -6.831000e+09          -4.733000e+09   \n1464                 5.142000e+09                    NaN   \n42                   2.745000e+09                    NaN   \n\n      Pretax Income (Loss), Adj.  Abnormal Gains (Losses)  \\\n9074                  4295000000            -2.267400e+10   \n3962                 -6202000000            -4.949000e+09   \n6237                  -174000000            -2.800000e+08   \n337                 -10386400000                      NaN   \n4353                 -1489000000            -4.289000e+09   \n...                          ...                      ...   \n6267                 30207000000            -3.060000e+08   \n8954                 18181000000            -2.914000e+09   \n9983                 20594000000             0.000000e+00   \n1464                 23838000000                      NaN   \n42                   64089000000                      NaN   \n\n      Pretax Income (Loss)  Income Tax (Expense) Benefit, Net  \\\n9074          -18379000000                       1.933000e+09   \n3962          -11151000000                       2.611000e+09   \n6237            -454000000                      -3.760000e+08   \n337           -10386400000                       6.670400e+09   \n4353           -5778000000                       1.837000e+09   \n...                    ...                                ...   \n6267           29901000000                      -4.412000e+09   \n8954           15267000000                       1.470800e+10   \n9983           20594000000                       9.956000e+09   \n1464           23838000000                       2.151500e+10   \n42             64089000000                      -1.573800e+10   \n\n      Income (Loss) from Continuing Operations  \\\n9074                              -16449000000   \n3962                               -8540000000   \n6237                                -830000000   \n337                                -3716000000   \n4353                               -3941000000   \n...                                        ...   \n6267                               25489000000   \n8954                               29847000000   \n9983                               30550000000   \n1464                               45353000000   \n42                                 48351000000   \n\n      Net Extraordinary Gains (Losses)   Net Income  Net Income (Common)  \n9074                               NaN -16265000000         -16525000000  \n3962                     -3.090000e+08  -8484000000          -8920000000  \n6237                     -4.893000e+09  -5723000000          -5723000000  \n337                      -4.029000e+08  -4125500000          -4403900000  \n4353                      0.000000e+00  -4074000000          -4120000000  \n...                                ...          ...                  ...  \n6267                               NaN  25489000000          25489000000  \n8954                               NaN  29450000000          29450000000  \n9983                               NaN  30101000000          30101000000  \n1464                               NaN  44940000000          44940000000  \n42                                 NaN  48351000000          48351000000  \n\n[2133 rows x 28 columns]",
      "text/html": "<div>\n<style scoped>\n    .dataframe tbody tr th:only-of-type {\n        vertical-align: middle;\n    }\n\n    .dataframe tbody tr th {\n        vertical-align: top;\n    }\n\n    .dataframe thead th {\n        text-align: right;\n    }\n</style>\n<table border=\"1\" class=\"dataframe\">\n  <thead>\n    <tr style=\"text-align: right;\">\n      <th></th>\n      <th>Ticker</th>\n      <th>SimFinId</th>\n      <th>Currency</th>\n      <th>Fiscal Year</th>\n      <th>Fiscal Period</th>\n      <th>Report Date</th>\n      <th>Publish Date</th>\n      <th>Restated Date</th>\n      <th>Shares (Basic)</th>\n      <th>Shares (Diluted)</th>\n      <th>...</th>\n      <th>Non-Operating Income (Loss)</th>\n      <th>Interest Expense, Net</th>\n      <th>Pretax Income (Loss), Adj.</th>\n      <th>Abnormal Gains (Losses)</th>\n      <th>Pretax Income (Loss)</th>\n      <th>Income Tax (Expense) Benefit, Net</th>\n      <th>Income (Loss) from Continuing Operations</th>\n      <th>Net Extraordinary Gains (Losses)</th>\n      <th>Net Income</th>\n      <th>Net Income (Common)</th>\n    </tr>\n  </thead>\n  <tbody>\n    <tr>\n      <th>9074</th>\n      <td>TEVA</td>\n      <td>616649</td>\n      <td>USD</td>\n      <td>2017</td>\n      <td>FY</td>\n      <td>2017-12-31</td>\n      <td>2018-02-01</td>\n      <td>2019-02-19</td>\n      <td>1.016000e+09</td>\n      <td>1.016000e+09</td>\n      <td>...</td>\n      <td>3.040000e+08</td>\n      <td>-8.950000e+08</td>\n      <td>4295000000</td>\n      <td>-2.267400e+10</td>\n      <td>-18379000000</td>\n      <td>1.933000e+09</td>\n      <td>-16449000000</td>\n      <td>NaN</td>\n      <td>-16265000000</td>\n      <td>-16525000000</td>\n    </tr>\n    <tr>\n      <th>3962</th>\n      <td>GE</td>\n      <td>244314</td>\n      <td>USD</td>\n      <td>2017</td>\n      <td>FY</td>\n      <td>2017-12-31</td>\n      <td>2018-02-23</td>\n      <td>2019-02-26</td>\n      <td>1.085875e+09</td>\n      <td>1.085875e+09</td>\n      <td>...</td>\n      <td>-1.491100e+10</td>\n      <td>-4.869000e+09</td>\n      <td>-6202000000</td>\n      <td>-4.949000e+09</td>\n      <td>-11151000000</td>\n      <td>2.611000e+09</td>\n      <td>-8540000000</td>\n      <td>-3.090000e+08</td>\n      <td>-8484000000</td>\n      <td>-8920000000</td>\n    </tr>\n    <tr>\n      <th>6237</th>\n      <td>MRO</td>\n      <td>378185</td>\n      <td>USD</td>\n      <td>2017</td>\n      <td>FY</td>\n      <td>2017-12-31</td>\n      <td>2018-02-22</td>\n      <td>2018-02-22</td>\n      <td>8.500000e+08</td>\n      <td>8.500000e+08</td>\n      <td>...</td>\n      <td>-2.700000e+08</td>\n      <td>-2.700000e+08</td>\n      <td>-174000000</td>\n      <td>-2.800000e+08</td>\n      <td>-454000000</td>\n      <td>-3.760000e+08</td>\n      <td>-830000000</td>\n      <td>-4.893000e+09</td>\n      <td>-5723000000</td>\n      <td>-5723000000</td>\n    </tr>\n    <tr>\n      <th>337</th>\n      <td>AGN</td>\n      <td>61474</td>\n      <td>USD</td>\n      <td>2017</td>\n      <td>FY</td>\n      <td>2017-12-31</td>\n      <td>2018-02-16</td>\n      <td>2018-02-16</td>\n      <td>3.338000e+08</td>\n      <td>3.338000e+08</td>\n      <td>...</td>\n      <td>-4.465200e+09</td>\n      <td>-1.027900e+09</td>\n      <td>-10386400000</td>\n      <td>NaN</td>\n      <td>-10386400000</td>\n      <td>6.670400e+09</td>\n      <td>-3716000000</td>\n      <td>-4.029000e+08</td>\n      <td>-4125500000</td>\n      <td>-4403900000</td>\n    </tr>\n    <tr>\n      <th>4353</th>\n      <td>HES</td>\n      <td>378163</td>\n      <td>USD</td>\n      <td>2017</td>\n      <td>FY</td>\n      <td>2017-12-31</td>\n      <td>2018-02-21</td>\n      <td>2018-02-21</td>\n      <td>3.141000e+08</td>\n      <td>3.141000e+08</td>\n      <td>...</td>\n      <td>-3.000000e+08</td>\n      <td>-3.250000e+08</td>\n      <td>-1489000000</td>\n      <td>-4.289000e+09</td>\n      <td>-5778000000</td>\n      <td>1.837000e+09</td>\n      <td>-3941000000</td>\n      <td>0.000000e+00</td>\n      <td>-4074000000</td>\n      <td>-4120000000</td>\n    </tr>\n    <tr>\n      <th>...</th>\n      <td>...</td>\n      <td>...</td>\n      <td>...</td>\n      <td>...</td>\n      <td>...</td>\n      <td>...</td>\n      <td>...</td>\n      <td>...</td>\n      <td>...</td>\n      <td>...</td>\n      <td>...</td>\n      <td>...</td>\n      <td>...</td>\n      <td>...</td>\n      <td>...</td>\n      <td>...</td>\n      <td>...</td>\n      <td>...</td>\n      <td>...</td>\n      <td>...</td>\n      <td>...</td>\n    </tr>\n    <tr>\n      <th>6267</th>\n      <td>MSFT</td>\n      <td>59265</td>\n      <td>USD</td>\n      <td>2017</td>\n      <td>FY</td>\n      <td>2017-06-30</td>\n      <td>2017-08-02</td>\n      <td>2019-08-01</td>\n      <td>7.746000e+09</td>\n      <td>7.832000e+09</td>\n      <td>...</td>\n      <td>8.760000e+08</td>\n      <td>NaN</td>\n      <td>30207000000</td>\n      <td>-3.060000e+08</td>\n      <td>29901000000</td>\n      <td>-4.412000e+09</td>\n      <td>25489000000</td>\n      <td>NaN</td>\n      <td>25489000000</td>\n      <td>25489000000</td>\n    </tr>\n    <tr>\n      <th>8954</th>\n      <td>T</td>\n      <td>66790</td>\n      <td>USD</td>\n      <td>2017</td>\n      <td>FY</td>\n      <td>2017-12-31</td>\n      <td>2018-02-20</td>\n      <td>2019-02-20</td>\n      <td>6.164000e+09</td>\n      <td>6.183000e+09</td>\n      <td>...</td>\n      <td>-4.703000e+09</td>\n      <td>-6.300000e+09</td>\n      <td>18181000000</td>\n      <td>-2.914000e+09</td>\n      <td>15267000000</td>\n      <td>1.470800e+10</td>\n      <td>29847000000</td>\n      <td>NaN</td>\n      <td>29450000000</td>\n      <td>29450000000</td>\n    </tr>\n    <tr>\n      <th>9983</th>\n      <td>VZ</td>\n      <td>101219</td>\n      <td>USD</td>\n      <td>2017</td>\n      <td>FY</td>\n      <td>2017-12-31</td>\n      <td>2018-02-23</td>\n      <td>2019-02-15</td>\n      <td>4.084000e+09</td>\n      <td>4.089000e+09</td>\n      <td>...</td>\n      <td>-6.831000e+09</td>\n      <td>-4.733000e+09</td>\n      <td>20594000000</td>\n      <td>0.000000e+00</td>\n      <td>20594000000</td>\n      <td>9.956000e+09</td>\n      <td>30550000000</td>\n      <td>NaN</td>\n      <td>30101000000</td>\n      <td>30101000000</td>\n    </tr>\n    <tr>\n      <th>1464</th>\n      <td>BRK-A</td>\n      <td>71306</td>\n      <td>USD</td>\n      <td>2017</td>\n      <td>FY</td>\n      <td>2017-12-31</td>\n      <td>2018-02-26</td>\n      <td>2019-02-25</td>\n      <td>3.289647e+06</td>\n      <td>3.289647e+06</td>\n      <td>...</td>\n      <td>5.142000e+09</td>\n      <td>NaN</td>\n      <td>23838000000</td>\n      <td>NaN</td>\n      <td>23838000000</td>\n      <td>2.151500e+10</td>\n      <td>45353000000</td>\n      <td>NaN</td>\n      <td>44940000000</td>\n      <td>44940000000</td>\n    </tr>\n    <tr>\n      <th>42</th>\n      <td>AAPL</td>\n      <td>111052</td>\n      <td>USD</td>\n      <td>2017</td>\n      <td>FY</td>\n      <td>2017-09-30</td>\n      <td>2017-11-03</td>\n      <td>2019-10-31</td>\n      <td>2.086897e+10</td>\n      <td>2.100677e+10</td>\n      <td>...</td>\n      <td>2.745000e+09</td>\n      <td>NaN</td>\n      <td>64089000000</td>\n      <td>NaN</td>\n      <td>64089000000</td>\n      <td>-1.573800e+10</td>\n      <td>48351000000</td>\n      <td>NaN</td>\n      <td>48351000000</td>\n      <td>48351000000</td>\n    </tr>\n  </tbody>\n</table>\n<p>2133 rows × 28 columns</p>\n</div>"
     },
     "execution_count": 25,
     "metadata": {},
     "output_type": "execute_result"
    }
   ],
   "source": [
    "# However, we wish to perform this for only the 2017 fiscal year. \n",
    "# Fortunately you can just put one operations in front of the other as follows:\n",
    "Income_Data[Income_Data['Fiscal Year'] == 2017].sort_values(by=['Net Income'])\n",
    "# It looks like AAPL and BRKA earned the most money that year, more than $40bn!"
   ]
  },
  {
   "cell_type": "code",
   "execution_count": 26,
   "metadata": {
    "scrolled": false,
    "pycharm": {
     "name": "#%%\n"
    }
   },
   "outputs": [
    {
     "data": {
      "text/plain": "<AxesSubplot:>"
     },
     "execution_count": 26,
     "metadata": {},
     "output_type": "execute_result"
    },
    {
     "data": {
      "text/plain": "<Figure size 1200x750 with 1 Axes>",
      "image/png": "[encoded data removed]"
     },
     "metadata": {
      "needs_background": "light"
     },
     "output_type": "display_data"
    }
   ],
   "source": [
    "# Lets plot the distribution of net income for all american companies:\n",
    "Income_Data['Net Income'].hist()"
   ]
  },
  {
   "cell_type": "code",
   "execution_count": 27,
   "metadata": {
    "pycharm": {
     "name": "#%%\n"
    }
   },
   "outputs": [
    {
     "name": "stdout",
     "output_type": "stream",
     "text": [
      "Max value is:  48351000000\n"
     ]
    },
    {
     "data": {
      "text/plain": "<Figure size 1200x750 with 1 Axes>",
      "image/png": "[encoded data removed]"
     },
     "metadata": {
      "needs_background": "light"
     },
     "output_type": "display_data"
    }
   ],
   "source": [
    "# Plot graph with just 2017 FY data, logarithmic Y axis and more bins for greater resolution.\n",
    "from matplotlib import pyplot as plt # Import plotting library\n",
    "Income_Data[Income_Data['Fiscal Year'] == 2017]['Net Income'].hist(bins=100, log=True)\n",
    "plt.title('USA Corporate Net Income for 2017 Histogram')\n",
    "plt.xlabel('Value in USD')\n",
    "plt.ylabel('Number of Instances')\n",
    "print('Max value is: ', Income_Data[Income_Data['Fiscal Year'] == 2017]['Net Income'].max())"
   ]
  },
  {
   "cell_type": "code",
   "execution_count": 28,
   "metadata": {
    "pycharm": {
     "name": "#%%\n"
    }
   },
   "outputs": [
    {
     "data": {
      "text/plain": "           SimFinId   Fiscal Year  Shares (Basic)  Shares (Diluted)  \\\ncount  1.051000e+04  10510.000000    1.040700e+04      1.040700e+04   \nmean   5.235133e+05   2017.169267    1.968473e+08      1.998907e+08   \nstd    3.430700e+05      1.452449    6.450400e+08      6.523049e+08   \nmin    1.800000e+01   2015.000000    1.100000e+01      1.100000e+01   \n25%    1.991470e+05   2016.000000    2.651640e+07      2.686854e+07   \n50%    4.487150e+05   2017.000000    5.994200e+07      6.063758e+07   \n75%    8.094350e+05   2018.000000    1.564070e+08      1.590728e+08   \nmax    1.271540e+06   2020.000000    2.188328e+10      2.200112e+10   \n\n            Revenue  Cost of Revenue  Gross Profit  Operating Expenses  \\\ncount  1.028700e+04     9.455000e+03  9.443000e+03        1.049400e+04   \nmean   6.505535e+09    -4.557168e+09  2.382727e+09       -1.520226e+09   \nstd    2.287967e+10     1.780640e+10  7.521730e+09        4.869857e+09   \nmin   -3.902910e+05    -3.946050e+11 -1.280800e+10       -1.087910e+11   \n25%    2.542030e+08    -2.588042e+09  1.353180e+08       -1.056987e+09   \n50%    1.247863e+09    -7.081540e+08  5.502280e+08       -3.403510e+08   \n75%    4.283140e+09    -1.293975e+08  1.667528e+09       -9.472200e+07   \nmax    5.239640e+11     3.100000e+07  1.293590e+11        0.000000e+00   \n\n       Selling, General & Administrative  Research & Development  ...  \\\ncount                       9.993000e+03            4.363000e+03  ...   \nmean                       -9.840904e+08           -3.624495e+08  ...   \nstd                         3.599518e+09            1.390499e+09  ...   \nmin                        -1.087910e+11           -2.601800e+10  ...   \n25%                        -6.620000e+08           -1.569910e+08  ...   \n50%                        -1.919330e+08           -5.218000e+07  ...   \n75%                        -4.504000e+07           -1.524990e+07  ...   \nmax                         0.000000e+00            6.480000e+05  ...   \n\n       Non-Operating Income (Loss)  Interest Expense, Net  \\\ncount                 1.042200e+04           9.403000e+03   \nmean                 -9.889209e+07          -1.235937e+08   \nstd                   1.058972e+09           3.454554e+08   \nmin                  -4.264700e+10          -8.422000e+09   \n25%                  -8.455850e+07          -1.081940e+08   \n50%                  -1.210250e+07          -2.340000e+07   \n75%                  -4.697525e+04          -1.188000e+06   \nmax                   6.978100e+10           2.380252e+09   \n\n       Pretax Income (Loss), Adj.  Abnormal Gains (Losses)  \\\ncount                1.051000e+04             6.668000e+03   \nmean                 6.525583e+08            -1.342701e+08   \nstd                  2.908550e+09             9.453053e+08   \nmin                 -1.408900e+10            -2.488900e+10   \n25%                 -5.189714e+06            -5.321000e+07   \n50%                  6.599900e+07            -6.318000e+06   \n75%                  3.869040e+08             0.000000e+00   \nmax                  1.027920e+11             1.289400e+10   \n\n       Pretax Income (Loss)  Income Tax (Expense) Benefit, Net  \\\ncount          1.051000e+04                       9.712000e+03   \nmean           5.673715e+08                      -1.312283e+08   \nstd            2.938691e+09                       8.732485e+08   \nmin           -2.098700e+10                      -2.090400e+10   \n25%           -1.264725e+07                      -8.381125e+07   \n50%            5.107500e+07                      -1.100300e+07   \n75%            3.510000e+08                      -2.100000e+04   \nmax            1.026960e+11                       2.151500e+10   \n\n       Income (Loss) from Continuing Operations  \\\ncount                              1.051000e+04   \nmean                               4.484742e+08   \nstd                                2.421875e+09   \nmin                               -2.108000e+10   \n25%                               -1.336518e+07   \n50%                                3.947000e+07   \n75%                                2.767982e+08   \nmax                                8.179200e+10   \n\n       Net Extraordinary Gains (Losses)    Net Income  Net Income (Common)  \ncount                      1.638000e+03  1.051000e+04         1.051000e+04  \nmean                       7.039565e+07  4.489860e+08         4.465992e+08  \nstd                        7.552345e+08  2.425854e+09         2.426152e+09  \nmin                       -7.495000e+09 -2.235400e+10        -2.280100e+10  \n25%                       -4.000000e+06 -1.371000e+07        -1.455200e+07  \n50%                        0.000000e+00  3.775800e+07         3.617900e+07  \n75%                        1.704275e+07  2.730000e+08         2.723338e+08  \nmax                        1.591450e+10  8.141700e+10         8.141700e+10  \n\n[8 rows x 22 columns]",
      "text/html": "<div>\n<style scoped>\n    .dataframe tbody tr th:only-of-type {\n        vertical-align: middle;\n    }\n\n    .dataframe tbody tr th {\n        vertical-align: top;\n    }\n\n    .dataframe thead th {\n        text-align: right;\n    }\n</style>\n<table border=\"1\" class=\"dataframe\">\n  <thead>\n    <tr style=\"text-align: right;\">\n      <th></th>\n      <th>SimFinId</th>\n      <th>Fiscal Year</th>\n      <th>Shares (Basic)</th>\n      <th>Shares (Diluted)</th>\n      <th>Revenue</th>\n      <th>Cost of Revenue</th>\n      <th>Gross Profit</th>\n      <th>Operating Expenses</th>\n      <th>Selling, General &amp; Administrative</th>\n      <th>Research &amp; Development</th>\n      <th>...</th>\n      <th>Non-Operating Income (Loss)</th>\n      <th>Interest Expense, Net</th>\n      <th>Pretax Income (Loss), Adj.</th>\n      <th>Abnormal Gains (Losses)</th>\n      <th>Pretax Income (Loss)</th>\n      <th>Income Tax (Expense) Benefit, Net</th>\n      <th>Income (Loss) from Continuing Operations</th>\n      <th>Net Extraordinary Gains (Losses)</th>\n      <th>Net Income</th>\n      <th>Net Income (Common)</th>\n    </tr>\n  </thead>\n  <tbody>\n    <tr>\n      <th>count</th>\n      <td>1.051000e+04</td>\n      <td>10510.000000</td>\n      <td>1.040700e+04</td>\n      <td>1.040700e+04</td>\n      <td>1.028700e+04</td>\n      <td>9.455000e+03</td>\n      <td>9.443000e+03</td>\n      <td>1.049400e+04</td>\n      <td>9.993000e+03</td>\n      <td>4.363000e+03</td>\n      <td>...</td>\n      <td>1.042200e+04</td>\n      <td>9.403000e+03</td>\n      <td>1.051000e+04</td>\n      <td>6.668000e+03</td>\n      <td>1.051000e+04</td>\n      <td>9.712000e+03</td>\n      <td>1.051000e+04</td>\n      <td>1.638000e+03</td>\n      <td>1.051000e+04</td>\n      <td>1.051000e+04</td>\n    </tr>\n    <tr>\n      <th>mean</th>\n      <td>5.235133e+05</td>\n      <td>2017.169267</td>\n      <td>1.968473e+08</td>\n      <td>1.998907e+08</td>\n      <td>6.505535e+09</td>\n      <td>-4.557168e+09</td>\n      <td>2.382727e+09</td>\n      <td>-1.520226e+09</td>\n      <td>-9.840904e+08</td>\n      <td>-3.624495e+08</td>\n      <td>...</td>\n      <td>-9.889209e+07</td>\n      <td>-1.235937e+08</td>\n      <td>6.525583e+08</td>\n      <td>-1.342701e+08</td>\n      <td>5.673715e+08</td>\n      <td>-1.312283e+08</td>\n      <td>4.484742e+08</td>\n      <td>7.039565e+07</td>\n      <td>4.489860e+08</td>\n      <td>4.465992e+08</td>\n    </tr>\n    <tr>\n      <th>std</th>\n      <td>3.430700e+05</td>\n      <td>1.452449</td>\n      <td>6.450400e+08</td>\n      <td>6.523049e+08</td>\n      <td>2.287967e+10</td>\n      <td>1.780640e+10</td>\n      <td>7.521730e+09</td>\n      <td>4.869857e+09</td>\n      <td>3.599518e+09</td>\n      <td>1.390499e+09</td>\n      <td>...</td>\n      <td>1.058972e+09</td>\n      <td>3.454554e+08</td>\n      <td>2.908550e+09</td>\n      <td>9.453053e+08</td>\n      <td>2.938691e+09</td>\n      <td>8.732485e+08</td>\n      <td>2.421875e+09</td>\n      <td>7.552345e+08</td>\n      <td>2.425854e+09</td>\n      <td>2.426152e+09</td>\n    </tr>\n    <tr>\n      <th>min</th>\n      <td>1.800000e+01</td>\n      <td>2015.000000</td>\n      <td>1.100000e+01</td>\n      <td>1.100000e+01</td>\n      <td>-3.902910e+05</td>\n      <td>-3.946050e+11</td>\n      <td>-1.280800e+10</td>\n      <td>-1.087910e+11</td>\n      <td>-1.087910e+11</td>\n      <td>-2.601800e+10</td>\n      <td>...</td>\n      <td>-4.264700e+10</td>\n      <td>-8.422000e+09</td>\n      <td>-1.408900e+10</td>\n      <td>-2.488900e+10</td>\n      <td>-2.098700e+10</td>\n      <td>-2.090400e+10</td>\n      <td>-2.108000e+10</td>\n      <td>-7.495000e+09</td>\n      <td>-2.235400e+10</td>\n      <td>-2.280100e+10</td>\n    </tr>\n    <tr>\n      <th>25%</th>\n      <td>1.991470e+05</td>\n      <td>2016.000000</td>\n      <td>2.651640e+07</td>\n      <td>2.686854e+07</td>\n      <td>2.542030e+08</td>\n      <td>-2.588042e+09</td>\n      <td>1.353180e+08</td>\n      <td>-1.056987e+09</td>\n      <td>-6.620000e+08</td>\n      <td>-1.569910e+08</td>\n      <td>...</td>\n      <td>-8.455850e+07</td>\n      <td>-1.081940e+08</td>\n      <td>-5.189714e+06</td>\n      <td>-5.321000e+07</td>\n      <td>-1.264725e+07</td>\n      <td>-8.381125e+07</td>\n      <td>-1.336518e+07</td>\n      <td>-4.000000e+06</td>\n      <td>-1.371000e+07</td>\n      <td>-1.455200e+07</td>\n    </tr>\n    <tr>\n      <th>50%</th>\n      <td>4.487150e+05</td>\n      <td>2017.000000</td>\n      <td>5.994200e+07</td>\n      <td>6.063758e+07</td>\n      <td>1.247863e+09</td>\n      <td>-7.081540e+08</td>\n      <td>5.502280e+08</td>\n      <td>-3.403510e+08</td>\n      <td>-1.919330e+08</td>\n      <td>-5.218000e+07</td>\n      <td>...</td>\n      <td>-1.210250e+07</td>\n      <td>-2.340000e+07</td>\n      <td>6.599900e+07</td>\n      <td>-6.318000e+06</td>\n      <td>5.107500e+07</td>\n      <td>-1.100300e+07</td>\n      <td>3.947000e+07</td>\n      <td>0.000000e+00</td>\n      <td>3.775800e+07</td>\n      <td>3.617900e+07</td>\n    </tr>\n    <tr>\n      <th>75%</th>\n      <td>8.094350e+05</td>\n      <td>2018.000000</td>\n      <td>1.564070e+08</td>\n      <td>1.590728e+08</td>\n      <td>4.283140e+09</td>\n      <td>-1.293975e+08</td>\n      <td>1.667528e+09</td>\n      <td>-9.472200e+07</td>\n      <td>-4.504000e+07</td>\n      <td>-1.524990e+07</td>\n      <td>...</td>\n      <td>-4.697525e+04</td>\n      <td>-1.188000e+06</td>\n      <td>3.869040e+08</td>\n      <td>0.000000e+00</td>\n      <td>3.510000e+08</td>\n      <td>-2.100000e+04</td>\n      <td>2.767982e+08</td>\n      <td>1.704275e+07</td>\n      <td>2.730000e+08</td>\n      <td>2.723338e+08</td>\n    </tr>\n    <tr>\n      <th>max</th>\n      <td>1.271540e+06</td>\n      <td>2020.000000</td>\n      <td>2.188328e+10</td>\n      <td>2.200112e+10</td>\n      <td>5.239640e+11</td>\n      <td>3.100000e+07</td>\n      <td>1.293590e+11</td>\n      <td>0.000000e+00</td>\n      <td>0.000000e+00</td>\n      <td>6.480000e+05</td>\n      <td>...</td>\n      <td>6.978100e+10</td>\n      <td>2.380252e+09</td>\n      <td>1.027920e+11</td>\n      <td>1.289400e+10</td>\n      <td>1.026960e+11</td>\n      <td>2.151500e+10</td>\n      <td>8.179200e+10</td>\n      <td>1.591450e+10</td>\n      <td>8.141700e+10</td>\n      <td>8.141700e+10</td>\n    </tr>\n  </tbody>\n</table>\n<p>8 rows × 22 columns</p>\n</div>"
     },
     "execution_count": 28,
     "metadata": {},
     "output_type": "execute_result"
    }
   ],
   "source": [
    "# Statistical data can be calculated with the dataframe .describe() function\n",
    "Income_Data.describe()"
   ]
  },
  {
   "cell_type": "code",
   "execution_count": 29,
   "metadata": {
    "pycharm": {
     "name": "#%%\n"
    }
   },
   "outputs": [],
   "source": [
    "# You can create new dataframes from filtered old dataframes, let's separate the 2017 fiscal year data to a new dataframe.\n",
    "Income_Data_2017 = Income_Data[Income_Data['Fiscal Year'] == 2017]"
   ]
  },
  {
   "cell_type": "code",
   "execution_count": 30,
   "metadata": {
    "pycharm": {
     "name": "#%%\n"
    }
   },
   "outputs": [
    {
     "data": {
      "text/plain": "   Ticker  SimFinId Currency  Fiscal Year Fiscal Period Report Date  \\\n1       A     45846      USD         2017            FY  2017-10-31   \n7      AA    367153      USD         2017            FY  2017-12-31   \n13    AAL     68568      USD         2017            FY  2017-12-31   \n18   AAMC    847094      USD         2017            FY  2017-12-31   \n23    AAN    441241      USD         2017            FY  2017-12-31   \n28   AAOI    671827      USD         2017            FY  2017-12-31   \n33   AAON    919501      USD         2017            FY  2017-12-31   \n38    AAP    184955      USD         2017            FY  2017-12-31   \n42   AAPL    111052      USD         2017            FY  2017-09-30   \n\n   Publish Date Restated Date  Shares (Basic)  Shares (Diluted)  ...  \\\n1    2017-12-21    2018-12-20    3.220000e+08      3.260000e+08  ...   \n7    2018-02-26    2019-02-26    1.840000e+08      1.870000e+08  ...   \n13   2018-02-21    2019-02-25    4.891640e+08      4.916920e+08  ...   \n18   2018-03-01    2018-03-01    1.570428e+06      1.570428e+06  ...   \n23   2018-03-01    2019-02-14    7.083700e+07      7.212100e+07  ...   \n28   2018-02-28    2018-02-28    1.909736e+07      2.013910e+07  ...   \n33   2018-02-27    2019-02-28    5.257250e+07      5.307873e+07  ...   \n38   2018-02-21    2020-02-18    7.384600e+07      7.411000e+07  ...   \n42   2017-11-03    2019-10-31    2.086897e+10      2.100677e+10  ...   \n\n    Non-Operating Income (Loss)  Interest Expense, Net  \\\n1                 -3.800000e+07            -57000000.0   \n7                 -1.310000e+08           -104000000.0   \n13                -8.360000e+08           -959000000.0   \n18                 1.086000e+06                    0.0   \n23                -1.512200e+07            -18703000.0   \n28                -2.425000e+06              -637000.0   \n33                 3.890000e+05               298000.0   \n38                -4.995300e+07            -58801000.0   \n42                 2.745000e+09                    NaN   \n\n    Pretax Income (Loss), Adj.  Abnormal Gains (Losses)  Pretax Income (Loss)  \\\n1                    803000000                      NaN             803000000   \n7                   1468000000             -309000000.0            1159000000   \n13                  3395000000                      NaN            3395000000   \n18                    -6261000                      0.0              -6261000   \n23                   257571000              -17994000.0             239577000   \n28                    84526000                      NaN              84526000   \n33                    74537000                 -45000.0              74492000   \n38                   520259000                      NaN             520259000   \n42                 64089000000                      NaN           64089000000   \n\n    Income Tax (Expense) Benefit, Net  \\\n1                       -1.190000e+08   \n7                       -6.000000e+08   \n13                      -2.113000e+09   \n18                      -7.080000e+05   \n23                       5.295900e+07   \n28                      -1.057500e+07   \n33                      -1.999400e+07   \n38                      -4.475400e+07   \n42                      -1.573800e+10   \n\n    Income (Loss) from Continuing Operations  \\\n1                                  684000000   \n7                                  559000000   \n13                                1282000000   \n18                                  -6969000   \n23                                 292536000   \n28                                  73951000   \n33                                  54498000   \n38                                 475505000   \n42                               48351000000   \n\n    Net Extraordinary Gains (Losses)   Net Income  Net Income (Common)  \n1                                NaN    684000000            684000000  \n7                                NaN    217000000            217000000  \n13                               NaN   1282000000           1282000000  \n18                               NaN     -6969000             -7175000  \n23                               NaN    292536000            292536000  \n28                               NaN     73951000             73951000  \n33                               NaN     54498000             54498000  \n38                               NaN    475505000            475505000  \n42                               NaN  48351000000          48351000000  \n\n[9 rows x 28 columns]",
      "text/html": "<div>\n<style scoped>\n    .dataframe tbody tr th:only-of-type {\n        vertical-align: middle;\n    }\n\n    .dataframe tbody tr th {\n        vertical-align: top;\n    }\n\n    .dataframe thead th {\n        text-align: right;\n    }\n</style>\n<table border=\"1\" class=\"dataframe\">\n  <thead>\n    <tr style=\"text-align: right;\">\n      <th></th>\n      <th>Ticker</th>\n      <th>SimFinId</th>\n      <th>Currency</th>\n      <th>Fiscal Year</th>\n      <th>Fiscal Period</th>\n      <th>Report Date</th>\n      <th>Publish Date</th>\n      <th>Restated Date</th>\n      <th>Shares (Basic)</th>\n      <th>Shares (Diluted)</th>\n      <th>...</th>\n      <th>Non-Operating Income (Loss)</th>\n      <th>Interest Expense, Net</th>\n      <th>Pretax Income (Loss), Adj.</th>\n      <th>Abnormal Gains (Losses)</th>\n      <th>Pretax Income (Loss)</th>\n      <th>Income Tax (Expense) Benefit, Net</th>\n      <th>Income (Loss) from Continuing Operations</th>\n      <th>Net Extraordinary Gains (Losses)</th>\n      <th>Net Income</th>\n      <th>Net Income (Common)</th>\n    </tr>\n  </thead>\n  <tbody>\n    <tr>\n      <th>1</th>\n      <td>A</td>\n      <td>45846</td>\n      <td>USD</td>\n      <td>2017</td>\n      <td>FY</td>\n      <td>2017-10-31</td>\n      <td>2017-12-21</td>\n      <td>2018-12-20</td>\n      <td>3.220000e+08</td>\n      <td>3.260000e+08</td>\n      <td>...</td>\n      <td>-3.800000e+07</td>\n      <td>-57000000.0</td>\n      <td>803000000</td>\n      <td>NaN</td>\n      <td>803000000</td>\n      <td>-1.190000e+08</td>\n      <td>684000000</td>\n      <td>NaN</td>\n      <td>684000000</td>\n      <td>684000000</td>\n    </tr>\n    <tr>\n      <th>7</th>\n      <td>AA</td>\n      <td>367153</td>\n      <td>USD</td>\n      <td>2017</td>\n      <td>FY</td>\n      <td>2017-12-31</td>\n      <td>2018-02-26</td>\n      <td>2019-02-26</td>\n      <td>1.840000e+08</td>\n      <td>1.870000e+08</td>\n      <td>...</td>\n      <td>-1.310000e+08</td>\n      <td>-104000000.0</td>\n      <td>1468000000</td>\n      <td>-309000000.0</td>\n      <td>1159000000</td>\n      <td>-6.000000e+08</td>\n      <td>559000000</td>\n      <td>NaN</td>\n      <td>217000000</td>\n      <td>217000000</td>\n    </tr>\n    <tr>\n      <th>13</th>\n      <td>AAL</td>\n      <td>68568</td>\n      <td>USD</td>\n      <td>2017</td>\n      <td>FY</td>\n      <td>2017-12-31</td>\n      <td>2018-02-21</td>\n      <td>2019-02-25</td>\n      <td>4.891640e+08</td>\n      <td>4.916920e+08</td>\n      <td>...</td>\n      <td>-8.360000e+08</td>\n      <td>-959000000.0</td>\n      <td>3395000000</td>\n      <td>NaN</td>\n      <td>3395000000</td>\n      <td>-2.113000e+09</td>\n      <td>1282000000</td>\n      <td>NaN</td>\n      <td>1282000000</td>\n      <td>1282000000</td>\n    </tr>\n    <tr>\n      <th>18</th>\n      <td>AAMC</td>\n      <td>847094</td>\n      <td>USD</td>\n      <td>2017</td>\n      <td>FY</td>\n      <td>2017-12-31</td>\n      <td>2018-03-01</td>\n      <td>2018-03-01</td>\n      <td>1.570428e+06</td>\n      <td>1.570428e+06</td>\n      <td>...</td>\n      <td>1.086000e+06</td>\n      <td>0.0</td>\n      <td>-6261000</td>\n      <td>0.0</td>\n      <td>-6261000</td>\n      <td>-7.080000e+05</td>\n      <td>-6969000</td>\n      <td>NaN</td>\n      <td>-6969000</td>\n      <td>-7175000</td>\n    </tr>\n    <tr>\n      <th>23</th>\n      <td>AAN</td>\n      <td>441241</td>\n      <td>USD</td>\n      <td>2017</td>\n      <td>FY</td>\n      <td>2017-12-31</td>\n      <td>2018-03-01</td>\n      <td>2019-02-14</td>\n      <td>7.083700e+07</td>\n      <td>7.212100e+07</td>\n      <td>...</td>\n      <td>-1.512200e+07</td>\n      <td>-18703000.0</td>\n      <td>257571000</td>\n      <td>-17994000.0</td>\n      <td>239577000</td>\n      <td>5.295900e+07</td>\n      <td>292536000</td>\n      <td>NaN</td>\n      <td>292536000</td>\n      <td>292536000</td>\n    </tr>\n    <tr>\n      <th>28</th>\n      <td>AAOI</td>\n      <td>671827</td>\n      <td>USD</td>\n      <td>2017</td>\n      <td>FY</td>\n      <td>2017-12-31</td>\n      <td>2018-02-28</td>\n      <td>2018-02-28</td>\n      <td>1.909736e+07</td>\n      <td>2.013910e+07</td>\n      <td>...</td>\n      <td>-2.425000e+06</td>\n      <td>-637000.0</td>\n      <td>84526000</td>\n      <td>NaN</td>\n      <td>84526000</td>\n      <td>-1.057500e+07</td>\n      <td>73951000</td>\n      <td>NaN</td>\n      <td>73951000</td>\n      <td>73951000</td>\n    </tr>\n    <tr>\n      <th>33</th>\n      <td>AAON</td>\n      <td>919501</td>\n      <td>USD</td>\n      <td>2017</td>\n      <td>FY</td>\n      <td>2017-12-31</td>\n      <td>2018-02-27</td>\n      <td>2019-02-28</td>\n      <td>5.257250e+07</td>\n      <td>5.307873e+07</td>\n      <td>...</td>\n      <td>3.890000e+05</td>\n      <td>298000.0</td>\n      <td>74537000</td>\n      <td>-45000.0</td>\n      <td>74492000</td>\n      <td>-1.999400e+07</td>\n      <td>54498000</td>\n      <td>NaN</td>\n      <td>54498000</td>\n      <td>54498000</td>\n    </tr>\n    <tr>\n      <th>38</th>\n      <td>AAP</td>\n      <td>184955</td>\n      <td>USD</td>\n      <td>2017</td>\n      <td>FY</td>\n      <td>2017-12-31</td>\n      <td>2018-02-21</td>\n      <td>2020-02-18</td>\n      <td>7.384600e+07</td>\n      <td>7.411000e+07</td>\n      <td>...</td>\n      <td>-4.995300e+07</td>\n      <td>-58801000.0</td>\n      <td>520259000</td>\n      <td>NaN</td>\n      <td>520259000</td>\n      <td>-4.475400e+07</td>\n      <td>475505000</td>\n      <td>NaN</td>\n      <td>475505000</td>\n      <td>475505000</td>\n    </tr>\n    <tr>\n      <th>42</th>\n      <td>AAPL</td>\n      <td>111052</td>\n      <td>USD</td>\n      <td>2017</td>\n      <td>FY</td>\n      <td>2017-09-30</td>\n      <td>2017-11-03</td>\n      <td>2019-10-31</td>\n      <td>2.086897e+10</td>\n      <td>2.100677e+10</td>\n      <td>...</td>\n      <td>2.745000e+09</td>\n      <td>NaN</td>\n      <td>64089000000</td>\n      <td>NaN</td>\n      <td>64089000000</td>\n      <td>-1.573800e+10</td>\n      <td>48351000000</td>\n      <td>NaN</td>\n      <td>48351000000</td>\n      <td>48351000000</td>\n    </tr>\n  </tbody>\n</table>\n<p>9 rows × 28 columns</p>\n</div>"
     },
     "execution_count": 30,
     "metadata": {},
     "output_type": "execute_result"
    }
   ],
   "source": [
    "Income_Data_2017.head(9)"
   ]
  },
  {
   "cell_type": "code",
   "execution_count": 34,
   "metadata": {
    "pycharm": {
     "name": "#%%\n"
    }
   },
   "outputs": [
    {
     "data": {
      "text/plain": "      Ticker  SimFinId Currency  Fiscal Year Fiscal Period Report Date  \\\n10462   ZGNX    816789      USD         2017            FY  2017-12-31   \n10468   ZIOP    795980      USD         2017            FY  2017-12-31   \n10475   ZNGA    418866      USD         2017            FY  2017-12-31   \n10478     ZS    896477      USD         2017            FY  2017-07-31   \n10484    ZTS    378251      USD         2017            FY  2017-12-31   \n10489   ZUMZ     45730      USD         2017            FY  2018-01-31   \n10492    ZUO    994625      USD         2017            FY  2018-01-31   \n10497    ZVO    901866      USD         2017            FY  2017-12-31   \n10502   ZYNE    901704      USD         2017            FY  2017-12-31   \n10507   ZYXI    171401      USD         2017            FY  2017-12-31   \n\n      Publish Date Restated Date  Shares (Basic)  Shares (Diluted)  ...  \\\n10462   2018-03-06    2018-03-06      27301000.0        27301000.0  ...   \n10468   2018-03-01    2018-03-01     136938264.0       136938264.0  ...   \n10475   2018-02-20    2019-02-28     869067000.0       897165000.0  ...   \n10478   2017-09-07    2018-09-13      29221000.0        29221000.0  ...   \n10484   2018-02-15    2018-02-15     489918000.0       493161000.0  ...   \n10489   2018-03-19    2018-03-19      24679000.0        24878000.0  ...   \n10492   2018-03-15    2020-03-31      26563000.0        26563000.0  ...   \n10497   2018-02-21    2019-03-12      32058000.0        32794000.0  ...   \n10502   2018-03-12    2019-03-11      12914814.0        12914814.0  ...   \n10507   2018-02-28    2019-02-26      32156000.0        33196000.0  ...   \n\n       Non-Operating Income (Loss)  Interest Expense, Net  \\\n10462                   -1507000.0             -1554000.0   \n10468                     465000.0                    NaN   \n10475                   11859000.0              5309000.0   \n10478                     490000.0               597000.0   \n10484                 -181000000.0           -175000000.0   \n10489                    -357000.0               495000.0   \n10492                     252000.0               252000.0   \n10497                    1511000.0                    NaN   \n10502                     810705.0               519554.0   \n10507                   -1450000.0             -1450000.0   \n\n       Pretax Income (Loss), Adj.  Abnormal Gains (Losses)  \\\n10462                   -95749000              -30273000.0   \n10468                   -59417000                5094000.0   \n10475                    37583000                      NaN   \n10478                   -34583000                      NaN   \n10484                  1544000000              -19000000.0   \n10489                    48403000                      NaN   \n10492                   -37826000                      NaN   \n10497                    16619000               -8682000.0   \n10502                   -32012304                      0.0   \n10507                     7494000                      NaN   \n\n       Pretax Income (Loss)  Income Tax (Expense) Benefit, Net  \\\n10462            -126022000                                0.0   \n10468             -54323000                                NaN   \n10475              37583000                        -10944000.0   \n10478             -34583000                          -877000.0   \n10484            1525000000                       -663000000.0   \n10489              48403000                        -21601000.0   \n10492             -37826000                         -1551000.0   \n10497               7937000                          1174000.0   \n10502             -32012304                                0.0   \n10507               7494000                          -129000.0   \n\n       Income (Loss) from Continuing Operations  \\\n10462                                -126022000   \n10468                                 -54323000   \n10475                                  26639000   \n10478                                 -35460000   \n10484                                 862000000   \n10489                                  26802000   \n10492                                 -39377000   \n10497                                   9111000   \n10502                                 -32012304   \n10507                                   7365000   \n\n       Net Extraordinary Gains (Losses)  Net Income  Net Income (Common)  \n10462                         -795000.0  -126817000           -126817000  \n10468                               NaN   -54323000            -73261000  \n10475                               NaN    26639000             26639000  \n10478                               NaN   -35460000            -45030000  \n10484                               NaN   864000000            864000000  \n10489                               NaN    26802000             26802000  \n10492                               NaN   -39377000            -39377000  \n10497                               NaN     9111000              9111000  \n10502                               NaN   -32012304            -32012304  \n10507                               NaN     7365000              7365000  \n\n[10 rows x 28 columns]",
      "text/html": "<div>\n<style scoped>\n    .dataframe tbody tr th:only-of-type {\n        vertical-align: middle;\n    }\n\n    .dataframe tbody tr th {\n        vertical-align: top;\n    }\n\n    .dataframe thead th {\n        text-align: right;\n    }\n</style>\n<table border=\"1\" class=\"dataframe\">\n  <thead>\n    <tr style=\"text-align: right;\">\n      <th></th>\n      <th>Ticker</th>\n      <th>SimFinId</th>\n      <th>Currency</th>\n      <th>Fiscal Year</th>\n      <th>Fiscal Period</th>\n      <th>Report Date</th>\n      <th>Publish Date</th>\n      <th>Restated Date</th>\n      <th>Shares (Basic)</th>\n      <th>Shares (Diluted)</th>\n      <th>...</th>\n      <th>Non-Operating Income (Loss)</th>\n      <th>Interest Expense, Net</th>\n      <th>Pretax Income (Loss), Adj.</th>\n      <th>Abnormal Gains (Losses)</th>\n      <th>Pretax Income (Loss)</th>\n      <th>Income Tax (Expense) Benefit, Net</th>\n      <th>Income (Loss) from Continuing Operations</th>\n      <th>Net Extraordinary Gains (Losses)</th>\n      <th>Net Income</th>\n      <th>Net Income (Common)</th>\n    </tr>\n  </thead>\n  <tbody>\n    <tr>\n      <th>10462</th>\n      <td>ZGNX</td>\n      <td>816789</td>\n      <td>USD</td>\n      <td>2017</td>\n      <td>FY</td>\n      <td>2017-12-31</td>\n      <td>2018-03-06</td>\n      <td>2018-03-06</td>\n      <td>27301000.0</td>\n      <td>27301000.0</td>\n      <td>...</td>\n      <td>-1507000.0</td>\n      <td>-1554000.0</td>\n      <td>-95749000</td>\n      <td>-30273000.0</td>\n      <td>-126022000</td>\n      <td>0.0</td>\n      <td>-126022000</td>\n      <td>-795000.0</td>\n      <td>-126817000</td>\n      <td>-126817000</td>\n    </tr>\n    <tr>\n      <th>10468</th>\n      <td>ZIOP</td>\n      <td>795980</td>\n      <td>USD</td>\n      <td>2017</td>\n      <td>FY</td>\n      <td>2017-12-31</td>\n      <td>2018-03-01</td>\n      <td>2018-03-01</td>\n      <td>136938264.0</td>\n      <td>136938264.0</td>\n      <td>...</td>\n      <td>465000.0</td>\n      <td>NaN</td>\n      <td>-59417000</td>\n      <td>5094000.0</td>\n      <td>-54323000</td>\n      <td>NaN</td>\n      <td>-54323000</td>\n      <td>NaN</td>\n      <td>-54323000</td>\n      <td>-73261000</td>\n    </tr>\n    <tr>\n      <th>10475</th>\n      <td>ZNGA</td>\n      <td>418866</td>\n      <td>USD</td>\n      <td>2017</td>\n      <td>FY</td>\n      <td>2017-12-31</td>\n      <td>2018-02-20</td>\n      <td>2019-02-28</td>\n      <td>869067000.0</td>\n      <td>897165000.0</td>\n      <td>...</td>\n      <td>11859000.0</td>\n      <td>5309000.0</td>\n      <td>37583000</td>\n      <td>NaN</td>\n      <td>37583000</td>\n      <td>-10944000.0</td>\n      <td>26639000</td>\n      <td>NaN</td>\n      <td>26639000</td>\n      <td>26639000</td>\n    </tr>\n    <tr>\n      <th>10478</th>\n      <td>ZS</td>\n      <td>896477</td>\n      <td>USD</td>\n      <td>2017</td>\n      <td>FY</td>\n      <td>2017-07-31</td>\n      <td>2017-09-07</td>\n      <td>2018-09-13</td>\n      <td>29221000.0</td>\n      <td>29221000.0</td>\n      <td>...</td>\n      <td>490000.0</td>\n      <td>597000.0</td>\n      <td>-34583000</td>\n      <td>NaN</td>\n      <td>-34583000</td>\n      <td>-877000.0</td>\n      <td>-35460000</td>\n      <td>NaN</td>\n      <td>-35460000</td>\n      <td>-45030000</td>\n    </tr>\n    <tr>\n      <th>10484</th>\n      <td>ZTS</td>\n      <td>378251</td>\n      <td>USD</td>\n      <td>2017</td>\n      <td>FY</td>\n      <td>2017-12-31</td>\n      <td>2018-02-15</td>\n      <td>2018-02-15</td>\n      <td>489918000.0</td>\n      <td>493161000.0</td>\n      <td>...</td>\n      <td>-181000000.0</td>\n      <td>-175000000.0</td>\n      <td>1544000000</td>\n      <td>-19000000.0</td>\n      <td>1525000000</td>\n      <td>-663000000.0</td>\n      <td>862000000</td>\n      <td>NaN</td>\n      <td>864000000</td>\n      <td>864000000</td>\n    </tr>\n    <tr>\n      <th>10489</th>\n      <td>ZUMZ</td>\n      <td>45730</td>\n      <td>USD</td>\n      <td>2017</td>\n      <td>FY</td>\n      <td>2018-01-31</td>\n      <td>2018-03-19</td>\n      <td>2018-03-19</td>\n      <td>24679000.0</td>\n      <td>24878000.0</td>\n      <td>...</td>\n      <td>-357000.0</td>\n      <td>495000.0</td>\n      <td>48403000</td>\n      <td>NaN</td>\n      <td>48403000</td>\n      <td>-21601000.0</td>\n      <td>26802000</td>\n      <td>NaN</td>\n      <td>26802000</td>\n      <td>26802000</td>\n    </tr>\n    <tr>\n      <th>10492</th>\n      <td>ZUO</td>\n      <td>994625</td>\n      <td>USD</td>\n      <td>2017</td>\n      <td>FY</td>\n      <td>2018-01-31</td>\n      <td>2018-03-15</td>\n      <td>2020-03-31</td>\n      <td>26563000.0</td>\n      <td>26563000.0</td>\n      <td>...</td>\n      <td>252000.0</td>\n      <td>252000.0</td>\n      <td>-37826000</td>\n      <td>NaN</td>\n      <td>-37826000</td>\n      <td>-1551000.0</td>\n      <td>-39377000</td>\n      <td>NaN</td>\n      <td>-39377000</td>\n      <td>-39377000</td>\n    </tr>\n    <tr>\n      <th>10497</th>\n      <td>ZVO</td>\n      <td>901866</td>\n      <td>USD</td>\n      <td>2017</td>\n      <td>FY</td>\n      <td>2017-12-31</td>\n      <td>2018-02-21</td>\n      <td>2019-03-12</td>\n      <td>32058000.0</td>\n      <td>32794000.0</td>\n      <td>...</td>\n      <td>1511000.0</td>\n      <td>NaN</td>\n      <td>16619000</td>\n      <td>-8682000.0</td>\n      <td>7937000</td>\n      <td>1174000.0</td>\n      <td>9111000</td>\n      <td>NaN</td>\n      <td>9111000</td>\n      <td>9111000</td>\n    </tr>\n    <tr>\n      <th>10502</th>\n      <td>ZYNE</td>\n      <td>901704</td>\n      <td>USD</td>\n      <td>2017</td>\n      <td>FY</td>\n      <td>2017-12-31</td>\n      <td>2018-03-12</td>\n      <td>2019-03-11</td>\n      <td>12914814.0</td>\n      <td>12914814.0</td>\n      <td>...</td>\n      <td>810705.0</td>\n      <td>519554.0</td>\n      <td>-32012304</td>\n      <td>0.0</td>\n      <td>-32012304</td>\n      <td>0.0</td>\n      <td>-32012304</td>\n      <td>NaN</td>\n      <td>-32012304</td>\n      <td>-32012304</td>\n    </tr>\n    <tr>\n      <th>10507</th>\n      <td>ZYXI</td>\n      <td>171401</td>\n      <td>USD</td>\n      <td>2017</td>\n      <td>FY</td>\n      <td>2017-12-31</td>\n      <td>2018-02-28</td>\n      <td>2019-02-26</td>\n      <td>32156000.0</td>\n      <td>33196000.0</td>\n      <td>...</td>\n      <td>-1450000.0</td>\n      <td>-1450000.0</td>\n      <td>7494000</td>\n      <td>NaN</td>\n      <td>7494000</td>\n      <td>-129000.0</td>\n      <td>7365000</td>\n      <td>NaN</td>\n      <td>7365000</td>\n      <td>7365000</td>\n    </tr>\n  </tbody>\n</table>\n<p>10 rows × 28 columns</p>\n</div>"
     },
     "execution_count": 34,
     "metadata": {},
     "output_type": "execute_result"
    }
   ],
   "source": [
    "Income_Data_2017.tail(10)"
   ]
  },
  {
   "cell_type": "markdown",
   "metadata": {
    "pycharm": {
     "name": "#%% md\n"
    }
   },
   "source": [
    "# Exercise 6 - Rudimentary stock filtering with Pandas\n",
    "## Objectives:\n",
    "* To take the income statement data and the stock price data to make a rudimentary stock screener for price/earnings, price sales ratios, etc.\n",
    "* To view some agregate financial data visually to gain some intuition about the corporations in the stock market.\n",
    "* To practice what has been learnt so far in meeting the objectives\n",
    "\n",
    "### Some bits of the code are missing, follow through and try and get it working"
   ]
  },
  {
   "cell_type": "markdown",
   "metadata": {
    "pycharm": {
     "name": "#%% md\n"
    }
   },
   "source": [
    "### First lets get the stock data"
   ]
  },
  {
   "cell_type": "code",
   "execution_count": 35,
   "metadata": {
    "pycharm": {
     "name": "#%%\n"
    }
   },
   "outputs": [],
   "source": [
    "#get csv data from simfin.com\n",
    "import pandas as pd\n",
    "Income_Data=pd.read_csv(\\\n",
    "    'C:/Users/lynne/Downloads/us-income-annual.csv',\\\n",
    "                        delimiter=';')\n",
    "stock_prices=pd.read_csv(\\\n",
    "    'C:/Users/lynne/Downloads/us-shareprices-daily.csv',\\\n",
    "                        delimiter=';')"
   ]
  },
  {
   "cell_type": "code",
   "execution_count": 43,
   "metadata": {
    "pycharm": {
     "name": "#%%\n"
    }
   },
   "outputs": [
    {
     "name": "stdout",
     "output_type": "stream",
     "text": [
      "Income data size is:  (10518, 28)\n",
      "stock_prices data size is:  (3078751, 11)\n"
     ]
    }
   ],
   "source": [
    "# How big are these dataframes? How is the data stored? \n",
    "# print out the shape of both dataframes\n",
    "#\n",
    "print('Income data size is: ', Income_Data.shape)\n",
    "print('stock_prices data size is: ', stock_prices.shape)"
   ]
  },
  {
   "cell_type": "code",
   "execution_count": 37,
   "metadata": {
    "pycharm": {
     "name": "#%%\n"
    }
   },
   "outputs": [
    {
     "name": "stdout",
     "output_type": "stream",
     "text": [
      "Income keys are:  Index(['Ticker', 'SimFinId', 'Currency', 'Fiscal Year', 'Fiscal Period',\n",
      "       'Report Date', 'Publish Date', 'Restated Date', 'Shares (Basic)',\n",
      "       'Shares (Diluted)', 'Revenue', 'Cost of Revenue', 'Gross Profit',\n",
      "       'Operating Expenses', 'Selling, General & Administrative',\n",
      "       'Research & Development', 'Depreciation & Amortization',\n",
      "       'Operating Income (Loss)', 'Non-Operating Income (Loss)',\n",
      "       'Interest Expense, Net', 'Pretax Income (Loss), Adj.',\n",
      "       'Abnormal Gains (Losses)', 'Pretax Income (Loss)',\n",
      "       'Income Tax (Expense) Benefit, Net',\n",
      "       'Income (Loss) from Continuing Operations',\n",
      "       'Net Extraordinary Gains (Losses)', 'Net Income',\n",
      "       'Net Income (Common)'],\n",
      "      dtype='object')\n",
      "stock_prices keys are:  Index(['Ticker', 'SimFinId', 'Date', 'Open', 'Low', 'High', 'Close',\n",
      "       'Adj. Close', 'Dividend', 'Volume', 'Shares Outstanding'],\n",
      "      dtype='object')\n"
     ]
    }
   ],
   "source": [
    "#print out the keys of the dataframes (which are the column headers)\n",
    "\n",
    "print('Income keys are: ', Income_Data.keys())\n",
    "print('stock_prices keys are: ', stock_prices.keys())\n",
    "#"
   ]
  },
  {
   "cell_type": "code",
   "execution_count": 45,
   "metadata": {
    "pycharm": {
     "name": "#%%\n"
    }
   },
   "outputs": [
    {
     "name": "stdout",
     "output_type": "stream",
     "text": [
      "Income_Data\n",
      "  Ticker  SimFinId Currency  Fiscal Year Fiscal Period Report Date  \\\n",
      "0      A     45846      USD         2016            FY  2016-10-31   \n",
      "1      A     45846      USD         2017            FY  2017-10-31   \n",
      "2      A     45846      USD         2018            FY  2018-10-31   \n",
      "3      A     45846      USD         2019            FY  2019-10-31   \n",
      "4      A     45846      USD         2020            FY  2020-10-31   \n",
      "\n",
      "  Publish Date Restated Date  Shares (Basic)  Shares (Diluted)  ...  \\\n",
      "0   2016-12-20    2018-12-20     326000000.0       329000000.0  ...   \n",
      "1   2017-12-21    2018-12-20     322000000.0       326000000.0  ...   \n",
      "2   2018-12-20    2020-12-18     321000000.0       325000000.0  ...   \n",
      "3   2019-12-19    2020-12-18     314000000.0       318000000.0  ...   \n",
      "4   2020-12-18    2020-12-18     309000000.0       312000000.0  ...   \n",
      "\n",
      "   Non-Operating Income (Loss)  Interest Expense, Net  \\\n",
      "0                  -71000000.0            -61000000.0   \n",
      "1                  -38000000.0            -57000000.0   \n",
      "2                   42000000.0            -37000000.0   \n",
      "3                  -22000000.0            -38000000.0   \n",
      "4                   -4000000.0            -70000000.0   \n",
      "\n",
      "   Pretax Income (Loss), Adj.  Abnormal Gains (Losses)  Pretax Income (Loss)  \\\n",
      "0                   544000000                      NaN             544000000   \n",
      "1                   803000000                      NaN             803000000   \n",
      "2                   946000000                      NaN             946000000   \n",
      "3                   919000000                      NaN             919000000   \n",
      "4                   842000000                      NaN             842000000   \n",
      "\n",
      "   Income Tax (Expense) Benefit, Net  \\\n",
      "0                        -82000000.0   \n",
      "1                       -119000000.0   \n",
      "2                       -630000000.0   \n",
      "3                        152000000.0   \n",
      "4                       -123000000.0   \n",
      "\n",
      "   Income (Loss) from Continuing Operations  Net Extraordinary Gains (Losses)  \\\n",
      "0                                 462000000                               NaN   \n",
      "1                                 684000000                               NaN   \n",
      "2                                 316000000                               NaN   \n",
      "3                                1071000000                               NaN   \n",
      "4                                 719000000                               NaN   \n",
      "\n",
      "   Net Income  Net Income (Common)  \n",
      "0   462000000            462000000  \n",
      "1   684000000            684000000  \n",
      "2   316000000            316000000  \n",
      "3  1071000000           1071000000  \n",
      "4   719000000            719000000  \n",
      "\n",
      "[5 rows x 28 columns]\n",
      "\n",
      "stock_prices\n",
      "  Ticker  SimFinId        Date    Open     Low    High   Close  Adj. Close  \\\n",
      "0   GOOG        18  2015-11-23  757.45  751.82  762.71  755.98      755.98   \n",
      "1   GOOG        18  2015-11-24  752.00  737.63  755.28  748.28      748.28   \n",
      "2   GOOG        18  2015-11-25  748.14  746.06  752.00  748.15      748.15   \n",
      "3   GOOG        18  2015-11-27  748.46  747.49  753.41  750.26      750.26   \n",
      "4   GOOG        18  2015-11-30  748.81  741.27  754.93  742.60      742.60   \n",
      "\n",
      "   Dividend   Volume  Shares Outstanding  \n",
      "0       NaN  1415385         687725164.0  \n",
      "1       NaN  2334197         687725164.0  \n",
      "2       NaN  1122224         687725164.0  \n",
      "3       NaN   838528         687725164.0  \n",
      "4       NaN  2097624         687725164.0  \n"
     ]
    }
   ],
   "source": [
    "#Display the first 5 rows of the dataframes\n",
    "print(\"Income_Data\")\n",
    "print(Income_Data.head())\n",
    "print(\"\\nstock_prices\")\n",
    "print(stock_prices.head())"
   ]
  },
  {
   "cell_type": "code",
   "execution_count": 46,
   "metadata": {
    "pycharm": {
     "name": "#%%\n"
    }
   },
   "outputs": [
    {
     "data": {
      "text/plain": "  Ticker  SimFinId        Date    Open     Low    High   Close  Adj. Close  \\\n0   GOOG        18  2015-11-23  757.45  751.82  762.71  755.98      755.98   \n1   GOOG        18  2015-11-24  752.00  737.63  755.28  748.28      748.28   \n2   GOOG        18  2015-11-25  748.14  746.06  752.00  748.15      748.15   \n3   GOOG        18  2015-11-27  748.46  747.49  753.41  750.26      750.26   \n4   GOOG        18  2015-11-30  748.81  741.27  754.93  742.60      742.60   \n\n   Dividend   Volume  Shares Outstanding  \n0       NaN  1415385         687725164.0  \n1       NaN  2334197         687725164.0  \n2       NaN  1122224         687725164.0  \n3       NaN   838528         687725164.0  \n4       NaN  2097624         687725164.0  ",
      "text/html": "<div>\n<style scoped>\n    .dataframe tbody tr th:only-of-type {\n        vertical-align: middle;\n    }\n\n    .dataframe tbody tr th {\n        vertical-align: top;\n    }\n\n    .dataframe thead th {\n        text-align: right;\n    }\n</style>\n<table border=\"1\" class=\"dataframe\">\n  <thead>\n    <tr style=\"text-align: right;\">\n      <th></th>\n      <th>Ticker</th>\n      <th>SimFinId</th>\n      <th>Date</th>\n      <th>Open</th>\n      <th>Low</th>\n      <th>High</th>\n      <th>Close</th>\n      <th>Adj. Close</th>\n      <th>Dividend</th>\n      <th>Volume</th>\n      <th>Shares Outstanding</th>\n    </tr>\n  </thead>\n  <tbody>\n    <tr>\n      <th>0</th>\n      <td>GOOG</td>\n      <td>18</td>\n      <td>2015-11-23</td>\n      <td>757.45</td>\n      <td>751.82</td>\n      <td>762.71</td>\n      <td>755.98</td>\n      <td>755.98</td>\n      <td>NaN</td>\n      <td>1415385</td>\n      <td>687725164.0</td>\n    </tr>\n    <tr>\n      <th>1</th>\n      <td>GOOG</td>\n      <td>18</td>\n      <td>2015-11-24</td>\n      <td>752.00</td>\n      <td>737.63</td>\n      <td>755.28</td>\n      <td>748.28</td>\n      <td>748.28</td>\n      <td>NaN</td>\n      <td>2334197</td>\n      <td>687725164.0</td>\n    </tr>\n    <tr>\n      <th>2</th>\n      <td>GOOG</td>\n      <td>18</td>\n      <td>2015-11-25</td>\n      <td>748.14</td>\n      <td>746.06</td>\n      <td>752.00</td>\n      <td>748.15</td>\n      <td>748.15</td>\n      <td>NaN</td>\n      <td>1122224</td>\n      <td>687725164.0</td>\n    </tr>\n    <tr>\n      <th>3</th>\n      <td>GOOG</td>\n      <td>18</td>\n      <td>2015-11-27</td>\n      <td>748.46</td>\n      <td>747.49</td>\n      <td>753.41</td>\n      <td>750.26</td>\n      <td>750.26</td>\n      <td>NaN</td>\n      <td>838528</td>\n      <td>687725164.0</td>\n    </tr>\n    <tr>\n      <th>4</th>\n      <td>GOOG</td>\n      <td>18</td>\n      <td>2015-11-30</td>\n      <td>748.81</td>\n      <td>741.27</td>\n      <td>754.93</td>\n      <td>742.60</td>\n      <td>742.60</td>\n      <td>NaN</td>\n      <td>2097624</td>\n      <td>687725164.0</td>\n    </tr>\n  </tbody>\n</table>\n</div>"
     },
     "execution_count": 46,
     "metadata": {},
     "output_type": "execute_result"
    }
   ],
   "source": [
    "stock_prices.head(5)"
   ]
  },
  {
   "cell_type": "markdown",
   "metadata": {
    "pycharm": {
     "name": "#%% md\n"
    }
   },
   "source": [
    "### Make a Market Cap series\n",
    "A lot of useful ratios commonly used to analyse companies depend on the Market Capitalization of the company,\n",
    "so we will add this to our dataframe first.\n",
    "\n",
    "Create a new dataframe which has all the income data as well as a market cap value, which will be the number of\n",
    "shares outstanding multiplied by the stock price.\n",
    "\n",
    "We will take the stock price at a relevant time for the income statement data, which should be around or just\n",
    " after the fiscal year reporting date.\n",
    "\n",
    "We will be using a previous fiscal year data for this exercise, where the 'Fiscal Year' series is 2017."
   ]
  },
  {
   "cell_type": "code",
   "execution_count": 47,
   "metadata": {
    "pycharm": {
     "name": "#%%\n"
    }
   },
   "outputs": [
    {
     "data": {
      "text/plain": "<AxesSubplot:>"
     },
     "execution_count": 47,
     "metadata": {},
     "output_type": "execute_result"
    },
    {
     "data": {
      "text/plain": "<Figure size 1200x750 with 1 Axes>",
      "image/png": "[encoded data removed]"
     },
     "metadata": {
      "needs_background": "light"
     },
     "output_type": "display_data"
    }
   ],
   "source": [
    "# See when the reporting data is usually made.\n",
    "# To view a date in the series as a date object, instead of merely a string, use the pd.to_datetime() function.\n",
    "\n",
    "# This date data has to be formatted this way for easy histogram plotting.\n",
    "Income_Data['Publish Date']=pd.to_datetime(Income_Data['Publish Date'])\n",
    "\n",
    "# Plot a histogram with a large number of bins to get a rough idea of when most reporting is done.\n",
    "Income_Data[Income_Data['Fiscal Year'] == 2017]['Publish Date'].hist(bins=100)"
   ]
  },
  {
   "cell_type": "code",
   "execution_count": 48,
   "metadata": {
    "pycharm": {
     "name": "#%%\n"
    }
   },
   "outputs": [],
   "source": [
    "# Make a new dataframe of only the income data from 'Fiscal Year' == 2017.\n",
    "Income_Data_2018 = Income_Data[Income_Data['Fiscal Year'] == 2017]"
   ]
  },
  {
   "cell_type": "code",
   "execution_count": 49,
   "metadata": {
    "pycharm": {
     "name": "#%%\n"
    }
   },
   "outputs": [
    {
     "data": {
      "text/plain": "<bound method Series.unique of 1           A\n7          AA\n13        AAL\n18       AAMC\n23        AAN\n         ... \n10497    ZUMZ\n10500     ZUO\n10505     ZVO\n10510    ZYNE\n10515    ZYXI\nName: Ticker, Length: 2138, dtype: object>"
     },
     "execution_count": 49,
     "metadata": {},
     "output_type": "execute_result"
    }
   ],
   "source": [
    "# View the series of company tickers that exist for that fiscal year, and see how long the list is.\n",
    "(Income_Data[Income_Data['Fiscal Year'] == 2017]['Ticker']).unique"
   ]
  },
  {
   "cell_type": "code",
   "execution_count": 51,
   "metadata": {
    "pycharm": {
     "name": "#%%\n"
    }
   },
   "outputs": [
    {
     "name": "stdout",
     "output_type": "stream",
     "text": [
      "stock_prices_2018 dataframe shape is:  (2462, 11)\n",
      "Income_Data_2018 dataframe shape is:  (2138, 28)\n"
     ]
    },
    {
     "data": {
      "text/plain": "     Ticker  SimFinId        Date     Open      Low     High    Close  \\\n570    GOOG        18  2018-03-01  1107.87  1067.00  1110.12  1069.52   \n2259   ATVI       243  2018-03-01    73.16    71.52    73.42    72.01   \n3518    BLK       914  2018-03-01   548.60   527.03   549.02   535.58   \n4777   ADBE     14099  2018-03-01   210.32   204.45   210.68   206.03   \n6036    MMM     22219  2018-03-01   236.15   229.53   236.83   231.34   \n\n      Adj. Close  Dividend   Volume  Shares Outstanding  \n570      1069.52       NaN  2515910         695297530.0  \n2259       70.26       NaN  8123915         758631663.0  \n3518      487.00       NaN   779735         160718719.0  \n4777      206.03       NaN  2632234         491578529.0  \n6036      204.78       NaN  3487126         595500000.0  ",
      "text/html": "<div>\n<style scoped>\n    .dataframe tbody tr th:only-of-type {\n        vertical-align: middle;\n    }\n\n    .dataframe tbody tr th {\n        vertical-align: top;\n    }\n\n    .dataframe thead th {\n        text-align: right;\n    }\n</style>\n<table border=\"1\" class=\"dataframe\">\n  <thead>\n    <tr style=\"text-align: right;\">\n      <th></th>\n      <th>Ticker</th>\n      <th>SimFinId</th>\n      <th>Date</th>\n      <th>Open</th>\n      <th>Low</th>\n      <th>High</th>\n      <th>Close</th>\n      <th>Adj. Close</th>\n      <th>Dividend</th>\n      <th>Volume</th>\n      <th>Shares Outstanding</th>\n    </tr>\n  </thead>\n  <tbody>\n    <tr>\n      <th>570</th>\n      <td>GOOG</td>\n      <td>18</td>\n      <td>2018-03-01</td>\n      <td>1107.87</td>\n      <td>1067.00</td>\n      <td>1110.12</td>\n      <td>1069.52</td>\n      <td>1069.52</td>\n      <td>NaN</td>\n      <td>2515910</td>\n      <td>695297530.0</td>\n    </tr>\n    <tr>\n      <th>2259</th>\n      <td>ATVI</td>\n      <td>243</td>\n      <td>2018-03-01</td>\n      <td>73.16</td>\n      <td>71.52</td>\n      <td>73.42</td>\n      <td>72.01</td>\n      <td>70.26</td>\n      <td>NaN</td>\n      <td>8123915</td>\n      <td>758631663.0</td>\n    </tr>\n    <tr>\n      <th>3518</th>\n      <td>BLK</td>\n      <td>914</td>\n      <td>2018-03-01</td>\n      <td>548.60</td>\n      <td>527.03</td>\n      <td>549.02</td>\n      <td>535.58</td>\n      <td>487.00</td>\n      <td>NaN</td>\n      <td>779735</td>\n      <td>160718719.0</td>\n    </tr>\n    <tr>\n      <th>4777</th>\n      <td>ADBE</td>\n      <td>14099</td>\n      <td>2018-03-01</td>\n      <td>210.32</td>\n      <td>204.45</td>\n      <td>210.68</td>\n      <td>206.03</td>\n      <td>206.03</td>\n      <td>NaN</td>\n      <td>2632234</td>\n      <td>491578529.0</td>\n    </tr>\n    <tr>\n      <th>6036</th>\n      <td>MMM</td>\n      <td>22219</td>\n      <td>2018-03-01</td>\n      <td>236.15</td>\n      <td>229.53</td>\n      <td>236.83</td>\n      <td>231.34</td>\n      <td>204.78</td>\n      <td>NaN</td>\n      <td>3487126</td>\n      <td>595500000.0</td>\n    </tr>\n  </tbody>\n</table>\n</div>"
     },
     "execution_count": 51,
     "metadata": {},
     "output_type": "execute_result"
    }
   ],
   "source": [
    "# It appears as though most reporting is done just after the beginning of the year for these companies.\n",
    "# Filter the stock price dataframe for the first of March of that year and make a new dataframe of that data. \n",
    "# print out the shape of the new dataframe. and use .head() to see it.\n",
    "\n",
    "stock_prices_2018 = (stock_prices[stock_prices['Date'] == '2018-03-01'])\n",
    "print('stock_prices_2018 dataframe shape is: ', stock_prices_2018.shape)\n",
    "print('Income_Data_2018 dataframe shape is: ', Income_Data_2018.shape)\n",
    "stock_prices_2018.head()"
   ]
  },
  {
   "cell_type": "code",
   "execution_count": null,
   "metadata": {
    "pycharm": {
     "name": "#%%\n"
    }
   },
   "outputs": [],
   "source": [
    "# Notice the size of the list of tickersin the Income statement dataframe(1726) differs from the share prices dataframe(1901)\n",
    "# In the real work we frequently deal with imperfect data. We will now cut down the data to make both dataframes correspond\n",
    "# so that we can add out market cap column."
   ]
  },
  {
   "cell_type": "code",
   "execution_count": 52,
   "metadata": {
    "pycharm": {
     "name": "#%%\n"
    }
   },
   "outputs": [
    {
     "data": {
      "text/plain": "        Ticker  SimFinId        Date     Open      Low     High    Close  \\\n570       GOOG        18  2018-03-01  1107.87  1067.00  1110.12  1069.52   \n2259      ATVI       243  2018-03-01    73.16    71.52    73.42    72.01   \n3518       BLK       914  2018-03-01   548.60   527.03   549.02   535.58   \n4777      ADBE     14099  2018-03-01   210.32   204.45   210.68   206.03   \n6036       MMM     22219  2018-03-01   236.15   229.53   236.83   231.34   \n...        ...       ...         ...      ...      ...      ...      ...   \n3063872   HSKA   1253403  2018-03-01    67.41    63.03    67.41    64.48   \n3070912   VIPS   1253412  2018-03-01    17.41    17.37    18.15    17.68   \n3074343    HCC   1253797  2018-03-01    31.37    30.54    31.97    30.68   \n3075669   GAIA   1291281  2018-03-01    12.75    12.75    13.20    13.00   \n3078062   XLRN   1291790  2018-03-01    42.29    39.51    42.90    40.61   \n\n         Adj. Close  Dividend   Volume  Shares Outstanding  \n570         1069.52       NaN  2515910         695297530.0  \n2259          70.26       NaN  8123915         758631663.0  \n3518         487.00       NaN   779735         160718719.0  \n4777         206.03       NaN  2632234         491578529.0  \n6036         204.78       NaN  3487126         595500000.0  \n...             ...       ...      ...                 ...  \n3063872       64.48       NaN   244069           7303000.0  \n3070912       17.68       NaN  8269987         131226945.0  \n3074343       19.90       NaN  1116300          53284470.0  \n3075669       13.00       NaN   118843          24518708.0  \n3078062       40.61       NaN   402474          45261175.0  \n\n[2012 rows x 11 columns]",
      "text/html": "<div>\n<style scoped>\n    .dataframe tbody tr th:only-of-type {\n        vertical-align: middle;\n    }\n\n    .dataframe tbody tr th {\n        vertical-align: top;\n    }\n\n    .dataframe thead th {\n        text-align: right;\n    }\n</style>\n<table border=\"1\" class=\"dataframe\">\n  <thead>\n    <tr style=\"text-align: right;\">\n      <th></th>\n      <th>Ticker</th>\n      <th>SimFinId</th>\n      <th>Date</th>\n      <th>Open</th>\n      <th>Low</th>\n      <th>High</th>\n      <th>Close</th>\n      <th>Adj. Close</th>\n      <th>Dividend</th>\n      <th>Volume</th>\n      <th>Shares Outstanding</th>\n    </tr>\n  </thead>\n  <tbody>\n    <tr>\n      <th>570</th>\n      <td>GOOG</td>\n      <td>18</td>\n      <td>2018-03-01</td>\n      <td>1107.87</td>\n      <td>1067.00</td>\n      <td>1110.12</td>\n      <td>1069.52</td>\n      <td>1069.52</td>\n      <td>NaN</td>\n      <td>2515910</td>\n      <td>695297530.0</td>\n    </tr>\n    <tr>\n      <th>2259</th>\n      <td>ATVI</td>\n      <td>243</td>\n      <td>2018-03-01</td>\n      <td>73.16</td>\n      <td>71.52</td>\n      <td>73.42</td>\n      <td>72.01</td>\n      <td>70.26</td>\n      <td>NaN</td>\n      <td>8123915</td>\n      <td>758631663.0</td>\n    </tr>\n    <tr>\n      <th>3518</th>\n      <td>BLK</td>\n      <td>914</td>\n      <td>2018-03-01</td>\n      <td>548.60</td>\n      <td>527.03</td>\n      <td>549.02</td>\n      <td>535.58</td>\n      <td>487.00</td>\n      <td>NaN</td>\n      <td>779735</td>\n      <td>160718719.0</td>\n    </tr>\n    <tr>\n      <th>4777</th>\n      <td>ADBE</td>\n      <td>14099</td>\n      <td>2018-03-01</td>\n      <td>210.32</td>\n      <td>204.45</td>\n      <td>210.68</td>\n      <td>206.03</td>\n      <td>206.03</td>\n      <td>NaN</td>\n      <td>2632234</td>\n      <td>491578529.0</td>\n    </tr>\n    <tr>\n      <th>6036</th>\n      <td>MMM</td>\n      <td>22219</td>\n      <td>2018-03-01</td>\n      <td>236.15</td>\n      <td>229.53</td>\n      <td>236.83</td>\n      <td>231.34</td>\n      <td>204.78</td>\n      <td>NaN</td>\n      <td>3487126</td>\n      <td>595500000.0</td>\n    </tr>\n    <tr>\n      <th>...</th>\n      <td>...</td>\n      <td>...</td>\n      <td>...</td>\n      <td>...</td>\n      <td>...</td>\n      <td>...</td>\n      <td>...</td>\n      <td>...</td>\n      <td>...</td>\n      <td>...</td>\n      <td>...</td>\n    </tr>\n    <tr>\n      <th>3063872</th>\n      <td>HSKA</td>\n      <td>1253403</td>\n      <td>2018-03-01</td>\n      <td>67.41</td>\n      <td>63.03</td>\n      <td>67.41</td>\n      <td>64.48</td>\n      <td>64.48</td>\n      <td>NaN</td>\n      <td>244069</td>\n      <td>7303000.0</td>\n    </tr>\n    <tr>\n      <th>3070912</th>\n      <td>VIPS</td>\n      <td>1253412</td>\n      <td>2018-03-01</td>\n      <td>17.41</td>\n      <td>17.37</td>\n      <td>18.15</td>\n      <td>17.68</td>\n      <td>17.68</td>\n      <td>NaN</td>\n      <td>8269987</td>\n      <td>131226945.0</td>\n    </tr>\n    <tr>\n      <th>3074343</th>\n      <td>HCC</td>\n      <td>1253797</td>\n      <td>2018-03-01</td>\n      <td>31.37</td>\n      <td>30.54</td>\n      <td>31.97</td>\n      <td>30.68</td>\n      <td>19.90</td>\n      <td>NaN</td>\n      <td>1116300</td>\n      <td>53284470.0</td>\n    </tr>\n    <tr>\n      <th>3075669</th>\n      <td>GAIA</td>\n      <td>1291281</td>\n      <td>2018-03-01</td>\n      <td>12.75</td>\n      <td>12.75</td>\n      <td>13.20</td>\n      <td>13.00</td>\n      <td>13.00</td>\n      <td>NaN</td>\n      <td>118843</td>\n      <td>24518708.0</td>\n    </tr>\n    <tr>\n      <th>3078062</th>\n      <td>XLRN</td>\n      <td>1291790</td>\n      <td>2018-03-01</td>\n      <td>42.29</td>\n      <td>39.51</td>\n      <td>42.90</td>\n      <td>40.61</td>\n      <td>40.61</td>\n      <td>NaN</td>\n      <td>402474</td>\n      <td>45261175.0</td>\n    </tr>\n  </tbody>\n</table>\n<p>2012 rows × 11 columns</p>\n</div>"
     },
     "execution_count": 52,
     "metadata": {},
     "output_type": "execute_result"
    }
   ],
   "source": [
    "# Use the .isin() dataframe function to first cut down the share prices dataframe to only contain stocks that are in the \n",
    "# Income statement dataframe.\n",
    "stock_prices_2018 = stock_prices_2018[stock_prices_2018['Ticker'].isin(Income_Data_2018['Ticker'])]\n",
    "\n",
    "# See the DataFrame\n",
    "stock_prices_2018"
   ]
  },
  {
   "cell_type": "code",
   "execution_count": 53,
   "metadata": {
    "pycharm": {
     "name": "#%%\n"
    }
   },
   "outputs": [
    {
     "data": {
      "text/plain": "      Ticker  SimFinId Currency  Fiscal Year Fiscal Period Report Date  \\\n1          A     45846      USD         2017            FY  2017-10-31   \n7         AA    367153      USD         2017            FY  2017-12-31   \n13       AAL     68568      USD         2017            FY  2017-12-31   \n18      AAMC    847094      USD         2017            FY  2017-12-31   \n28      AAOI    671827      USD         2017            FY  2017-12-31   \n...      ...       ...      ...          ...           ...         ...   \n10492    ZTS    378251      USD         2017            FY  2017-12-31   \n10497   ZUMZ     45730      USD         2017            FY  2018-01-31   \n10505    ZVO    901866      USD         2017            FY  2017-12-31   \n10510   ZYNE    901704      USD         2017            FY  2017-12-31   \n10515   ZYXI    171401      USD         2017            FY  2017-12-31   \n\n      Publish Date Restated Date  Shares (Basic)  Shares (Diluted)  ...  \\\n1       2017-12-21    2018-12-20     322000000.0       326000000.0  ...   \n7       2018-02-26    2019-02-26     184000000.0       187000000.0  ...   \n13      2018-02-21    2019-02-25     489164000.0       491692000.0  ...   \n18      2018-03-01    2018-03-01       1570428.0         1570428.0  ...   \n28      2018-02-28    2018-02-28      19097355.0        20139105.0  ...   \n...            ...           ...             ...               ...  ...   \n10492   2018-02-15    2018-02-15     489918000.0       493161000.0  ...   \n10497   2018-03-19    2018-03-19      24679000.0        24878000.0  ...   \n10505   2018-02-21    2019-03-12      32058000.0        32794000.0  ...   \n10510   2018-03-12    2019-03-11      12914814.0        12914814.0  ...   \n10515   2018-02-28    2019-02-26      32156000.0        33196000.0  ...   \n\n       Non-Operating Income (Loss)  Interest Expense, Net  \\\n1                      -38000000.0            -57000000.0   \n7                     -131000000.0           -104000000.0   \n13                    -836000000.0           -959000000.0   \n18                       1086000.0                    0.0   \n28                      -2425000.0              -637000.0   \n...                            ...                    ...   \n10492                 -181000000.0           -175000000.0   \n10497                    -357000.0               495000.0   \n10505                    1511000.0                    NaN   \n10510                     810705.0               519554.0   \n10515                   -1450000.0             -1450000.0   \n\n       Pretax Income (Loss), Adj.  Abnormal Gains (Losses)  \\\n1                       803000000                      NaN   \n7                      1468000000             -309000000.0   \n13                     3395000000                      NaN   \n18                       -6261000                      0.0   \n28                       84526000                      NaN   \n...                           ...                      ...   \n10492                  1544000000              -19000000.0   \n10497                    48403000                      NaN   \n10505                    16619000               -8682000.0   \n10510                   -32012304                      0.0   \n10515                     7494000                      NaN   \n\n       Pretax Income (Loss)  Income Tax (Expense) Benefit, Net  \\\n1                 803000000                      -1.190000e+08   \n7                1159000000                      -6.000000e+08   \n13               3395000000                      -2.113000e+09   \n18                 -6261000                      -7.080000e+05   \n28                 84526000                      -1.057500e+07   \n...                     ...                                ...   \n10492            1525000000                      -6.630000e+08   \n10497              48403000                      -2.160100e+07   \n10505               7937000                       1.174000e+06   \n10510             -32012304                       0.000000e+00   \n10515               7494000                      -1.290000e+05   \n\n       Income (Loss) from Continuing Operations  \\\n1                                     684000000   \n7                                     559000000   \n13                                   1282000000   \n18                                     -6969000   \n28                                     73951000   \n...                                         ...   \n10492                                 862000000   \n10497                                  26802000   \n10505                                   9111000   \n10510                                 -32012304   \n10515                                   7365000   \n\n       Net Extraordinary Gains (Losses)  Net Income  Net Income (Common)  \n1                                   NaN   684000000            684000000  \n7                                   NaN   217000000            217000000  \n13                                  NaN  1282000000           1282000000  \n18                                  NaN    -6969000             -7175000  \n28                                  NaN    73951000             73951000  \n...                                 ...         ...                  ...  \n10492                               NaN   864000000            864000000  \n10497                               NaN    26802000             26802000  \n10505                               NaN     9111000              9111000  \n10510                               NaN   -32012304            -32012304  \n10515                               NaN     7365000              7365000  \n\n[2012 rows x 28 columns]",
      "text/html": "<div>\n<style scoped>\n    .dataframe tbody tr th:only-of-type {\n        vertical-align: middle;\n    }\n\n    .dataframe tbody tr th {\n        vertical-align: top;\n    }\n\n    .dataframe thead th {\n        text-align: right;\n    }\n</style>\n<table border=\"1\" class=\"dataframe\">\n  <thead>\n    <tr style=\"text-align: right;\">\n      <th></th>\n      <th>Ticker</th>\n      <th>SimFinId</th>\n      <th>Currency</th>\n      <th>Fiscal Year</th>\n      <th>Fiscal Period</th>\n      <th>Report Date</th>\n      <th>Publish Date</th>\n      <th>Restated Date</th>\n      <th>Shares (Basic)</th>\n      <th>Shares (Diluted)</th>\n      <th>...</th>\n      <th>Non-Operating Income (Loss)</th>\n      <th>Interest Expense, Net</th>\n      <th>Pretax Income (Loss), Adj.</th>\n      <th>Abnormal Gains (Losses)</th>\n      <th>Pretax Income (Loss)</th>\n      <th>Income Tax (Expense) Benefit, Net</th>\n      <th>Income (Loss) from Continuing Operations</th>\n      <th>Net Extraordinary Gains (Losses)</th>\n      <th>Net Income</th>\n      <th>Net Income (Common)</th>\n    </tr>\n  </thead>\n  <tbody>\n    <tr>\n      <th>1</th>\n      <td>A</td>\n      <td>45846</td>\n      <td>USD</td>\n      <td>2017</td>\n      <td>FY</td>\n      <td>2017-10-31</td>\n      <td>2017-12-21</td>\n      <td>2018-12-20</td>\n      <td>322000000.0</td>\n      <td>326000000.0</td>\n      <td>...</td>\n      <td>-38000000.0</td>\n      <td>-57000000.0</td>\n      <td>803000000</td>\n      <td>NaN</td>\n      <td>803000000</td>\n      <td>-1.190000e+08</td>\n      <td>684000000</td>\n      <td>NaN</td>\n      <td>684000000</td>\n      <td>684000000</td>\n    </tr>\n    <tr>\n      <th>7</th>\n      <td>AA</td>\n      <td>367153</td>\n      <td>USD</td>\n      <td>2017</td>\n      <td>FY</td>\n      <td>2017-12-31</td>\n      <td>2018-02-26</td>\n      <td>2019-02-26</td>\n      <td>184000000.0</td>\n      <td>187000000.0</td>\n      <td>...</td>\n      <td>-131000000.0</td>\n      <td>-104000000.0</td>\n      <td>1468000000</td>\n      <td>-309000000.0</td>\n      <td>1159000000</td>\n      <td>-6.000000e+08</td>\n      <td>559000000</td>\n      <td>NaN</td>\n      <td>217000000</td>\n      <td>217000000</td>\n    </tr>\n    <tr>\n      <th>13</th>\n      <td>AAL</td>\n      <td>68568</td>\n      <td>USD</td>\n      <td>2017</td>\n      <td>FY</td>\n      <td>2017-12-31</td>\n      <td>2018-02-21</td>\n      <td>2019-02-25</td>\n      <td>489164000.0</td>\n      <td>491692000.0</td>\n      <td>...</td>\n      <td>-836000000.0</td>\n      <td>-959000000.0</td>\n      <td>3395000000</td>\n      <td>NaN</td>\n      <td>3395000000</td>\n      <td>-2.113000e+09</td>\n      <td>1282000000</td>\n      <td>NaN</td>\n      <td>1282000000</td>\n      <td>1282000000</td>\n    </tr>\n    <tr>\n      <th>18</th>\n      <td>AAMC</td>\n      <td>847094</td>\n      <td>USD</td>\n      <td>2017</td>\n      <td>FY</td>\n      <td>2017-12-31</td>\n      <td>2018-03-01</td>\n      <td>2018-03-01</td>\n      <td>1570428.0</td>\n      <td>1570428.0</td>\n      <td>...</td>\n      <td>1086000.0</td>\n      <td>0.0</td>\n      <td>-6261000</td>\n      <td>0.0</td>\n      <td>-6261000</td>\n      <td>-7.080000e+05</td>\n      <td>-6969000</td>\n      <td>NaN</td>\n      <td>-6969000</td>\n      <td>-7175000</td>\n    </tr>\n    <tr>\n      <th>28</th>\n      <td>AAOI</td>\n      <td>671827</td>\n      <td>USD</td>\n      <td>2017</td>\n      <td>FY</td>\n      <td>2017-12-31</td>\n      <td>2018-02-28</td>\n      <td>2018-02-28</td>\n      <td>19097355.0</td>\n      <td>20139105.0</td>\n      <td>...</td>\n      <td>-2425000.0</td>\n      <td>-637000.0</td>\n      <td>84526000</td>\n      <td>NaN</td>\n      <td>84526000</td>\n      <td>-1.057500e+07</td>\n      <td>73951000</td>\n      <td>NaN</td>\n      <td>73951000</td>\n      <td>73951000</td>\n    </tr>\n    <tr>\n      <th>...</th>\n      <td>...</td>\n      <td>...</td>\n      <td>...</td>\n      <td>...</td>\n      <td>...</td>\n      <td>...</td>\n      <td>...</td>\n      <td>...</td>\n      <td>...</td>\n      <td>...</td>\n      <td>...</td>\n      <td>...</td>\n      <td>...</td>\n      <td>...</td>\n      <td>...</td>\n      <td>...</td>\n      <td>...</td>\n      <td>...</td>\n      <td>...</td>\n      <td>...</td>\n      <td>...</td>\n    </tr>\n    <tr>\n      <th>10492</th>\n      <td>ZTS</td>\n      <td>378251</td>\n      <td>USD</td>\n      <td>2017</td>\n      <td>FY</td>\n      <td>2017-12-31</td>\n      <td>2018-02-15</td>\n      <td>2018-02-15</td>\n      <td>489918000.0</td>\n      <td>493161000.0</td>\n      <td>...</td>\n      <td>-181000000.0</td>\n      <td>-175000000.0</td>\n      <td>1544000000</td>\n      <td>-19000000.0</td>\n      <td>1525000000</td>\n      <td>-6.630000e+08</td>\n      <td>862000000</td>\n      <td>NaN</td>\n      <td>864000000</td>\n      <td>864000000</td>\n    </tr>\n    <tr>\n      <th>10497</th>\n      <td>ZUMZ</td>\n      <td>45730</td>\n      <td>USD</td>\n      <td>2017</td>\n      <td>FY</td>\n      <td>2018-01-31</td>\n      <td>2018-03-19</td>\n      <td>2018-03-19</td>\n      <td>24679000.0</td>\n      <td>24878000.0</td>\n      <td>...</td>\n      <td>-357000.0</td>\n      <td>495000.0</td>\n      <td>48403000</td>\n      <td>NaN</td>\n      <td>48403000</td>\n      <td>-2.160100e+07</td>\n      <td>26802000</td>\n      <td>NaN</td>\n      <td>26802000</td>\n      <td>26802000</td>\n    </tr>\n    <tr>\n      <th>10505</th>\n      <td>ZVO</td>\n      <td>901866</td>\n      <td>USD</td>\n      <td>2017</td>\n      <td>FY</td>\n      <td>2017-12-31</td>\n      <td>2018-02-21</td>\n      <td>2019-03-12</td>\n      <td>32058000.0</td>\n      <td>32794000.0</td>\n      <td>...</td>\n      <td>1511000.0</td>\n      <td>NaN</td>\n      <td>16619000</td>\n      <td>-8682000.0</td>\n      <td>7937000</td>\n      <td>1.174000e+06</td>\n      <td>9111000</td>\n      <td>NaN</td>\n      <td>9111000</td>\n      <td>9111000</td>\n    </tr>\n    <tr>\n      <th>10510</th>\n      <td>ZYNE</td>\n      <td>901704</td>\n      <td>USD</td>\n      <td>2017</td>\n      <td>FY</td>\n      <td>2017-12-31</td>\n      <td>2018-03-12</td>\n      <td>2019-03-11</td>\n      <td>12914814.0</td>\n      <td>12914814.0</td>\n      <td>...</td>\n      <td>810705.0</td>\n      <td>519554.0</td>\n      <td>-32012304</td>\n      <td>0.0</td>\n      <td>-32012304</td>\n      <td>0.000000e+00</td>\n      <td>-32012304</td>\n      <td>NaN</td>\n      <td>-32012304</td>\n      <td>-32012304</td>\n    </tr>\n    <tr>\n      <th>10515</th>\n      <td>ZYXI</td>\n      <td>171401</td>\n      <td>USD</td>\n      <td>2017</td>\n      <td>FY</td>\n      <td>2017-12-31</td>\n      <td>2018-02-28</td>\n      <td>2019-02-26</td>\n      <td>32156000.0</td>\n      <td>33196000.0</td>\n      <td>...</td>\n      <td>-1450000.0</td>\n      <td>-1450000.0</td>\n      <td>7494000</td>\n      <td>NaN</td>\n      <td>7494000</td>\n      <td>-1.290000e+05</td>\n      <td>7365000</td>\n      <td>NaN</td>\n      <td>7365000</td>\n      <td>7365000</td>\n    </tr>\n  </tbody>\n</table>\n<p>2012 rows × 28 columns</p>\n</div>"
     },
     "execution_count": 53,
     "metadata": {},
     "output_type": "execute_result"
    }
   ],
   "source": [
    "# Do the same in the opposite direction. \n",
    "Income_Data_2018 = Income_Data_2018[Income_Data_2018['Ticker'].isin(stock_prices_2018['Ticker'])]\n",
    "Income_Data_2018"
   ]
  },
  {
   "cell_type": "code",
   "execution_count": 61,
   "metadata": {
    "pycharm": {
     "name": "#%%\n"
    }
   },
   "outputs": [
    {
     "data": {
      "text/plain": "   Ticker    Market Cap\n1       A  2.232122e+10\n7      AA  8.588910e+09\n13    AAL  2.662020e+10\n18   AAMC  1.076528e+08\n28   AAOI  5.618810e+08\n33   AAON  1.958605e+09\n38    AAP  8.466326e+09\n42   AAPL  9.375321e+11\n48   AAWW  1.571923e+09\n53   ABAX  1.541716e+09",
      "text/html": "<div>\n<style scoped>\n    .dataframe tbody tr th:only-of-type {\n        vertical-align: middle;\n    }\n\n    .dataframe tbody tr th {\n        vertical-align: top;\n    }\n\n    .dataframe thead th {\n        text-align: right;\n    }\n</style>\n<table border=\"1\" class=\"dataframe\">\n  <thead>\n    <tr style=\"text-align: right;\">\n      <th></th>\n      <th>Ticker</th>\n      <th>Market Cap</th>\n    </tr>\n  </thead>\n  <tbody>\n    <tr>\n      <th>1</th>\n      <td>A</td>\n      <td>2.232122e+10</td>\n    </tr>\n    <tr>\n      <th>7</th>\n      <td>AA</td>\n      <td>8.588910e+09</td>\n    </tr>\n    <tr>\n      <th>13</th>\n      <td>AAL</td>\n      <td>2.662020e+10</td>\n    </tr>\n    <tr>\n      <th>18</th>\n      <td>AAMC</td>\n      <td>1.076528e+08</td>\n    </tr>\n    <tr>\n      <th>28</th>\n      <td>AAOI</td>\n      <td>5.618810e+08</td>\n    </tr>\n    <tr>\n      <th>33</th>\n      <td>AAON</td>\n      <td>1.958605e+09</td>\n    </tr>\n    <tr>\n      <th>38</th>\n      <td>AAP</td>\n      <td>8.466326e+09</td>\n    </tr>\n    <tr>\n      <th>42</th>\n      <td>AAPL</td>\n      <td>9.375321e+11</td>\n    </tr>\n    <tr>\n      <th>48</th>\n      <td>AAWW</td>\n      <td>1.571923e+09</td>\n    </tr>\n    <tr>\n      <th>53</th>\n      <td>ABAX</td>\n      <td>1.541716e+09</td>\n    </tr>\n  </tbody>\n</table>\n</div>"
     },
     "execution_count": 61,
     "metadata": {},
     "output_type": "execute_result"
    }
   ],
   "source": [
    "# We have lost some rows in our dataframes in keeping only common stock tickers. Sometimes we loose things, such is life.\n",
    "# Arrange both income and stock price dataframes alphabetically so the rows correspond.\n",
    "# Create a new dataframe called stock_data_2018 as a copy of Income_Data_2018 (we will be adding some columns soon)\n",
    "# Create a market cap column in stock_data_2018 by multiplying the open price with the number of shares outstanding,\n",
    "# use .values to do the multiplication.\n",
    "\n",
    "stock_prices_2018 = stock_prices_2018.sort_values(by=['Ticker'])\n",
    "Income_Data_2018 = Income_Data_2018.sort_values(by=['Ticker'])\n",
    "\n",
    "# Make the stock_data DataFrame from the Income Data and add a Market Cap series.\n",
    "stock_data_2018 = Income_Data_2018\n",
    "stock_data_2018['Market Cap'] = Income_Data_2018['Shares (Diluted)'].values * stock_prices_2018['Open'].values\n",
    "stock_data_2018[['Ticker','Market Cap']].head(10)"
   ]
  },
  {
   "cell_type": "code",
   "execution_count": 64,
   "metadata": {
    "pycharm": {
     "name": "#%%\n"
    }
   },
   "outputs": [
    {
     "data": {
      "text/plain": "<AxesSubplot:>"
     },
     "execution_count": 64,
     "metadata": {},
     "output_type": "execute_result"
    },
    {
     "data": {
      "text/plain": "<Figure size 1200x750 with 1 Axes>",
      "image/png": "[encoded data removed]"
     },
     "metadata": {
      "needs_background": "light"
     },
     "output_type": "display_data"
    }
   ],
   "source": [
    "# Take a look at the distribution of Market Caps in the stock market with a histogram.\n",
    "# use a large number of hisogram bins and a log scale, this will enable you to view the data better.\n",
    "# You will see that there are many at the low end, and very few super large corporations in America\n",
    "\n",
    "stock_data_2018['Market Cap'].hist(bins=500, log=True)\n",
    "# Try to format this graph yourself with title, axis labels and so on."
   ]
  },
  {
   "cell_type": "markdown",
   "metadata": {
    "pycharm": {
     "name": "#%% md\n"
    }
   },
   "source": [
    "## Using market cap, make a price/earnings Series in the Stock_Data DataFrame"
   ]
  },
  {
   "cell_type": "code",
   "execution_count": 65,
   "metadata": {
    "pycharm": {
     "name": "#%%\n"
    }
   },
   "outputs": [
    {
     "data": {
      "text/plain": "<AxesSubplot:>"
     },
     "execution_count": 65,
     "metadata": {},
     "output_type": "execute_result"
    },
    {
     "data": {
      "text/plain": "<Figure size 1200x750 with 1 Axes>",
      "image/png": "[encoded data removed]"
     },
     "metadata": {
      "needs_background": "light"
     },
     "output_type": "display_data"
    }
   ],
   "source": [
    "# Define a new column for price/earnings\n",
    "# and view the histogram for it\n",
    "\n",
    "stock_data_2018['Price/Earnings'] = stock_data_2018['Market Cap']/stock_data_2018['Net Income']\n",
    "stock_data_2018['Price/Earnings'].hist(bins=500, log=True)\n",
    "# Notice that there are values all over the place \n",
    "# some p/e ratios are above 10,000! and there are many below 0 (they don't earn eanything!)"
   ]
  },
  {
   "cell_type": "markdown",
   "metadata": {
    "pycharm": {
     "name": "#%% md\n"
    }
   },
   "source": [
    "# Filter your stock data\n",
    "Filter your stock data for a reasonable range of price/earnings ratios of companies you might invest in, say from 5\n",
    " to 50, and look at the histogram of the resulting companies.\n",
    "You may need to use a boolean list with some logic to do so."
   ]
  },
  {
   "cell_type": "code",
   "execution_count": 66,
   "metadata": {
    "pycharm": {
     "name": "#%%\n"
    }
   },
   "outputs": [
    {
     "ename": "SyntaxError",
     "evalue": "invalid syntax (<ipython-input-66-92df77f840a5>, line 2)",
     "output_type": "error",
     "traceback": [
      "\u001B[1;36m  File \u001B[1;32m\"<ipython-input-66-92df77f840a5>\"\u001B[1;36m, line \u001B[1;32m2\u001B[0m\n\u001B[1;33m    stock_data_2018[((stock_data_2018['Price/Earnings'] >= 5) & (????['Price/Earnings'] <= 50))]['Price/Earnings'].hist(\u001B[0m\n\u001B[1;37m                                                                 ^\u001B[0m\n\u001B[1;31mSyntaxError\u001B[0m\u001B[1;31m:\u001B[0m invalid syntax\n"
     ]
    }
   ],
   "source": [
    "# Make the same histogram as before for p/e but this time after a filter by p/e above 5 and below 50.\n",
    "stock_data_2018[((stock_data_2018['Price/Earnings'] >= 5) & (????['Price/Earnings'] <= 50))]['Price/Earnings'].hist("
   ]
  },
  {
   "cell_type": "code",
   "execution_count": null,
   "metadata": {
    "pycharm": {
     "name": "#%%\n"
    }
   },
   "outputs": [],
   "source": [
    "#View a histogram of a different column, say market cap, but with the same p/e filter\n",
    "stock_data_2018[((stock_data_2018['Price/Earnings'] >= 5) & (stock_data_2018['Price/Earnings'] <= 50))]['???'].hist(log=True)"
   ]
  },
  {
   "cell_type": "code",
   "execution_count": null,
   "metadata": {
    "scrolled": true,
    "pycharm": {
     "name": "#%%\n"
    }
   },
   "outputs": [],
   "source": [
    "# You can also plot scatter plots with Pandas, here is an example scatter plot of p/e with Market cap.\n",
    "# It appears as though the largest companies have a p/e around 20-35, for the rest nearly any p/e can be found.\n",
    "stock_data_2018[((stock_data_2018['Price/Earnings'] >= 5) & (stock_data_2018['Price/Earnings'] <= 50))].plot.scatter(x = 'Price/Earnings', y = 'Market Cap')"
   ]
  },
  {
   "cell_type": "markdown",
   "metadata": {
    "pycharm": {
     "name": "#%% md\n"
    }
   },
   "source": [
    "End of Exercise 6. With the tools you have you are now able to use Pandas to filter through fundamental stock data. There are a myriad of ratios and analyses that may be carried out to filter through stocks to find good investments. In the next chapter we will learn some basics of Machine Learning to try and sift through data and find useful infomation."
   ]
  },
  {
   "cell_type": "markdown",
   "metadata": {
    "pycharm": {
     "name": "#%% md\n"
    }
   },
   "source": [
    "# Pandas Data Reader"
   ]
  },
  {
   "cell_type": "code",
   "execution_count": null,
   "metadata": {
    "scrolled": false,
    "pycharm": {
     "name": "#%%\n"
    }
   },
   "outputs": [],
   "source": [
    "import pandas as pd\n",
    "import pandas_datareader.data as pdr\n",
    "from matplotlib import pyplot as plt\n",
    "\n",
    "start = pd.to_datetime('2019-05-01')\n",
    "end = pd.to_datetime('2020-05-01')\n",
    "tickerData = pdr.DataReader('SPY', 'yahoo', start, end);\n",
    "\n",
    "plt.plot(tickerData['Open']);\n",
    "plt.grid()\n",
    "plt.xlabel('Date')\n",
    "plt.ylabel('SPY value')"
   ]
  },
  {
   "cell_type": "code",
   "execution_count": null,
   "metadata": {
    "pycharm": {
     "name": "#%%\n"
    }
   },
   "outputs": [],
   "source": [
    "tickerData"
   ]
  },
  {
   "cell_type": "markdown",
   "metadata": {
    "pycharm": {
     "name": "#%% md\n"
    }
   },
   "source": [
    "### iloc and loc"
   ]
  },
  {
   "cell_type": "code",
   "execution_count": null,
   "metadata": {
    "pycharm": {
     "name": "#%%\n"
    }
   },
   "outputs": [],
   "source": [
    "# .iloc[] selects rows like a list"
   ]
  },
  {
   "cell_type": "code",
   "execution_count": null,
   "metadata": {
    "pycharm": {
     "name": "#%%\n"
    }
   },
   "outputs": [],
   "source": [
    "tickerData.iloc[-5:] #last 5"
   ]
  },
  {
   "cell_type": "code",
   "execution_count": null,
   "metadata": {
    "pycharm": {
     "name": "#%%\n"
    }
   },
   "outputs": [],
   "source": [
    "tickerData.iloc[:5] #first 5"
   ]
  },
  {
   "cell_type": "code",
   "execution_count": null,
   "metadata": {
    "pycharm": {
     "name": "#%%\n"
    }
   },
   "outputs": [],
   "source": [
    "tickerData.iloc[207] # row 207"
   ]
  },
  {
   "cell_type": "code",
   "execution_count": null,
   "metadata": {
    "pycharm": {
     "name": "#%%\n"
    }
   },
   "outputs": [],
   "source": [
    "# .loc[] selects rows using the index. With Timeseries data like this, the index is a date, not a number.\n",
    "tickerData.loc['2019-05-01']"
   ]
  },
  {
   "cell_type": "code",
   "execution_count": null,
   "metadata": {
    "pycharm": {
     "name": "#%%\n"
    }
   },
   "outputs": [],
   "source": [
    "tickerData.loc[tickerData.index>'2020-01-01']['Close'].plot()"
   ]
  },
  {
   "cell_type": "code",
   "execution_count": null,
   "metadata": {
    "pycharm": {
     "name": "#%%\n"
    }
   },
   "outputs": [],
   "source": []
  }
 ],
 "metadata": {
  "kernelspec": {
   "name": "pycharm-e8b61cdb",
   "language": "python",
   "display_name": "PyCharm (Math-for-Programmers-master)"
  },
  "language_info": {
   "codemirror_mode": {
    "name": "ipython",
    "version": 3
   },
   "file_extension": ".py",
   "mimetype": "text/x-python",
   "name": "python",
   "nbconvert_exporter": "python",
   "pygments_lexer": "ipython3",
   "version": "3.7.7"
  }
 },
 "nbformat": 4,
 "nbformat_minor": 4
}